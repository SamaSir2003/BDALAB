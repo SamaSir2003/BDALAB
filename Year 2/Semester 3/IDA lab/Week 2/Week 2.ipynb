{
 "cells": [
  {
   "cell_type": "markdown",
   "id": "bb1e9d72",
   "metadata": {},
   "source": [
    "## 210968002 \n",
    "## Sagar Kumar\n",
    "## Week 2\n",
    "## Exercise 2 - Introduction to Pandas"
   ]
  },
  {
   "cell_type": "code",
   "execution_count": 12,
   "id": "d25e7910",
   "metadata": {},
   "outputs": [],
   "source": [
    "import pandas as pd\n",
    "import random as r"
   ]
  },
  {
   "cell_type": "markdown",
   "id": "aac57cc4",
   "metadata": {},
   "source": [
    " ### Q1\n",
    " #### Create a data frame with details of 10 students and columns as Roll Number, Name, Gender, Marks1, Marks2, Marks3."
   ]
  },
  {
   "cell_type": "code",
   "execution_count": 13,
   "id": "5fa1208f",
   "metadata": {},
   "outputs": [],
   "source": [
    "from random import randrange\n",
    "\n",
    "\n",
    "random = lambda:  [r.randint(0, 100) for i in range(10)]\n",
    "\n",
    "data = {\n",
    "    \"Roll Number\": [*range(1, 11)],\n",
    "    \"Name\": [\"Sagar\", \"Suzen\", \"Sourabh\", \"Srinivas\", \"Kriti\", \"Sanath\", \"Dhruv\", \"Lance\", \"John\", \"Riya\"],\n",
    "    \"Gender\": [\"M\", \"M\", \"M\", \"M\", \"F\", \"M\", \"M\", \"M\", \"M\", \"F\"],\n",
    "    \"Marks1\": random(),\n",
    "    \"Marks2\": random(), \n",
    "    \"Marks3\": random(),\n",
    "}"
   ]
  },
  {
   "cell_type": "code",
   "execution_count": 14,
   "id": "41df3d4e",
   "metadata": {},
   "outputs": [
    {
     "data": {
      "text/html": [
       "<div>\n",
       "<style scoped>\n",
       "    .dataframe tbody tr th:only-of-type {\n",
       "        vertical-align: middle;\n",
       "    }\n",
       "\n",
       "    .dataframe tbody tr th {\n",
       "        vertical-align: top;\n",
       "    }\n",
       "\n",
       "    .dataframe thead th {\n",
       "        text-align: right;\n",
       "    }\n",
       "</style>\n",
       "<table border=\"1\" class=\"dataframe\">\n",
       "  <thead>\n",
       "    <tr style=\"text-align: right;\">\n",
       "      <th></th>\n",
       "      <th>Roll Number</th>\n",
       "      <th>Name</th>\n",
       "      <th>Gender</th>\n",
       "      <th>Marks1</th>\n",
       "      <th>Marks2</th>\n",
       "      <th>Marks3</th>\n",
       "    </tr>\n",
       "  </thead>\n",
       "  <tbody>\n",
       "    <tr>\n",
       "      <th>0</th>\n",
       "      <td>1</td>\n",
       "      <td>Sagar</td>\n",
       "      <td>M</td>\n",
       "      <td>69</td>\n",
       "      <td>10</td>\n",
       "      <td>75</td>\n",
       "    </tr>\n",
       "    <tr>\n",
       "      <th>1</th>\n",
       "      <td>2</td>\n",
       "      <td>Suzen</td>\n",
       "      <td>M</td>\n",
       "      <td>3</td>\n",
       "      <td>32</td>\n",
       "      <td>48</td>\n",
       "    </tr>\n",
       "    <tr>\n",
       "      <th>2</th>\n",
       "      <td>3</td>\n",
       "      <td>Sourabh</td>\n",
       "      <td>M</td>\n",
       "      <td>79</td>\n",
       "      <td>51</td>\n",
       "      <td>46</td>\n",
       "    </tr>\n",
       "    <tr>\n",
       "      <th>3</th>\n",
       "      <td>4</td>\n",
       "      <td>Srinivas</td>\n",
       "      <td>M</td>\n",
       "      <td>53</td>\n",
       "      <td>26</td>\n",
       "      <td>92</td>\n",
       "    </tr>\n",
       "    <tr>\n",
       "      <th>4</th>\n",
       "      <td>5</td>\n",
       "      <td>Kriti</td>\n",
       "      <td>F</td>\n",
       "      <td>39</td>\n",
       "      <td>22</td>\n",
       "      <td>64</td>\n",
       "    </tr>\n",
       "    <tr>\n",
       "      <th>5</th>\n",
       "      <td>6</td>\n",
       "      <td>Sanath</td>\n",
       "      <td>M</td>\n",
       "      <td>29</td>\n",
       "      <td>81</td>\n",
       "      <td>82</td>\n",
       "    </tr>\n",
       "    <tr>\n",
       "      <th>6</th>\n",
       "      <td>7</td>\n",
       "      <td>Dhruv</td>\n",
       "      <td>M</td>\n",
       "      <td>88</td>\n",
       "      <td>35</td>\n",
       "      <td>59</td>\n",
       "    </tr>\n",
       "    <tr>\n",
       "      <th>7</th>\n",
       "      <td>8</td>\n",
       "      <td>Lance</td>\n",
       "      <td>M</td>\n",
       "      <td>37</td>\n",
       "      <td>77</td>\n",
       "      <td>63</td>\n",
       "    </tr>\n",
       "    <tr>\n",
       "      <th>8</th>\n",
       "      <td>9</td>\n",
       "      <td>John</td>\n",
       "      <td>M</td>\n",
       "      <td>8</td>\n",
       "      <td>18</td>\n",
       "      <td>98</td>\n",
       "    </tr>\n",
       "    <tr>\n",
       "      <th>9</th>\n",
       "      <td>10</td>\n",
       "      <td>Riya</td>\n",
       "      <td>F</td>\n",
       "      <td>1</td>\n",
       "      <td>37</td>\n",
       "      <td>33</td>\n",
       "    </tr>\n",
       "  </tbody>\n",
       "</table>\n",
       "</div>"
      ],
      "text/plain": [
       "   Roll Number      Name Gender  Marks1  Marks2  Marks3\n",
       "0            1     Sagar      M      69      10      75\n",
       "1            2     Suzen      M       3      32      48\n",
       "2            3   Sourabh      M      79      51      46\n",
       "3            4  Srinivas      M      53      26      92\n",
       "4            5     Kriti      F      39      22      64\n",
       "5            6    Sanath      M      29      81      82\n",
       "6            7     Dhruv      M      88      35      59\n",
       "7            8     Lance      M      37      77      63\n",
       "8            9      John      M       8      18      98\n",
       "9           10      Riya      F       1      37      33"
      ]
     },
     "execution_count": 14,
     "metadata": {},
     "output_type": "execute_result"
    }
   ],
   "source": [
    "df = pd.DataFrame(data)\n",
    "df"
   ]
  },
  {
   "cell_type": "markdown",
   "id": "e145fa39",
   "metadata": {},
   "source": [
    "### Q2\n",
    "#### Create a new column with total marks"
   ]
  },
  {
   "cell_type": "code",
   "execution_count": 15,
   "id": "8fc45ac7",
   "metadata": {},
   "outputs": [
    {
     "data": {
      "text/html": [
       "<div>\n",
       "<style scoped>\n",
       "    .dataframe tbody tr th:only-of-type {\n",
       "        vertical-align: middle;\n",
       "    }\n",
       "\n",
       "    .dataframe tbody tr th {\n",
       "        vertical-align: top;\n",
       "    }\n",
       "\n",
       "    .dataframe thead th {\n",
       "        text-align: right;\n",
       "    }\n",
       "</style>\n",
       "<table border=\"1\" class=\"dataframe\">\n",
       "  <thead>\n",
       "    <tr style=\"text-align: right;\">\n",
       "      <th></th>\n",
       "      <th>Roll Number</th>\n",
       "      <th>Name</th>\n",
       "      <th>Gender</th>\n",
       "      <th>Marks1</th>\n",
       "      <th>Marks2</th>\n",
       "      <th>Marks3</th>\n",
       "      <th>Total</th>\n",
       "    </tr>\n",
       "  </thead>\n",
       "  <tbody>\n",
       "    <tr>\n",
       "      <th>0</th>\n",
       "      <td>1</td>\n",
       "      <td>Sagar</td>\n",
       "      <td>M</td>\n",
       "      <td>69</td>\n",
       "      <td>10</td>\n",
       "      <td>75</td>\n",
       "      <td>154</td>\n",
       "    </tr>\n",
       "    <tr>\n",
       "      <th>1</th>\n",
       "      <td>2</td>\n",
       "      <td>Suzen</td>\n",
       "      <td>M</td>\n",
       "      <td>3</td>\n",
       "      <td>32</td>\n",
       "      <td>48</td>\n",
       "      <td>83</td>\n",
       "    </tr>\n",
       "    <tr>\n",
       "      <th>2</th>\n",
       "      <td>3</td>\n",
       "      <td>Sourabh</td>\n",
       "      <td>M</td>\n",
       "      <td>79</td>\n",
       "      <td>51</td>\n",
       "      <td>46</td>\n",
       "      <td>176</td>\n",
       "    </tr>\n",
       "    <tr>\n",
       "      <th>3</th>\n",
       "      <td>4</td>\n",
       "      <td>Srinivas</td>\n",
       "      <td>M</td>\n",
       "      <td>53</td>\n",
       "      <td>26</td>\n",
       "      <td>92</td>\n",
       "      <td>171</td>\n",
       "    </tr>\n",
       "    <tr>\n",
       "      <th>4</th>\n",
       "      <td>5</td>\n",
       "      <td>Kriti</td>\n",
       "      <td>F</td>\n",
       "      <td>39</td>\n",
       "      <td>22</td>\n",
       "      <td>64</td>\n",
       "      <td>125</td>\n",
       "    </tr>\n",
       "    <tr>\n",
       "      <th>5</th>\n",
       "      <td>6</td>\n",
       "      <td>Sanath</td>\n",
       "      <td>M</td>\n",
       "      <td>29</td>\n",
       "      <td>81</td>\n",
       "      <td>82</td>\n",
       "      <td>192</td>\n",
       "    </tr>\n",
       "    <tr>\n",
       "      <th>6</th>\n",
       "      <td>7</td>\n",
       "      <td>Dhruv</td>\n",
       "      <td>M</td>\n",
       "      <td>88</td>\n",
       "      <td>35</td>\n",
       "      <td>59</td>\n",
       "      <td>182</td>\n",
       "    </tr>\n",
       "    <tr>\n",
       "      <th>7</th>\n",
       "      <td>8</td>\n",
       "      <td>Lance</td>\n",
       "      <td>M</td>\n",
       "      <td>37</td>\n",
       "      <td>77</td>\n",
       "      <td>63</td>\n",
       "      <td>177</td>\n",
       "    </tr>\n",
       "    <tr>\n",
       "      <th>8</th>\n",
       "      <td>9</td>\n",
       "      <td>John</td>\n",
       "      <td>M</td>\n",
       "      <td>8</td>\n",
       "      <td>18</td>\n",
       "      <td>98</td>\n",
       "      <td>124</td>\n",
       "    </tr>\n",
       "    <tr>\n",
       "      <th>9</th>\n",
       "      <td>10</td>\n",
       "      <td>Riya</td>\n",
       "      <td>F</td>\n",
       "      <td>1</td>\n",
       "      <td>37</td>\n",
       "      <td>33</td>\n",
       "      <td>71</td>\n",
       "    </tr>\n",
       "  </tbody>\n",
       "</table>\n",
       "</div>"
      ],
      "text/plain": [
       "   Roll Number      Name Gender  Marks1  Marks2  Marks3  Total\n",
       "0            1     Sagar      M      69      10      75    154\n",
       "1            2     Suzen      M       3      32      48     83\n",
       "2            3   Sourabh      M      79      51      46    176\n",
       "3            4  Srinivas      M      53      26      92    171\n",
       "4            5     Kriti      F      39      22      64    125\n",
       "5            6    Sanath      M      29      81      82    192\n",
       "6            7     Dhruv      M      88      35      59    182\n",
       "7            8     Lance      M      37      77      63    177\n",
       "8            9      John      M       8      18      98    124\n",
       "9           10      Riya      F       1      37      33     71"
      ]
     },
     "execution_count": 15,
     "metadata": {},
     "output_type": "execute_result"
    }
   ],
   "source": [
    "total = df[\"Marks1\"] + df[\"Marks2\"] + df[\"Marks3\"]\n",
    "df[\"Total\"] = list(total)\n",
    "df"
   ]
  },
  {
   "cell_type": "markdown",
   "id": "0503a8ab",
   "metadata": {},
   "source": [
    "### Q3\n",
    "#### Find the lowest marks in Marks1"
   ]
  },
  {
   "cell_type": "code",
   "execution_count": 16,
   "id": "fa064a5d",
   "metadata": {},
   "outputs": [
    {
     "data": {
      "text/plain": [
       "1"
      ]
     },
     "execution_count": 16,
     "metadata": {},
     "output_type": "execute_result"
    }
   ],
   "source": [
    "lowest_marks = min(df[\"Marks1\"])\n",
    "lowest_marks"
   ]
  },
  {
   "cell_type": "markdown",
   "id": "062a1004",
   "metadata": {},
   "source": [
    "### Q4\n",
    "#### Find the Highest marks in Marks2"
   ]
  },
  {
   "cell_type": "code",
   "execution_count": 17,
   "id": "3042cbd4",
   "metadata": {},
   "outputs": [
    {
     "data": {
      "text/plain": [
       "81"
      ]
     },
     "execution_count": 17,
     "metadata": {},
     "output_type": "execute_result"
    }
   ],
   "source": [
    "highest_marks = max(df[\"Marks2\"])\n",
    "highest_marks"
   ]
  },
  {
   "cell_type": "markdown",
   "id": "f1e232a7",
   "metadata": {},
   "source": [
    "### Q5\n",
    "#### Find the average marks in Marks3"
   ]
  },
  {
   "cell_type": "code",
   "execution_count": 18,
   "id": "464ee016",
   "metadata": {},
   "outputs": [
    {
     "data": {
      "text/plain": [
       "66.0"
      ]
     },
     "execution_count": 18,
     "metadata": {},
     "output_type": "execute_result"
    }
   ],
   "source": [
    "marks_three = df[\"Marks3\"]\n",
    "avg_marks = sum(marks_three) / len(marks_three)\n",
    "avg_marks"
   ]
  },
  {
   "cell_type": "markdown",
   "id": "7a136d4e",
   "metadata": {},
   "source": [
    "### Q6\n",
    "#### Find student name with highest average"
   ]
  },
  {
   "cell_type": "markdown",
   "id": "f9376c99",
   "metadata": {},
   "source": []
  },
  {
   "cell_type": "code",
   "execution_count": 36,
   "id": "d4b097f6",
   "metadata": {},
   "outputs": [
    {
     "data": {
      "text/plain": [
       "'Sanath'"
      ]
     },
     "execution_count": 36,
     "metadata": {},
     "output_type": "execute_result"
    }
   ],
   "source": [
    "list(df[df[\"Total\"] == df[\"Total\"].max()].get(\"Name\"))[0]"
   ]
  },
  {
   "cell_type": "markdown",
   "id": "15b28b04",
   "metadata": {},
   "source": [
    "### Q7\n",
    "#### Find how many students failed in Marks2 (<40)"
   ]
  },
  {
   "cell_type": "code",
   "execution_count": 20,
   "id": "a1f0b40b",
   "metadata": {},
   "outputs": [
    {
     "data": {
      "text/plain": [
       "7"
      ]
     },
     "execution_count": 20,
     "metadata": {},
     "output_type": "execute_result"
    }
   ],
   "source": [
    "len(df[df[\"Marks2\"] < 40])"
   ]
  }
 ],
 "metadata": {
  "kernelspec": {
   "display_name": "Python 3.10.7 64-bit ('3.10.7')",
   "language": "python",
   "name": "python3"
  },
  "language_info": {
   "codemirror_mode": {
    "name": "ipython",
    "version": 3
   },
   "file_extension": ".py",
   "mimetype": "text/x-python",
   "name": "python",
   "nbconvert_exporter": "python",
   "pygments_lexer": "ipython3",
   "version": "3.10.7"
  },
  "vscode": {
   "interpreter": {
    "hash": "d2527d5af8432e6911072e1006b040f9b99e71a24961bbfb92c177b7d216caf2"
   }
  }
 },
 "nbformat": 4,
 "nbformat_minor": 5
}
