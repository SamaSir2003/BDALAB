{
 "cells": [
  {
   "cell_type": "code",
   "execution_count": 11,
   "id": "edb7af9f",
   "metadata": {},
   "outputs": [
    {
     "name": "stdout",
     "output_type": "stream",
     "text": [
      "WELCOME TO PYTHON\n"
     ]
    }
   ],
   "source": [
    "print(\"WELCOME TO PYTHON\")"
   ]
  },
  {
   "cell_type": "code",
   "execution_count": 12,
   "id": "32dda006",
   "metadata": {},
   "outputs": [
    {
     "name": "stdout",
     "output_type": "stream",
     "text": [
      "5\n"
     ]
    }
   ],
   "source": [
    "a = 3\n",
    "b = 2\n",
    "print(a + b)"
   ]
  },
  {
   "cell_type": "code",
   "execution_count": 13,
   "id": "6882b627",
   "metadata": {},
   "outputs": [
    {
     "name": "stdout",
     "output_type": "stream",
     "text": [
      "<class 'int'>\n",
      "<class 'int'>\n"
     ]
    }
   ],
   "source": [
    "print(type(a))\n",
    "print(type(b))"
   ]
  },
  {
   "cell_type": "code",
   "execution_count": 14,
   "id": "ea810e49",
   "metadata": {},
   "outputs": [
    {
     "name": "stdout",
     "output_type": "stream",
     "text": [
      "x more than 5\n"
     ]
    }
   ],
   "source": [
    "x = 6\n",
    "if x > 5:\n",
    "    print(\"x more than 5\")\n",
    "else:\n",
    "    print(\"x less than 5\")"
   ]
  },
  {
   "cell_type": "code",
   "execution_count": 15,
   "id": "bbcf9fca",
   "metadata": {},
   "outputs": [
    {
     "name": "stdout",
     "output_type": "stream",
     "text": [
      "['apple', 'banana', 'cherry']\n"
     ]
    }
   ],
   "source": [
    "thislist = [\"apple\", \"banana\", \"cherry\"]\n",
    "print(thislist)"
   ]
  },
  {
   "cell_type": "code",
   "execution_count": 16,
   "id": "e57d26d1",
   "metadata": {},
   "outputs": [
    {
     "data": {
      "text/plain": [
       "list"
      ]
     },
     "execution_count": 16,
     "metadata": {},
     "output_type": "execute_result"
    }
   ],
   "source": [
    "type(thislist)"
   ]
  },
  {
   "cell_type": "code",
   "execution_count": 17,
   "id": "90916bdb",
   "metadata": {},
   "outputs": [
    {
     "data": {
      "text/plain": [
       "'apple'"
      ]
     },
     "execution_count": 17,
     "metadata": {},
     "output_type": "execute_result"
    }
   ],
   "source": [
    "thislist[0]"
   ]
  },
  {
   "cell_type": "code",
   "execution_count": 18,
   "id": "30b3be69",
   "metadata": {},
   "outputs": [],
   "source": [
    "thislist[0:1] = ['mango']"
   ]
  },
  {
   "cell_type": "code",
   "execution_count": 19,
   "id": "5ae567fa",
   "metadata": {},
   "outputs": [
    {
     "data": {
      "text/plain": [
       "['mango', 'banana', 'cherry']"
      ]
     },
     "execution_count": 19,
     "metadata": {},
     "output_type": "execute_result"
    }
   ],
   "source": [
    "thislist"
   ]
  },
  {
   "cell_type": "markdown",
   "id": "e146db3b",
   "metadata": {},
   "source": [
    "## Q1"
   ]
  },
  {
   "cell_type": "code",
   "execution_count": 20,
   "id": "a2b63df2",
   "metadata": {},
   "outputs": [
    {
     "name": "stdout",
     "output_type": "stream",
     "text": [
      "15.0\n"
     ]
    }
   ],
   "source": [
    "n = int(input(\"Enter a positive integer \"))\n",
    "print((n * (n + 1)) / 2)"
   ]
  },
  {
   "cell_type": "markdown",
   "id": "bd6782cc",
   "metadata": {},
   "source": [
    "## Q2"
   ]
  },
  {
   "cell_type": "code",
   "execution_count": 21,
   "id": "2815bd9c",
   "metadata": {},
   "outputs": [
    {
     "name": "stdout",
     "output_type": "stream",
     "text": [
      "Centimeters: 170.18\n"
     ]
    }
   ],
   "source": [
    "feet = int(input(\"Enter feet \"))\n",
    "inch = int(input(\"Enter inches \"))\n",
    "\n",
    "print(f\"Centimeters: { (feet * 12 + inch) * 2.54 }\")"
   ]
  },
  {
   "cell_type": "markdown",
   "id": "f0e62660",
   "metadata": {},
   "source": [
    "## Q3"
   ]
  },
  {
   "cell_type": "code",
   "execution_count": 22,
   "id": "3a1c96d8",
   "metadata": {},
   "outputs": [
    {
     "name": "stdout",
     "output_type": "stream",
     "text": [
      "Dog years: 213\n"
     ]
    }
   ],
   "source": [
    "years = int(input(\"Enter human age \"))\n",
    "\n",
    "if (years < 0):\n",
    "    print(\"Negative number\")\n",
    "\n",
    "final = 0\n",
    "if years <= 2:\n",
    "    final = years * 10.5\n",
    "else:\n",
    "    final = 21 + (years - 2) * 4\n",
    "    \n",
    "print(f\"Dog years: { final }\")"
   ]
  },
  {
   "cell_type": "markdown",
   "id": "a4e6e042",
   "metadata": {},
   "source": [
    "## Q4"
   ]
  },
  {
   "cell_type": "code",
   "execution_count": 23,
   "id": "4e5f3b0e",
   "metadata": {},
   "outputs": [
    {
     "name": "stdout",
     "output_type": "stream",
     "text": [
      "28 or 29 days\n"
     ]
    }
   ],
   "source": [
    "month = input(\"Enter month \")\n",
    "\n",
    "# python 3.10 only\n",
    "# match month.lower().capitalize():\n",
    "#     case \"January\" | \"March\" | \"May\" | \"July\" | \"August\" | \"October\" | \"December\":\n",
    "#         print(\"31 days\")\n",
    "#     case \"April\" | \"June\" | \"September\" | \"November\":\n",
    "#         print(\"30 days\")\n",
    "#     case \"February\":\n",
    "#         print(\"28 or 29 days\")\n",
    "        \n",
    "day_dict = {(\"January\", \"March\", \"May\", \"July\", \"August\", \"October\", \"December\"): \"31 days\",\n",
    "            (\"February\"): \"28 or 29 days\",\n",
    "            (\"April\", \"June\", \"September\", \"November\"): \"30 days\",\n",
    "           }\n",
    "\n",
    "key = [i for i, j in day_dict.items() if month.lower().capitalize() in i]\n",
    "\n",
    "try:\n",
    "    print(day_dict[key[0]])\n",
    "except:\n",
    "    print(\"Invalid month entered\")"
   ]
  },
  {
   "cell_type": "code",
   "execution_count": 24,
   "id": "fe5bc4a0",
   "metadata": {},
   "outputs": [
    {
     "name": "stdout",
     "output_type": "stream",
     "text": [
      "Hello World!\n",
      "H\n",
      "llo\n",
      "llo World!\n",
      "Hello World!Hello World!\n",
      "Hello World!TEST\n"
     ]
    }
   ],
   "source": [
    "s = \"Hello World!\"\n",
    "print(s)\n",
    "print(s[0])\n",
    "print(s[2:5])\n",
    "print(s[2:])\n",
    "print(s * 2)\n",
    "print(s + \"TEST\")"
   ]
  },
  {
   "cell_type": "code",
   "execution_count": 25,
   "id": "c0bb1e39",
   "metadata": {},
   "outputs": [
    {
     "name": "stdout",
     "output_type": "stream",
     "text": [
      "5 cm\n",
      "5 cm\n"
     ]
    }
   ],
   "source": [
    "x = 5\n",
    "y = \"cm\"\n",
    "print(f\"{x} {y}\")\n",
    "print(str(x) + \" \" + y)"
   ]
  },
  {
   "cell_type": "code",
   "execution_count": 26,
   "id": "5a7e0b29",
   "metadata": {},
   "outputs": [
    {
     "name": "stdout",
     "output_type": "stream",
     "text": [
      "[1, 2, 3, 4, 5, 1, 2, 3, 4, 5]\n",
      "[1, 2, 3, 4, 5, 1, 2]\n"
     ]
    }
   ],
   "source": [
    "l = [1, 2, 3, 4, 5]\n",
    "t = [1, 2]\n",
    "print(l * 2)\n",
    "print(l + t)"
   ]
  },
  {
   "cell_type": "code",
   "execution_count": 27,
   "id": "2357d2d9",
   "metadata": {},
   "outputs": [
    {
     "name": "stdout",
     "output_type": "stream",
     "text": [
      "1\n",
      "2\n",
      "3\n",
      "4\n",
      "5\n"
     ]
    }
   ],
   "source": [
    "for i in l:\n",
    "    print(i)"
   ]
  },
  {
   "cell_type": "code",
   "execution_count": 28,
   "id": "46ff7dd3",
   "metadata": {},
   "outputs": [
    {
     "name": "stdout",
     "output_type": "stream",
     "text": [
      "3\n",
      "4\n",
      "5\n",
      "6\n",
      "7\n",
      "8\n",
      "9\n"
     ]
    }
   ],
   "source": [
    "for i in range(3, 10):\n",
    "    print(i)"
   ]
  },
  {
   "cell_type": "code",
   "execution_count": 29,
   "id": "593f6218",
   "metadata": {},
   "outputs": [],
   "source": [
    "import random as r"
   ]
  },
  {
   "cell_type": "code",
   "execution_count": 30,
   "id": "9b8d87ba",
   "metadata": {},
   "outputs": [
    {
     "data": {
      "text/plain": [
       "0.766702184751141"
      ]
     },
     "execution_count": 30,
     "metadata": {},
     "output_type": "execute_result"
    }
   ],
   "source": [
    "r.random()"
   ]
  },
  {
   "cell_type": "code",
   "execution_count": 31,
   "id": "fd766af9",
   "metadata": {},
   "outputs": [
    {
     "data": {
      "text/plain": [
       "10"
      ]
     },
     "execution_count": 31,
     "metadata": {},
     "output_type": "execute_result"
    }
   ],
   "source": [
    "r.randint(0, 20)"
   ]
  },
  {
   "cell_type": "code",
   "execution_count": 32,
   "id": "f735b223",
   "metadata": {},
   "outputs": [
    {
     "data": {
      "text/plain": [
       "4"
      ]
     },
     "execution_count": 32,
     "metadata": {},
     "output_type": "execute_result"
    }
   ],
   "source": [
    "r.choice([1, 2, 3, 4, 5])"
   ]
  },
  {
   "cell_type": "markdown",
   "id": "3d764f0e",
   "metadata": {},
   "source": [
    "## Statistics"
   ]
  },
  {
   "cell_type": "code",
   "execution_count": 33,
   "id": "11f4e557",
   "metadata": {},
   "outputs": [
    {
     "data": {
      "text/plain": [
       "[75, 25, 21, 33, 87, 24, 33, 13, 40, 46, 45, 17, 83, 83, 71, 52, 6, 0, 16]"
      ]
     },
     "execution_count": 33,
     "metadata": {},
     "output_type": "execute_result"
    }
   ],
   "source": [
    "get_rand = lambda: r.randint(0, 100)\n",
    "l = [get_rand() for i in range(19)]\n",
    "l"
   ]
  },
  {
   "cell_type": "code",
   "execution_count": 34,
   "id": "5088e4c1",
   "metadata": {},
   "outputs": [
    {
     "name": "stdout",
     "output_type": "stream",
     "text": [
      "Mean: 40.526315789473685\n"
     ]
    }
   ],
   "source": [
    "print(f\"Mean: { sum(l) / len(l) }\")"
   ]
  },
  {
   "cell_type": "code",
   "execution_count": 35,
   "id": "502bc83c",
   "metadata": {},
   "outputs": [
    {
     "name": "stdout",
     "output_type": "stream",
     "text": [
      "Median: 33\n"
     ]
    }
   ],
   "source": [
    "l.sort()\n",
    "print(f\"Median: { l[int(len(l) / 2)] }\")"
   ]
  },
  {
   "cell_type": "code",
   "execution_count": 36,
   "id": "778ec288",
   "metadata": {},
   "outputs": [
    {
     "name": "stdout",
     "output_type": "stream",
     "text": [
      "Mode: [33, 83]\n"
     ]
    }
   ],
   "source": [
    "count = max([l.count(i) for i in l])\n",
    "print(f\"Mode: { list(set([i for i in l if l.count(i) == count])) }\")"
   ]
  },
  {
   "cell_type": "code",
   "execution_count": 37,
   "id": "19cebdc4",
   "metadata": {},
   "outputs": [],
   "source": [
    "import statistics as s"
   ]
  },
  {
   "cell_type": "code",
   "execution_count": 38,
   "id": "24357497",
   "metadata": {},
   "outputs": [
    {
     "name": "stdout",
     "output_type": "stream",
     "text": [
      "40.526315789473685\n",
      "33\n",
      "33\n"
     ]
    }
   ],
   "source": [
    "print(s.mean(l))\n",
    "print(s.median(l))\n",
    "print(s.mode(l))"
   ]
  },
  {
   "cell_type": "markdown",
   "id": "00a9acd0",
   "metadata": {},
   "source": [
    "## Q5"
   ]
  },
  {
   "cell_type": "code",
   "execution_count": 39,
   "id": "c7b460b6",
   "metadata": {},
   "outputs": [
    {
     "name": "stdout",
     "output_type": "stream",
     "text": [
      "Min: 0\n",
      "Q1: 21\n",
      "Q2: 40\n",
      "Q3: 75\n",
      "Max: 87\n"
     ]
    }
   ],
   "source": [
    "# 5 number summary\n",
    "\n",
    "l.sort()\n",
    "print(f\"Min: {min(l)}\")\n",
    "print(f\"Q1: { l[int(int(len(l) + 1) / 4)] }\")\n",
    "print(f\"Q2: { l[int(int(len(l) + 1) / 2)] }\")\n",
    "print(f\"Q3: { l[int(3 * int(len(l) + 1) / 4)] }\")\n",
    "print(f\"Max: {max(l)}\")"
   ]
  },
  {
   "cell_type": "markdown",
   "id": "20e5c7c9",
   "metadata": {},
   "source": [
    "## Q6"
   ]
  },
  {
   "cell_type": "code",
   "execution_count": 41,
   "id": "8fc6815c",
   "metadata": {},
   "outputs": [
    {
     "name": "stdout",
     "output_type": "stream",
     "text": [
      "White\n",
      "White\n",
      "White\n"
     ]
    }
   ],
   "source": [
    "col = ord(input(\"Enter column \"))\n",
    "row = int(input(\"Enter row \"))\n",
    "\n",
    "if (row + col) % 2 == 0:\n",
    "    print(\"Black\")\n",
    "else:\n",
    "    print(\"White\")\n",
    "    \n",
    "print(\"Black\") if ((col:=ord(input(\"Enter column \")) - 96 + (row:=int(input(\"Enter row \")))) % 2 == 0) else print(\"White\")\n",
    "\n",
    "print(\"Black\") if (int(ord((cell:=input(\"Enter cell \"))[0])) + int(cell[1])) % 2 == 0 else print(\"White\")"
   ]
  },
  {
   "attachments": {},
   "cell_type": "markdown",
   "id": "d01910a0",
   "metadata": {},
   "source": [
    "## Q7"
   ]
  },
  {
   "cell_type": "code",
   "execution_count": 56,
   "id": "738156f0",
   "metadata": {},
   "outputs": [
    {
     "name": "stdout",
     "output_type": "stream",
     "text": [
      "Weight is 1159 grams\n"
     ]
    }
   ],
   "source": [
    "# Q1 in lab manual\n",
    "\n",
    "w = int(input(\"Enter number of widgets\"))\n",
    "g = int(input(\"Enter number of gizmos\"))\n",
    "\n",
    "print(f\"Weight is {w * 75 + g * 112} grams\")"
   ]
  },
  {
   "attachments": {},
   "cell_type": "markdown",
   "id": "1bca6e32",
   "metadata": {},
   "source": [
    "## Q8"
   ]
  },
  {
   "cell_type": "code",
   "execution_count": 50,
   "id": "947bc925",
   "metadata": {},
   "outputs": [
    {
     "name": "stdout",
     "output_type": "stream",
     "text": [
      "Palindrome\n"
     ]
    }
   ],
   "source": [
    "# Q5 in manual\n",
    "def palindrome():\n",
    "    p = input(\"Enter word\")\n",
    "\n",
    "    flag = True\n",
    "    for i in range(len(p)):\n",
    "        if p[i] != p[len(p) - i - 1]:\n",
    "            flag = False\n",
    "    print(\"Palindrome\") if flag else print(\"Not palindrome\")\n",
    "\n",
    "palindrome()"
   ]
  },
  {
   "attachments": {},
   "cell_type": "markdown",
   "id": "a2abb263",
   "metadata": {},
   "source": [
    "## Q9"
   ]
  },
  {
   "cell_type": "code",
   "execution_count": 57,
   "id": "82f50cca",
   "metadata": {},
   "outputs": [
    {
     "name": "stdout",
     "output_type": "stream",
     "text": [
      "New list is [3, 4, 5]\n"
     ]
    }
   ],
   "source": [
    "# Q6 in manual\n",
    "def trim(l: list, n):\n",
    "    l = sorted(l)[n:len(l) - n]\n",
    "    return l\n",
    "\n",
    "l = eval(input(\"Enter values\"))\n",
    "n = int(input(\"Enter size\"))\n",
    "print(f\"New list is {trim(l, n)}\")"
   ]
  },
  {
   "attachments": {},
   "cell_type": "markdown",
   "id": "4f0ab78b",
   "metadata": {},
   "source": [
    "## Q10"
   ]
  },
  {
   "cell_type": "code",
   "execution_count": 53,
   "id": "74a18c86",
   "metadata": {},
   "outputs": [
    {
     "name": "stdout",
     "output_type": "stream",
     "text": [
      "Original list: [1, 2, 3, 4, 5]\n",
      "New list:[3]\n"
     ]
    }
   ],
   "source": [
    "# Q7 in manual\n",
    "\n",
    "def proc():\n",
    "    l = eval(input(\"Enter list\"))  \n",
    "    if (len(l) < 4):\n",
    "        print(\"Enter more than 3 values\")\n",
    "        return\n",
    "    new = l[2:len(l) - 2]\n",
    "    print(f\"Original list: {l}\\nNew list:{new}\")\n",
    "\n",
    "proc()\n"
   ]
  },
  {
   "attachments": {},
   "cell_type": "markdown",
   "id": "1578891e",
   "metadata": {},
   "source": [
    "## Q11"
   ]
  },
  {
   "cell_type": "code",
   "execution_count": 55,
   "id": "c6fe30ba",
   "metadata": {},
   "outputs": [
    {
     "name": "stdout",
     "output_type": "stream",
     "text": [
      "Min: 1\n",
      "Max: 10\n",
      "Mean: 5.5\n",
      "Mode: 1\n",
      "Sorted list: [10, 9, 8, 7, 6, 5, 4, 3, 2, 1]\n"
     ]
    }
   ],
   "source": [
    "# Q8 in manual\n",
    "\n",
    "def sort(l: list):\n",
    "    flag = eval(input(\"Enter True for descending and False for ascending\"))\n",
    "    l.sort(reverse=flag)\n",
    "\n",
    "    print(f\"Sorted list: {l}\")\n",
    "\n",
    "def calc(l):\n",
    "    print(f\"Min: {min(l)}\")\n",
    "    print(f\"Max: {max(l)}\")\n",
    "    print(f\"Mean: {s.mean(l)}\")\n",
    "    print(f\"Mode: {s.mode(l)}\")\n",
    "    sort(l)\n",
    "\n",
    "l = eval(input(\"Enter list\"))\n",
    "calc(l)"
   ]
  }
 ],
 "metadata": {
  "kernelspec": {
   "display_name": "Python 3",
   "language": "python",
   "name": "python3"
  },
  "language_info": {
   "codemirror_mode": {
    "name": "ipython",
    "version": 3
   },
   "file_extension": ".py",
   "mimetype": "text/x-python",
   "name": "python",
   "nbconvert_exporter": "python",
   "pygments_lexer": "ipython3",
   "version": "3.10.7"
  },
  "vscode": {
   "interpreter": {
    "hash": "d2527d5af8432e6911072e1006b040f9b99e71a24961bbfb92c177b7d216caf2"
   }
  }
 },
 "nbformat": 4,
 "nbformat_minor": 5
}
