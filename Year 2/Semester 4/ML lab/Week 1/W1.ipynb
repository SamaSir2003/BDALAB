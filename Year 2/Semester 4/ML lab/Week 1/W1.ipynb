{
 "cells": [
  {
   "cell_type": "code",
   "execution_count": 1,
   "id": "edb7af9f",
   "metadata": {},
   "outputs": [
    {
     "name": "stdout",
     "output_type": "stream",
     "text": [
      "WELCOME TO PYTHON\n"
     ]
    }
   ],
   "source": [
    "print(\"WELCOME TO PYTHON\")"
   ]
  },
  {
   "cell_type": "code",
   "execution_count": 2,
   "id": "32dda006",
   "metadata": {},
   "outputs": [
    {
     "name": "stdout",
     "output_type": "stream",
     "text": [
      "5\n"
     ]
    }
   ],
   "source": [
    "a = 3\n",
    "b = 2\n",
    "print(a + b)"
   ]
  },
  {
   "cell_type": "code",
   "execution_count": 3,
   "id": "6882b627",
   "metadata": {},
   "outputs": [
    {
     "name": "stdout",
     "output_type": "stream",
     "text": [
      "<class 'int'>\n",
      "<class 'int'>\n"
     ]
    }
   ],
   "source": [
    "print(type(a))\n",
    "print(type(b))"
   ]
  },
  {
   "cell_type": "code",
   "execution_count": 4,
   "id": "ea810e49",
   "metadata": {},
   "outputs": [
    {
     "name": "stdout",
     "output_type": "stream",
     "text": [
      "x more than 5\n"
     ]
    }
   ],
   "source": [
    "x = 6\n",
    "if x > 5:\n",
    "    print(\"x more than 5\")\n",
    "else:\n",
    "    print(\"x less than 5\")"
   ]
  },
  {
   "cell_type": "code",
   "execution_count": 5,
   "id": "bbcf9fca",
   "metadata": {},
   "outputs": [
    {
     "name": "stdout",
     "output_type": "stream",
     "text": [
      "['apple', 'banana', 'cherry']\n"
     ]
    }
   ],
   "source": [
    "thislist = [\"apple\", \"banana\", \"cherry\"]\n",
    "print(thislist)"
   ]
  },
  {
   "cell_type": "code",
   "execution_count": 6,
   "id": "e57d26d1",
   "metadata": {},
   "outputs": [
    {
     "data": {
      "text/plain": [
       "list"
      ]
     },
     "execution_count": 6,
     "metadata": {},
     "output_type": "execute_result"
    }
   ],
   "source": [
    "type(thislist)"
   ]
  },
  {
   "cell_type": "code",
   "execution_count": 7,
   "id": "90916bdb",
   "metadata": {},
   "outputs": [
    {
     "data": {
      "text/plain": [
       "'apple'"
      ]
     },
     "execution_count": 7,
     "metadata": {},
     "output_type": "execute_result"
    }
   ],
   "source": [
    "thislist[0]"
   ]
  },
  {
   "cell_type": "code",
   "execution_count": 8,
   "id": "30b3be69",
   "metadata": {},
   "outputs": [],
   "source": [
    "thislist[0:1] = ['mango']"
   ]
  },
  {
   "cell_type": "code",
   "execution_count": 9,
   "id": "5ae567fa",
   "metadata": {},
   "outputs": [
    {
     "data": {
      "text/plain": [
       "['mango', 'banana', 'cherry']"
      ]
     },
     "execution_count": 9,
     "metadata": {},
     "output_type": "execute_result"
    }
   ],
   "source": [
    "thislist"
   ]
  },
  {
   "cell_type": "markdown",
   "id": "e146db3b",
   "metadata": {},
   "source": [
    "## Q1"
   ]
  },
  {
   "cell_type": "code",
   "execution_count": 10,
   "id": "a2b63df2",
   "metadata": {},
   "outputs": [
    {
     "name": "stdout",
     "output_type": "stream",
     "text": [
      "Enter a positive integer 5\n",
      "15.0\n"
     ]
    }
   ],
   "source": [
    "n = int(input(\"Enter a positive integer \"))\n",
    "print((n * (n + 1)) / 2)"
   ]
  },
  {
   "cell_type": "markdown",
   "id": "bd6782cc",
   "metadata": {},
   "source": [
    "## Q2"
   ]
  },
  {
   "cell_type": "code",
   "execution_count": 12,
   "id": "2815bd9c",
   "metadata": {},
   "outputs": [
    {
     "name": "stdout",
     "output_type": "stream",
     "text": [
      "Enter feet 5\n",
      "Enter inches 7\n",
      "Centimeters: 170.18\n"
     ]
    }
   ],
   "source": [
    "feet = int(input(\"Enter feet \"))\n",
    "inch = int(input(\"Enter inches \"))\n",
    "\n",
    "print(f\"Centimeters: { (feet * 12 + inch) * 2.54 }\")"
   ]
  },
  {
   "cell_type": "markdown",
   "id": "f0e62660",
   "metadata": {},
   "source": [
    "## Q3"
   ]
  },
  {
   "cell_type": "code",
   "execution_count": 13,
   "id": "3a1c96d8",
   "metadata": {},
   "outputs": [
    {
     "name": "stdout",
     "output_type": "stream",
     "text": [
      "Enter human age 3\n",
      "Dog years: 25\n"
     ]
    }
   ],
   "source": [
    "years = int(input(\"Enter human age \"))\n",
    "\n",
    "if (years < 0):\n",
    "    print(\"Negative number\")\n",
    "\n",
    "final = 0\n",
    "if years <= 2:\n",
    "    final = years * 10.5\n",
    "else:\n",
    "    final = 21 + (years - 2) * 4\n",
    "    \n",
    "print(f\"Dog years: { final }\")"
   ]
  },
  {
   "cell_type": "markdown",
   "id": "a4e6e042",
   "metadata": {},
   "source": [
    "## Q4"
   ]
  },
  {
   "cell_type": "code",
   "execution_count": 14,
   "id": "4e5f3b0e",
   "metadata": {},
   "outputs": [
    {
     "name": "stdout",
     "output_type": "stream",
     "text": [
      "Enter month January\n",
      "31 days\n"
     ]
    }
   ],
   "source": [
    "month = input(\"Enter month \")\n",
    "\n",
    "# python 3.10 only\n",
    "# match month.lower().capitalize():\n",
    "#     case \"January\" | \"March\" | \"May\" | \"July\" | \"August\" | \"October\" | \"December\":\n",
    "#         print(\"31 days\")\n",
    "#     case \"April\" | \"June\" | \"September\" | \"November\":\n",
    "#         print(\"30 days\")\n",
    "#     case \"February\":\n",
    "#         print(\"28 or 29 days\")\n",
    "        \n",
    "day_dict = {(\"January\", \"March\", \"May\", \"July\", \"August\", \"October\", \"December\"): \"31 days\",\n",
    "            (\"February\"): \"28 or 29 days\",\n",
    "            (\"April\", \"June\", \"September\", \"November\"): \"30 days\",\n",
    "           }\n",
    "\n",
    "key = [i for i, j in day_dict.items() if month.lower().capitalize() in i]\n",
    "\n",
    "print(day_dict[key[0]])"
   ]
  },
  {
   "cell_type": "code",
   "execution_count": 15,
   "id": "fe5bc4a0",
   "metadata": {},
   "outputs": [
    {
     "name": "stdout",
     "output_type": "stream",
     "text": [
      "Hello World!\n",
      "H\n",
      "llo\n",
      "llo World!\n",
      "Hello World!Hello World!\n",
      "Hello World!TEST\n"
     ]
    }
   ],
   "source": [
    "s = \"Hello World!\"\n",
    "print(s)\n",
    "print(s[0])\n",
    "print(s[2:5])\n",
    "print(s[2:])\n",
    "print(s * 2)\n",
    "print(s + \"TEST\")"
   ]
  },
  {
   "cell_type": "code",
   "execution_count": 17,
   "id": "c0bb1e39",
   "metadata": {},
   "outputs": [
    {
     "name": "stdout",
     "output_type": "stream",
     "text": [
      "5 cm\n",
      "5 cm\n"
     ]
    }
   ],
   "source": [
    "x = 5\n",
    "y = \"cm\"\n",
    "print(f\"{x} {y}\")\n",
    "print(str(x) + \" \" + y)"
   ]
  },
  {
   "cell_type": "code",
   "execution_count": 18,
   "id": "5a7e0b29",
   "metadata": {},
   "outputs": [
    {
     "name": "stdout",
     "output_type": "stream",
     "text": [
      "[1, 2, 3, 4, 5, 1, 2, 3, 4, 5]\n",
      "[1, 2, 3, 4, 5, 1, 2]\n"
     ]
    }
   ],
   "source": [
    "l = [1, 2, 3, 4, 5]\n",
    "t = [1, 2]\n",
    "print(l * 2)\n",
    "print(l + t)"
   ]
  },
  {
   "cell_type": "code",
   "execution_count": 19,
   "id": "2357d2d9",
   "metadata": {},
   "outputs": [
    {
     "name": "stdout",
     "output_type": "stream",
     "text": [
      "1\n",
      "2\n",
      "3\n",
      "4\n",
      "5\n"
     ]
    }
   ],
   "source": [
    "for i in l:\n",
    "    print(i)"
   ]
  },
  {
   "cell_type": "code",
   "execution_count": 21,
   "id": "46ff7dd3",
   "metadata": {},
   "outputs": [
    {
     "name": "stdout",
     "output_type": "stream",
     "text": [
      "3\n",
      "4\n",
      "5\n",
      "6\n",
      "7\n",
      "8\n",
      "9\n"
     ]
    }
   ],
   "source": [
    "for i in range(3, 10):\n",
    "    print(i)"
   ]
  },
  {
   "cell_type": "code",
   "execution_count": 22,
   "id": "593f6218",
   "metadata": {},
   "outputs": [],
   "source": [
    "import random as r"
   ]
  },
  {
   "cell_type": "code",
   "execution_count": 23,
   "id": "9b8d87ba",
   "metadata": {},
   "outputs": [
    {
     "data": {
      "text/plain": [
       "0.351124360737903"
      ]
     },
     "execution_count": 23,
     "metadata": {},
     "output_type": "execute_result"
    }
   ],
   "source": [
    "r.random()"
   ]
  },
  {
   "cell_type": "code",
   "execution_count": 24,
   "id": "fd766af9",
   "metadata": {},
   "outputs": [
    {
     "data": {
      "text/plain": [
       "3"
      ]
     },
     "execution_count": 24,
     "metadata": {},
     "output_type": "execute_result"
    }
   ],
   "source": [
    "r.randint(0, 20)"
   ]
  },
  {
   "cell_type": "code",
   "execution_count": 25,
   "id": "f735b223",
   "metadata": {},
   "outputs": [
    {
     "data": {
      "text/plain": [
       "2"
      ]
     },
     "execution_count": 25,
     "metadata": {},
     "output_type": "execute_result"
    }
   ],
   "source": [
    "r.choice([1, 2, 3, 4, 5])"
   ]
  },
  {
   "cell_type": "markdown",
   "id": "3d764f0e",
   "metadata": {},
   "source": [
    "## Statistics"
   ]
  },
  {
   "cell_type": "code",
   "execution_count": 43,
   "id": "11f4e557",
   "metadata": {},
   "outputs": [
    {
     "data": {
      "text/plain": [
       "[21, 0, 28, 29, 98, 58, 45, 99, 9, 76, 27, 71, 84, 38, 3, 6, 76, 19, 45]"
      ]
     },
     "execution_count": 43,
     "metadata": {},
     "output_type": "execute_result"
    }
   ],
   "source": [
    "get_rand = lambda: r.randint(0, 100)\n",
    "l = [get_rand() for i in range(19)]\n",
    "l"
   ]
  },
  {
   "cell_type": "code",
   "execution_count": 44,
   "id": "5088e4c1",
   "metadata": {},
   "outputs": [
    {
     "name": "stdout",
     "output_type": "stream",
     "text": [
      "Mean: 43.78947368421053\n"
     ]
    }
   ],
   "source": [
    "print(f\"Mean: { sum(l) / len(l) }\")"
   ]
  },
  {
   "cell_type": "code",
   "execution_count": 45,
   "id": "502bc83c",
   "metadata": {},
   "outputs": [
    {
     "name": "stdout",
     "output_type": "stream",
     "text": [
      "Median: 38\n"
     ]
    }
   ],
   "source": [
    "l.sort()\n",
    "print(f\"Median: { l[int(len(l) / 2)] }\")"
   ]
  },
  {
   "cell_type": "code",
   "execution_count": 54,
   "id": "778ec288",
   "metadata": {},
   "outputs": [
    {
     "name": "stdout",
     "output_type": "stream",
     "text": [
      "Mode: [76, 45]\n"
     ]
    }
   ],
   "source": [
    "count = max([l.count(i) for i in l])\n",
    "print(f\"Mode: { list(set([i for i in l if l.count(i) == count])) }\")"
   ]
  },
  {
   "cell_type": "code",
   "execution_count": 55,
   "id": "19cebdc4",
   "metadata": {},
   "outputs": [],
   "source": [
    "import statistics as s"
   ]
  },
  {
   "cell_type": "code",
   "execution_count": 56,
   "id": "24357497",
   "metadata": {},
   "outputs": [
    {
     "name": "stdout",
     "output_type": "stream",
     "text": [
      "43.78947368421053\n",
      "38\n",
      "45\n"
     ]
    }
   ],
   "source": [
    "print(s.mean(l))\n",
    "print(s.median(l))\n",
    "print(s.mode(l))"
   ]
  },
  {
   "cell_type": "markdown",
   "id": "00a9acd0",
   "metadata": {},
   "source": [
    "## Q5"
   ]
  },
  {
   "cell_type": "code",
   "execution_count": 58,
   "id": "c7b460b6",
   "metadata": {},
   "outputs": [
    {
     "name": "stdout",
     "output_type": "stream",
     "text": [
      "Min: 0\n",
      "Q1: 19\n",
      "Q2: 38\n",
      "Q3: 76\n",
      "Max: 99\n"
     ]
    }
   ],
   "source": [
    "# 5 number summary\n",
    "\n",
    "l.sort()\n",
    "print(f\"Min: {min(l)}\")\n",
    "print(f\"Q1: { l[int(int(len(l)) / 4)] }\")\n",
    "print(f\"Q2: { l[int(int(len(l)) / 2)] }\")\n",
    "print(f\"Q3: { l[int(3 * int(len(l)) / 4)] }\")\n",
    "print(f\"Max: {max(l)}\")"
   ]
  },
  {
   "cell_type": "markdown",
   "id": "20e5c7c9",
   "metadata": {},
   "source": [
    "## Q6"
   ]
  },
  {
   "cell_type": "code",
   "execution_count": 66,
   "id": "8fc6815c",
   "metadata": {},
   "outputs": [
    {
     "name": "stdout",
     "output_type": "stream",
     "text": [
      "Enter column d\n",
      "Enter row 5\n",
      "White\n",
      "Enter column d\n",
      "Enter row 5\n",
      "White\n",
      "Enter cell d5\n",
      "White\n"
     ]
    }
   ],
   "source": [
    "col = ord(input(\"Enter column \"))\n",
    "row = int(input(\"Enter row \"))\n",
    "\n",
    "if (row + col) % 2 == 0:\n",
    "    print(\"Black\")\n",
    "else:\n",
    "    print(\"White\")\n",
    "    \n",
    "print(\"Black\") if ((col:=ord(input(\"Enter column \")) - 96 + (row:=int(input(\"Enter row \")))) % 2 == 0) else print(\"White\")\n",
    "\n",
    "print(\"Black\") if (int(ord((cell:=input(\"Enter cell \"))[0])) + int(cell[1])) % 2 == 0 else print(\"White\")"
   ]
  },
  {
   "cell_type": "code",
   "execution_count": null,
   "id": "8b2e8c0d",
   "metadata": {},
   "outputs": [],
   "source": []
  }
 ],
 "metadata": {
  "kernelspec": {
   "display_name": "Python 3 (ipykernel)",
   "language": "python",
   "name": "python3"
  },
  "language_info": {
   "codemirror_mode": {
    "name": "ipython",
    "version": 3
   },
   "file_extension": ".py",
   "mimetype": "text/x-python",
   "name": "python",
   "nbconvert_exporter": "python",
   "pygments_lexer": "ipython3",
   "version": "3.9.13"
  }
 },
 "nbformat": 4,
 "nbformat_minor": 5
}
