{
 "cells": [
  {
   "cell_type": "code",
   "execution_count": 7,
   "id": "b53fd811",
   "metadata": {},
   "outputs": [],
   "source": [
    "import pandas as pd\n",
    "import numpy as np\n",
    "from sklearn import linear_model\n",
    "import seaborn as sns\n",
    "import matplotlib.pyplot as plt"
   ]
  },
  {
   "cell_type": "markdown",
   "id": "3c9c1d40",
   "metadata": {},
   "source": [
    "## MLR"
   ]
  },
  {
   "cell_type": "code",
   "execution_count": 22,
   "id": "a30f20d3",
   "metadata": {},
   "outputs": [
    {
     "data": {
      "text/html": [
       "<div>\n",
       "<style scoped>\n",
       "    .dataframe tbody tr th:only-of-type {\n",
       "        vertical-align: middle;\n",
       "    }\n",
       "\n",
       "    .dataframe tbody tr th {\n",
       "        vertical-align: top;\n",
       "    }\n",
       "\n",
       "    .dataframe thead th {\n",
       "        text-align: right;\n",
       "    }\n",
       "</style>\n",
       "<table border=\"1\" class=\"dataframe\">\n",
       "  <thead>\n",
       "    <tr style=\"text-align: right;\">\n",
       "      <th></th>\n",
       "      <th>Miles Traveled (X1)</th>\n",
       "      <th>Num Deliveries (X2)</th>\n",
       "      <th>Travel Time (hrs) (Y)</th>\n",
       "    </tr>\n",
       "  </thead>\n",
       "  <tbody>\n",
       "    <tr>\n",
       "      <th>0</th>\n",
       "      <td>89</td>\n",
       "      <td>4</td>\n",
       "      <td>7.0</td>\n",
       "    </tr>\n",
       "    <tr>\n",
       "      <th>1</th>\n",
       "      <td>66</td>\n",
       "      <td>1</td>\n",
       "      <td>5.4</td>\n",
       "    </tr>\n",
       "    <tr>\n",
       "      <th>2</th>\n",
       "      <td>78</td>\n",
       "      <td>3</td>\n",
       "      <td>6.6</td>\n",
       "    </tr>\n",
       "    <tr>\n",
       "      <th>3</th>\n",
       "      <td>111</td>\n",
       "      <td>6</td>\n",
       "      <td>7.4</td>\n",
       "    </tr>\n",
       "    <tr>\n",
       "      <th>4</th>\n",
       "      <td>44</td>\n",
       "      <td>1</td>\n",
       "      <td>4.8</td>\n",
       "    </tr>\n",
       "    <tr>\n",
       "      <th>5</th>\n",
       "      <td>77</td>\n",
       "      <td>3</td>\n",
       "      <td>6.4</td>\n",
       "    </tr>\n",
       "    <tr>\n",
       "      <th>6</th>\n",
       "      <td>80</td>\n",
       "      <td>3</td>\n",
       "      <td>7.0</td>\n",
       "    </tr>\n",
       "    <tr>\n",
       "      <th>7</th>\n",
       "      <td>66</td>\n",
       "      <td>2</td>\n",
       "      <td>5.6</td>\n",
       "    </tr>\n",
       "    <tr>\n",
       "      <th>8</th>\n",
       "      <td>109</td>\n",
       "      <td>5</td>\n",
       "      <td>7.3</td>\n",
       "    </tr>\n",
       "    <tr>\n",
       "      <th>9</th>\n",
       "      <td>76</td>\n",
       "      <td>3</td>\n",
       "      <td>6.4</td>\n",
       "    </tr>\n",
       "  </tbody>\n",
       "</table>\n",
       "</div>"
      ],
      "text/plain": [
       "   Miles Traveled (X1)  Num Deliveries (X2)  Travel Time (hrs) (Y)\n",
       "0                   89                    4                    7.0\n",
       "1                   66                    1                    5.4\n",
       "2                   78                    3                    6.6\n",
       "3                  111                    6                    7.4\n",
       "4                   44                    1                    4.8\n",
       "5                   77                    3                    6.4\n",
       "6                   80                    3                    7.0\n",
       "7                   66                    2                    5.6\n",
       "8                  109                    5                    7.3\n",
       "9                   76                    3                    6.4"
      ]
     },
     "execution_count": 22,
     "metadata": {},
     "output_type": "execute_result"
    }
   ],
   "source": [
    "df = pd.read_csv('data.csv')\n",
    "df"
   ]
  },
  {
   "cell_type": "code",
   "execution_count": 23,
   "id": "7e197973",
   "metadata": {},
   "outputs": [],
   "source": [
    "labels = {\"X1\": \"Miles Traveled (X1)\",  \"X2\": \"Num Deliveries (X2)\", \"Y\": \"Travel Time (hrs) (Y)\"}"
   ]
  },
  {
   "cell_type": "code",
   "execution_count": 24,
   "id": "e42f3564",
   "metadata": {},
   "outputs": [
    {
     "name": "stdout",
     "output_type": "stream",
     "text": [
      "[0.02622257 0.18404052] 3.73215813168261 0.871399502997586\n"
     ]
    }
   ],
   "source": [
    "x=df.iloc[:,:-1]\n",
    "y=df.iloc[:,-1]\n",
    "model=linear_model.LinearRegression().fit(x,y)\n",
    "print(model.coef_,model.intercept_,model.score(x,y))"
   ]
  },
  {
   "cell_type": "code",
   "execution_count": 12,
   "id": "62c1dc45",
   "metadata": {},
   "outputs": [
    {
     "data": {
      "text/html": [
       "<div>\n",
       "<style scoped>\n",
       "    .dataframe tbody tr th:only-of-type {\n",
       "        vertical-align: middle;\n",
       "    }\n",
       "\n",
       "    .dataframe tbody tr th {\n",
       "        vertical-align: top;\n",
       "    }\n",
       "\n",
       "    .dataframe thead th {\n",
       "        text-align: right;\n",
       "    }\n",
       "</style>\n",
       "<table border=\"1\" class=\"dataframe\">\n",
       "  <thead>\n",
       "    <tr style=\"text-align: right;\">\n",
       "      <th></th>\n",
       "      <th>SNO</th>\n",
       "      <th>Miles Traveled (X1)</th>\n",
       "      <th>Num Deliveries (X2)</th>\n",
       "      <th>Travel Time (hrs) (Y)</th>\n",
       "      <th>X1</th>\n",
       "      <th>X2</th>\n",
       "      <th>Y</th>\n",
       "      <th>X1_sqr</th>\n",
       "      <th>X2_sqr</th>\n",
       "      <th>X1_Y</th>\n",
       "      <th>X2_Y</th>\n",
       "      <th>X1_X2</th>\n",
       "    </tr>\n",
       "  </thead>\n",
       "  <tbody>\n",
       "    <tr>\n",
       "      <th>0</th>\n",
       "      <td>1</td>\n",
       "      <td>89</td>\n",
       "      <td>4</td>\n",
       "      <td>7.0</td>\n",
       "      <td>9.4</td>\n",
       "      <td>0.9</td>\n",
       "      <td>0.61</td>\n",
       "      <td>88.36</td>\n",
       "      <td>0.81</td>\n",
       "      <td>5.734</td>\n",
       "      <td>0.549</td>\n",
       "      <td>8.46</td>\n",
       "    </tr>\n",
       "    <tr>\n",
       "      <th>1</th>\n",
       "      <td>2</td>\n",
       "      <td>66</td>\n",
       "      <td>1</td>\n",
       "      <td>5.4</td>\n",
       "      <td>-13.6</td>\n",
       "      <td>-2.1</td>\n",
       "      <td>-0.99</td>\n",
       "      <td>184.96</td>\n",
       "      <td>4.41</td>\n",
       "      <td>13.464</td>\n",
       "      <td>2.079</td>\n",
       "      <td>28.56</td>\n",
       "    </tr>\n",
       "    <tr>\n",
       "      <th>2</th>\n",
       "      <td>3</td>\n",
       "      <td>78</td>\n",
       "      <td>3</td>\n",
       "      <td>6.6</td>\n",
       "      <td>-1.6</td>\n",
       "      <td>-0.1</td>\n",
       "      <td>0.21</td>\n",
       "      <td>2.56</td>\n",
       "      <td>0.01</td>\n",
       "      <td>-0.336</td>\n",
       "      <td>-0.021</td>\n",
       "      <td>0.16</td>\n",
       "    </tr>\n",
       "    <tr>\n",
       "      <th>3</th>\n",
       "      <td>4</td>\n",
       "      <td>111</td>\n",
       "      <td>6</td>\n",
       "      <td>7.4</td>\n",
       "      <td>31.4</td>\n",
       "      <td>2.9</td>\n",
       "      <td>1.01</td>\n",
       "      <td>985.96</td>\n",
       "      <td>8.41</td>\n",
       "      <td>31.714</td>\n",
       "      <td>2.929</td>\n",
       "      <td>91.06</td>\n",
       "    </tr>\n",
       "    <tr>\n",
       "      <th>4</th>\n",
       "      <td>5</td>\n",
       "      <td>44</td>\n",
       "      <td>1</td>\n",
       "      <td>4.8</td>\n",
       "      <td>-35.6</td>\n",
       "      <td>-2.1</td>\n",
       "      <td>-1.59</td>\n",
       "      <td>1267.36</td>\n",
       "      <td>4.41</td>\n",
       "      <td>56.604</td>\n",
       "      <td>3.339</td>\n",
       "      <td>74.76</td>\n",
       "    </tr>\n",
       "    <tr>\n",
       "      <th>5</th>\n",
       "      <td>6</td>\n",
       "      <td>77</td>\n",
       "      <td>3</td>\n",
       "      <td>6.4</td>\n",
       "      <td>-2.6</td>\n",
       "      <td>-0.1</td>\n",
       "      <td>0.01</td>\n",
       "      <td>6.76</td>\n",
       "      <td>0.01</td>\n",
       "      <td>-0.026</td>\n",
       "      <td>-0.001</td>\n",
       "      <td>0.26</td>\n",
       "    </tr>\n",
       "    <tr>\n",
       "      <th>6</th>\n",
       "      <td>7</td>\n",
       "      <td>80</td>\n",
       "      <td>3</td>\n",
       "      <td>7.0</td>\n",
       "      <td>0.4</td>\n",
       "      <td>-0.1</td>\n",
       "      <td>0.61</td>\n",
       "      <td>0.16</td>\n",
       "      <td>0.01</td>\n",
       "      <td>0.244</td>\n",
       "      <td>-0.061</td>\n",
       "      <td>-0.04</td>\n",
       "    </tr>\n",
       "    <tr>\n",
       "      <th>7</th>\n",
       "      <td>8</td>\n",
       "      <td>66</td>\n",
       "      <td>2</td>\n",
       "      <td>5.6</td>\n",
       "      <td>-13.6</td>\n",
       "      <td>-1.1</td>\n",
       "      <td>-0.79</td>\n",
       "      <td>184.96</td>\n",
       "      <td>1.21</td>\n",
       "      <td>10.744</td>\n",
       "      <td>0.869</td>\n",
       "      <td>14.96</td>\n",
       "    </tr>\n",
       "    <tr>\n",
       "      <th>8</th>\n",
       "      <td>9</td>\n",
       "      <td>109</td>\n",
       "      <td>5</td>\n",
       "      <td>7.3</td>\n",
       "      <td>29.4</td>\n",
       "      <td>1.9</td>\n",
       "      <td>0.91</td>\n",
       "      <td>864.36</td>\n",
       "      <td>3.61</td>\n",
       "      <td>26.754</td>\n",
       "      <td>1.729</td>\n",
       "      <td>55.86</td>\n",
       "    </tr>\n",
       "    <tr>\n",
       "      <th>9</th>\n",
       "      <td>10</td>\n",
       "      <td>76</td>\n",
       "      <td>3</td>\n",
       "      <td>6.4</td>\n",
       "      <td>-3.6</td>\n",
       "      <td>-0.1</td>\n",
       "      <td>0.01</td>\n",
       "      <td>12.96</td>\n",
       "      <td>0.01</td>\n",
       "      <td>-0.036</td>\n",
       "      <td>-0.001</td>\n",
       "      <td>0.36</td>\n",
       "    </tr>\n",
       "  </tbody>\n",
       "</table>\n",
       "</div>"
      ],
      "text/plain": [
       "   SNO  Miles Traveled (X1)  Num Deliveries (X2)  Travel Time (hrs) (Y)    X1  \\\n",
       "0    1                   89                    4                    7.0   9.4   \n",
       "1    2                   66                    1                    5.4 -13.6   \n",
       "2    3                   78                    3                    6.6  -1.6   \n",
       "3    4                  111                    6                    7.4  31.4   \n",
       "4    5                   44                    1                    4.8 -35.6   \n",
       "5    6                   77                    3                    6.4  -2.6   \n",
       "6    7                   80                    3                    7.0   0.4   \n",
       "7    8                   66                    2                    5.6 -13.6   \n",
       "8    9                  109                    5                    7.3  29.4   \n",
       "9   10                   76                    3                    6.4  -3.6   \n",
       "\n",
       "    X2     Y   X1_sqr  X2_sqr    X1_Y   X2_Y  X1_X2  \n",
       "0  0.9  0.61    88.36    0.81   5.734  0.549   8.46  \n",
       "1 -2.1 -0.99   184.96    4.41  13.464  2.079  28.56  \n",
       "2 -0.1  0.21     2.56    0.01  -0.336 -0.021   0.16  \n",
       "3  2.9  1.01   985.96    8.41  31.714  2.929  91.06  \n",
       "4 -2.1 -1.59  1267.36    4.41  56.604  3.339  74.76  \n",
       "5 -0.1  0.01     6.76    0.01  -0.026 -0.001   0.26  \n",
       "6 -0.1  0.61     0.16    0.01   0.244 -0.061  -0.04  \n",
       "7 -1.1 -0.79   184.96    1.21  10.744  0.869  14.96  \n",
       "8  1.9  0.91   864.36    3.61  26.754  1.729  55.86  \n",
       "9 -0.1  0.01    12.96    0.01  -0.036 -0.001   0.36  "
      ]
     },
     "execution_count": 12,
     "metadata": {},
     "output_type": "execute_result"
    }
   ],
   "source": [
    "x1_mean = np.mean(df[labels[\"X1\"]])\n",
    "x2_mean = np.mean(df[labels[\"X2\"]])\n",
    "y_mean = np.mean(df[labels[\"Y\"]])\n",
    "\n",
    "df[\"X1\"] = df[labels[\"X1\"]] - x1_mean\n",
    "df[\"X2\"] = df[labels[\"X2\"]] - x2_mean\n",
    "df[\"Y\"] = df[labels[\"Y\"]] - y_mean\n",
    "\n",
    "df[\"X1_sqr\"] = df[\"X1\"] ** 2\n",
    "df[\"X2_sqr\"] = df[\"X2\"] ** 2\n",
    "df[\"X1_Y\"] = df[\"X1\"] * df[\"Y\"]\n",
    "df[\"X2_Y\"] = df[\"X2\"] * df[\"Y\"]\n",
    "df[\"X1_X2\"] = df[\"X1\"] * df[\"X2\"]\n",
    "\n",
    "df"
   ]
  },
  {
   "cell_type": "code",
   "execution_count": 13,
   "id": "5b408a4b",
   "metadata": {},
   "outputs": [],
   "source": [
    "sum_x1_sqr = sum(df[\"X1_sqr\"])\n",
    "sum_x2_sqr = sum(df[\"X2_sqr\"])\n",
    "sum_x1_y = sum(df[\"X1_Y\"])\n",
    "sum_x2_y = sum(df[\"X2_Y\"])\n",
    "sum_x1_x2 = sum(df[\"X1_X2\"])\n",
    "sqr_sum_x1_x2 = sum_x1_x2 ** 2"
   ]
  },
  {
   "cell_type": "code",
   "execution_count": 14,
   "id": "11ad7a78",
   "metadata": {},
   "outputs": [],
   "source": [
    "b1 = (sum_x2_sqr * sum_x1_y - sum_x1_x2 * sum_x2_y) / (sum_x1_sqr * sum_x2_sqr - sqr_sum_x1_x2)\n",
    "b2 = (sum_x1_sqr * sum_x2_y - sum_x1_x2 * sum_x1_y) / (sum_x2_sqr * sum_x1_sqr - sqr_sum_x1_x2)"
   ]
  },
  {
   "cell_type": "code",
   "execution_count": 15,
   "id": "d3af98ee",
   "metadata": {},
   "outputs": [
    {
     "data": {
      "text/plain": [
       "0.026222566122678717"
      ]
     },
     "execution_count": 15,
     "metadata": {},
     "output_type": "execute_result"
    }
   ],
   "source": [
    "b1"
   ]
  },
  {
   "cell_type": "code",
   "execution_count": 16,
   "id": "7eca7b03",
   "metadata": {},
   "outputs": [
    {
     "data": {
      "text/plain": [
       "0.18404051772650482"
      ]
     },
     "execution_count": 16,
     "metadata": {},
     "output_type": "execute_result"
    }
   ],
   "source": [
    "b2"
   ]
  },
  {
   "cell_type": "code",
   "execution_count": 17,
   "id": "c6387444",
   "metadata": {},
   "outputs": [
    {
     "data": {
      "text/plain": [
       "3.732158131682608"
      ]
     },
     "execution_count": 17,
     "metadata": {},
     "output_type": "execute_result"
    }
   ],
   "source": [
    "\n",
    "b1_x1_mean = b1 * x1_mean\n",
    "b2_x2_mean = b2 * x2_mean\n",
    "b0 = y_mean - b1_x1_mean - b2_x2_mean\n",
    "b0"
   ]
  },
  {
   "cell_type": "code",
   "execution_count": 26,
   "id": "599cfbe6",
   "metadata": {},
   "outputs": [
    {
     "data": {
      "image/png": "[encoded data removed]",
      "text/plain": [
       "<Figure size 500x500 with 1 Axes>"
      ]
     },
     "metadata": {},
     "output_type": "display_data"
    }
   ],
   "source": [
    "sns.lmplot(x = labels['X1'], y = labels['Y'], data = df, order = 2, ci = None)\n",
    "plt.show()"
   ]
  },
  {
   "cell_type": "code",
   "execution_count": 27,
   "id": "45811ef9",
   "metadata": {},
   "outputs": [
    {
     "data": {
      "image/png": "[encoded data removed]",
      "text/plain": [
       "<Figure size 500x500 with 1 Axes>"
      ]
     },
     "metadata": {},
     "output_type": "display_data"
    }
   ],
   "source": [
    "sns.lmplot(x = labels['X2'], y = labels['Y'], data = df, order = 2, ci = None)\n",
    "plt.show()"
   ]
  },
  {
   "cell_type": "code",
   "execution_count": 29,
   "id": "a4ed3b45",
   "metadata": {},
   "outputs": [
    {
     "data": {
      "image/png": "[encoded data removed]",
      "text/plain": [
       "<Figure size 500x500 with 6 Axes>"
      ]
     },
     "metadata": {},
     "output_type": "display_data"
    }
   ],
   "source": [
    "x = df.drop(labels['Y'],axis =1)\n",
    "sns.pairplot(x)\n",
    "plt.show()"
   ]
  },
  {
   "cell_type": "markdown",
   "id": "0e23cf43",
   "metadata": {},
   "source": [
    "## SLR"
   ]
  },
  {
   "cell_type": "code",
   "execution_count": 2,
   "id": "b68109bd",
   "metadata": {},
   "outputs": [
    {
     "data": {
      "text/html": [
       "<div>\n",
       "<style scoped>\n",
       "    .dataframe tbody tr th:only-of-type {\n",
       "        vertical-align: middle;\n",
       "    }\n",
       "\n",
       "    .dataframe tbody tr th {\n",
       "        vertical-align: top;\n",
       "    }\n",
       "\n",
       "    .dataframe thead th {\n",
       "        text-align: right;\n",
       "    }\n",
       "</style>\n",
       "<table border=\"1\" class=\"dataframe\">\n",
       "  <thead>\n",
       "    <tr style=\"text-align: right;\">\n",
       "      <th></th>\n",
       "      <th>Hours Studied</th>\n",
       "      <th>Grade on Exam</th>\n",
       "    </tr>\n",
       "  </thead>\n",
       "  <tbody>\n",
       "    <tr>\n",
       "      <th>0</th>\n",
       "      <td>2</td>\n",
       "      <td>69</td>\n",
       "    </tr>\n",
       "    <tr>\n",
       "      <th>1</th>\n",
       "      <td>9</td>\n",
       "      <td>98</td>\n",
       "    </tr>\n",
       "    <tr>\n",
       "      <th>2</th>\n",
       "      <td>5</td>\n",
       "      <td>82</td>\n",
       "    </tr>\n",
       "    <tr>\n",
       "      <th>3</th>\n",
       "      <td>5</td>\n",
       "      <td>77</td>\n",
       "    </tr>\n",
       "    <tr>\n",
       "      <th>4</th>\n",
       "      <td>3</td>\n",
       "      <td>71</td>\n",
       "    </tr>\n",
       "    <tr>\n",
       "      <th>5</th>\n",
       "      <td>7</td>\n",
       "      <td>84</td>\n",
       "    </tr>\n",
       "    <tr>\n",
       "      <th>6</th>\n",
       "      <td>1</td>\n",
       "      <td>55</td>\n",
       "    </tr>\n",
       "    <tr>\n",
       "      <th>7</th>\n",
       "      <td>8</td>\n",
       "      <td>94</td>\n",
       "    </tr>\n",
       "    <tr>\n",
       "      <th>8</th>\n",
       "      <td>6</td>\n",
       "      <td>84</td>\n",
       "    </tr>\n",
       "    <tr>\n",
       "      <th>9</th>\n",
       "      <td>2</td>\n",
       "      <td>64</td>\n",
       "    </tr>\n",
       "  </tbody>\n",
       "</table>\n",
       "</div>"
      ],
      "text/plain": [
       "   Hours Studied  Grade on Exam\n",
       "0              2             69\n",
       "1              9             98\n",
       "2              5             82\n",
       "3              5             77\n",
       "4              3             71\n",
       "5              7             84\n",
       "6              1             55\n",
       "7              8             94\n",
       "8              6             84\n",
       "9              2             64"
      ]
     },
     "execution_count": 2,
     "metadata": {},
     "output_type": "execute_result"
    }
   ],
   "source": [
    "slr_df = pd.read_csv(\"slr.csv\")\n",
    "slr_df"
   ]
  },
  {
   "cell_type": "code",
   "execution_count": 3,
   "id": "55dece6b",
   "metadata": {},
   "outputs": [],
   "source": [
    "xbar = np.mean(slr_df[\"Hours Studied\"])\n",
    "ybar = np.mean(slr_df[\"Grade on Exam\"])\n",
    "slr_df[\"xi-xbar\"] = slr_df[\"Hours Studied\"] - xbar\n",
    "slr_df[\"yi-ybar\"] = slr_df[\"Grade on Exam\"] - ybar\n",
    "slr_df[\"xi-xbar_sqr\"] = slr_df[\"xi-xbar\"] ** 2\n",
    "slr_df[\"mul_xi-xbar_yi-ybar\"] = slr_df[\"xi-xbar\"] * slr_df[\"yi-ybar\"]\n",
    "num = sum(slr_df[\"mul_xi-xbar_yi-ybar\"])\n",
    "denom = sum(slr_df[\"xi-xbar_sqr\"])\n",
    "\n",
    "b1 = num / denom\n",
    "b0 = ybar - b1 * xbar"
   ]
  },
  {
   "cell_type": "code",
   "execution_count": 4,
   "id": "d237613c",
   "metadata": {},
   "outputs": [
    {
     "data": {
      "text/plain": [
       "4.742603550295859"
      ]
     },
     "execution_count": 4,
     "metadata": {},
     "output_type": "execute_result"
    }
   ],
   "source": [
    "b1"
   ]
  },
  {
   "cell_type": "code",
   "execution_count": 5,
   "id": "505bf99f",
   "metadata": {},
   "outputs": [
    {
     "data": {
      "text/plain": [
       "55.035502958579876"
      ]
     },
     "execution_count": 5,
     "metadata": {},
     "output_type": "execute_result"
    }
   ],
   "source": [
    "b0"
   ]
  },
  {
   "cell_type": "code",
   "execution_count": 8,
   "id": "63511267",
   "metadata": {},
   "outputs": [
    {
     "name": "stdout",
     "output_type": "stream",
     "text": [
      "[4.74260355] 55.03550295857988 0.9505368205956815\n"
     ]
    }
   ],
   "source": [
    "df = pd.read_csv(\"slr.csv\", delimiter=\",\")\n",
    "\n",
    "x=df.iloc[:,:-1]\n",
    "y=df.iloc[:,-1]\n",
    "\n",
    "model=linear_model.LinearRegression().fit(x,y)\n",
    "print(model.coef_,model.intercept_,model.score(x,y))"
   ]
  },
  {
   "cell_type": "code",
   "execution_count": 9,
   "id": "79293e3b",
   "metadata": {},
   "outputs": [
    {
     "data": {
      "text/plain": [
       "[<matplotlib.lines.Line2D at 0x21d8e921bd0>]"
      ]
     },
     "execution_count": 9,
     "metadata": {},
     "output_type": "execute_result"
    },
    {
     "data": {
      "image/png": "[encoded data removed]",
      "text/plain": [
       "<Figure size 640x480 with 1 Axes>"
      ]
     },
     "metadata": {},
     "output_type": "display_data"
    }
   ],
   "source": [
    "plt.plot(x,y,\"r.\")\n",
    "plt.plot(x,model.predict(x))"
   ]
  }
 ],
 "metadata": {
  "kernelspec": {
   "display_name": "Python 3",
   "language": "python",
   "name": "python3"
  },
  "language_info": {
   "codemirror_mode": {
    "name": "ipython",
    "version": 3
   },
   "file_extension": ".py",
   "mimetype": "text/x-python",
   "name": "python",
   "nbconvert_exporter": "python",
   "pygments_lexer": "ipython3",
   "version": "3.11.1"
  },
  "vscode": {
   "interpreter": {
    "hash": "edcdc9c57bde001409754bb6ca7f5be6f6c3d92700c493cb94c4ad1e101a71a6"
   }
  }
 },
 "nbformat": 4,
 "nbformat_minor": 5
}
