{
 "cells": [
  {
   "cell_type": "code",
   "execution_count": 1,
   "id": "d67c5081",
   "metadata": {},
   "outputs": [],
   "source": [
    "import numpy as np"
   ]
  },
  {
   "attachments": {},
   "cell_type": "markdown",
   "id": "be7ae85c",
   "metadata": {},
   "source": [
    "## Create matrix using list"
   ]
  },
  {
   "cell_type": "code",
   "execution_count": null,
   "id": "5f456cf0",
   "metadata": {},
   "outputs": [],
   "source": [
    "rows = input(\"Enter the matrix elements separated by space and rows by comma: \").split(',')\n",
    "\n",
    "matrix = []\n",
    "for row_str in rows:\n",
    "    row = [int(elem) for elem in row_str.split()]\n",
    "    matrix.append(row)\n",
    "\n",
    "print(matrix)"
   ]
  },
  {
   "cell_type": "markdown",
   "id": "41f11c07",
   "metadata": {},
   "source": [
    "## Matrix Multiplication"
   ]
  },
  {
   "cell_type": "code",
   "execution_count": 3,
   "id": "c920bf43",
   "metadata": {},
   "outputs": [
    {
     "data": {
      "text/plain": [
       "array([[1, 2, 3],\n",
       "       [4, 5, 6],\n",
       "       [7, 8, 9]])"
      ]
     },
     "execution_count": 3,
     "metadata": {},
     "output_type": "execute_result"
    }
   ],
   "source": [
    "matrix1 = eval(input(\"Enter first matrix\"))\n",
    "matrix2 = eval(input(\"Enter second matrix\"))\n",
    "result = []\n",
    "\n",
    "for i in range(len(matrix1)):\n",
    "    result.append([])\n",
    "    for j in range(len(matrix2[0])):\n",
    "        dot_product = 0\n",
    "        for k in range(len(matrix2)):\n",
    "            dot_product += matrix1[i][k] * matrix2[k][j]\n",
    "        result[i].append(dot_product)\n",
    "print(result)"
   ]
  },
  {
   "cell_type": "markdown",
   "id": "1212d75c",
   "metadata": {},
   "source": [
    "## Matrix transpose using function"
   ]
  },
  {
   "cell_type": "code",
   "execution_count": 7,
   "id": "9fedecea",
   "metadata": {},
   "outputs": [
    {
     "name": "stdout",
     "output_type": "stream",
     "text": [
      "[[1, 3], [2, 4]]\n"
     ]
    }
   ],
   "source": [
    "def transpose():\n",
    "    matrix = eval(input(\"Enter matrix\"))\n",
    "    transposed_matrix = [[0 for j in range(len(matrix))] for i in range(len(matrix[0]))]\n",
    "    for i in range(len(matrix)):\n",
    "        for j in range(len(matrix[0])):\n",
    "            transposed_matrix[j][i] = matrix[i][j]\n",
    "    return transposed_matrix\n",
    "print(transpose())"
   ]
  },
  {
   "cell_type": "markdown",
   "id": "87c27cde",
   "metadata": {},
   "source": [
    "## Matrix inverse using Cramers rule"
   ]
  },
  {
   "cell_type": "code",
   "execution_count": 12,
   "id": "0eb4bf2d",
   "metadata": {},
   "outputs": [
    {
     "name": "stdout",
     "output_type": "stream",
     "text": [
      "[[ 1. -0.]\n",
      " [-0.  1.]]\n"
     ]
    }
   ],
   "source": [
    "import numpy as np\n",
    "\n",
    "def cramer(matrix):\n",
    "    n = len(matrix)\n",
    "    det = np.linalg.det(matrix)\n",
    "    if det == 0:\n",
    "        return None # The matrix is not invertible\n",
    "    inverse = np.zeros((n, n))\n",
    "    for i in range(n):\n",
    "        for j in range(n):\n",
    "            minor = np.delete(np.delete(matrix, i, axis=0), j, axis=1)\n",
    "            inverse[j][i] = (-1) ** (i + j) * np.linalg.det(minor) / det\n",
    "    return inverse\n",
    "    \n",
    "\n",
    "print(cramer(eval(input(\"Enter matrix\"))))"
   ]
  },
  {
   "cell_type": "code",
   "execution_count": null,
   "id": "f2bf8e61",
   "metadata": {},
   "outputs": [],
   "source": [
    "def inverse(matrix):\n",
    "    n = len(matrix)\n",
    "    identity = [[float(i == j) for j in range(n)] for i in range(n)]\n",
    "    augmented_matrix = [matrix[i] + identity[i] for i in range(n)]\n",
    "\n",
    "    for i in range(n):\n",
    "        divisor = augmented_matrix[i][i]\n",
    "        augmented_matrix[i] = [element / divisor for element in augmented_matrix[i]]\n",
    "        for j in range(n):\n",
    "            if i != j:\n",
    "                multiplier = augmented_matrix[j][i]\n",
    "                augmented_matrix[j] = [augmented_matrix[j][k] - multiplier * augmented_matrix[i][k] for k in range(2 * n)]\n",
    "    inverse_matrix = [[augmented_matrix[i][j] for j in range(n, 2 * n)] for i in range(n)]\n",
    "    return inverse_matrix"
   ]
  }
 ],
 "metadata": {
  "kernelspec": {
   "display_name": "Python 3",
   "language": "python",
   "name": "python3"
  },
  "language_info": {
   "codemirror_mode": {
    "name": "ipython",
    "version": 3
   },
   "file_extension": ".py",
   "mimetype": "text/x-python",
   "name": "python",
   "nbconvert_exporter": "python",
   "pygments_lexer": "ipython3",
   "version": "3.10.7"
  },
  "vscode": {
   "interpreter": {
    "hash": "d2527d5af8432e6911072e1006b040f9b99e71a24961bbfb92c177b7d216caf2"
   }
  }
 },
 "nbformat": 4,
 "nbformat_minor": 5
}
