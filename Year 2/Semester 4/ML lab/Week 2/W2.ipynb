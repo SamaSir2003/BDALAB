{
 "cells": [
  {
   "cell_type": "code",
   "execution_count": 32,
   "id": "262ce74f",
   "metadata": {},
   "outputs": [],
   "source": [
    "import numpy as np\n",
    "import pandas as pd\n",
    "import csv\n",
    "import random as r\n",
    "import statistics as s"
   ]
  },
  {
   "cell_type": "code",
   "execution_count": 17,
   "id": "27f54933",
   "metadata": {},
   "outputs": [
    {
     "name": "stdout",
     "output_type": "stream",
     "text": [
      "Hello\n"
     ]
    }
   ],
   "source": [
    "# Function definition\n",
    "def fn():\n",
    "    print(\"Hello\")\n",
    "    \n",
    "fn()"
   ]
  },
  {
   "cell_type": "code",
   "execution_count": 18,
   "id": "9b4ee04f",
   "metadata": {},
   "outputs": [
    {
     "name": "stdout",
     "output_type": "stream",
     "text": [
      "50\n",
      "HiHiHiHiHiHiHiHiHiHi\n"
     ]
    }
   ],
   "source": [
    "def param_fn(x):\n",
    "    print(x * 10)\n",
    "    \n",
    "x = 5\n",
    "param_fn(x)\n",
    "param_fn(\"Hi\")"
   ]
  },
  {
   "cell_type": "code",
   "execution_count": 20,
   "id": "f968fa21",
   "metadata": {},
   "outputs": [
    {
     "name": "stdout",
     "output_type": "stream",
     "text": [
      "Enter a number 5\n",
      "Enter another number 7\n",
      "Enter the operation ^\n",
      "78125\n"
     ]
    }
   ],
   "source": [
    "# Fn to do arithmetic ops in a function based on user input\n",
    "def operation(a, b, op):\n",
    "    if op == \"+\":\n",
    "        print(a + b)\n",
    "    elif op == \"-\":\n",
    "        print(a - b)\n",
    "    elif op == \"*\":\n",
    "        print(a * b)\n",
    "    elif op == \"/\":\n",
    "        print(a / b)\n",
    "    elif op == \"^\":\n",
    "        print(a ** b)\n",
    "    else:\n",
    "        print(\"Invalid operation\")\n",
    "        \n",
    "a = int(input(\"Enter a number \"))\n",
    "b = int(input(\"Enter another number \"))\n",
    "op = input(\"Enter the operation \")\n",
    "operation(a, b, op)"
   ]
  },
  {
   "cell_type": "code",
   "execution_count": 41,
   "id": "2cdfb1c1",
   "metadata": {},
   "outputs": [
    {
     "name": "stdout",
     "output_type": "stream",
     "text": [
      "[25, 27, 35, 46, 48, 49, 55, 59, 68, 78]\n",
      "Min: 25\n",
      "Q1: 33.0\n",
      "Q2: 48.5\n",
      "Q3: 61.25\n",
      "Max: 78\n",
      "[25, 27, 32, 40, 52, 60, 65, 66, 72, 79, 50, 52, 54, 55, 67, 69, 75, 82, 84, 87]\n",
      "[52, 53, 61, 63, 68, 70, 76, 93, 98, 99]\n",
      "Min: 52\n",
      "Q1: 59.0\n",
      "Q2: 69.0\n",
      "Q3: 94.25\n",
      "Max: 99\n",
      "[25, 27, 32, 40, 52, 60, 65, 66, 72, 79, 50, 52, 54, 55, 67, 69, 75, 82, 84, 87]\n"
     ]
    }
   ],
   "source": [
    "# Five num summary of l1, l2\n",
    "def five_num_sum(low, high, amount):\n",
    "    l = r.sample(range(low, high), amount)\n",
    "    l.sort()\n",
    "    print(l)\n",
    "    \n",
    "    print(f\"Min: {min(l)}\")\n",
    "    print(f\"Q1: {s.quantiles(l, n=4)[0]}\")\n",
    "    print(f\"Q2: {s.median(l)}\")\n",
    "    print(f\"Q3: {s.quantiles(l, n=4)[2]}\")\n",
    "    print(f\"Max: {max(l)}\")\n",
    "    \n",
    "    print(l1 + l2)\n",
    "\n",
    "five_num_sum(20, 80, 10)\n",
    "five_num_sum(50, 100, 10)"
   ]
  },
  {
   "cell_type": "code",
   "execution_count": 66,
   "id": "ca1dfd44",
   "metadata": {},
   "outputs": [],
   "source": [
    "# CSV\n",
    "fields = [\"Name\", \"Branch\", \"Year\", \"CGPA\"]\n",
    "rows = [\n",
    "    [\"Nikhil\", \"COE\", \"2\",  \"9.0\"],\n",
    "    [\"Sanchit\", \"COE\", \"2\", \"9.1\"],\n",
    "    [\"Aditya\", \"IT\", \"2\", \"9.3\"],\n",
    "    [\"Sagar\", \"SE\", \"1\", \"9.5\"],\n",
    "    [\"Prateek\", \"MCE\", \"3\", \"7.8\"],\n",
    "    [\"Sahil\", \"EP\", \"2\", \"9.1\"]\n",
    "]\n",
    "\n",
    "path = \"uni.csv\"\n",
    "\n",
    "with open(path, \"w\") as f:\n",
    "    w = csv.writer(f)\n",
    "    w.writerow(fields)\n",
    "    w.writerows(rows)"
   ]
  },
  {
   "cell_type": "code",
   "execution_count": 64,
   "id": "700de0fe",
   "metadata": {},
   "outputs": [
    {
     "ename": "AttributeError",
     "evalue": "'str' object has no attribute 'keys'",
     "output_type": "error",
     "traceback": [
      "\u001b[1;31m---------------------------------------------------------------------------\u001b[0m",
      "\u001b[1;31mAttributeError\u001b[0m                            Traceback (most recent call last)",
      "\u001b[1;32m~\\AppData\\Local\\Temp\\ipykernel_12900\\2042065538.py\u001b[0m in \u001b[0;36m<module>\u001b[1;34m\u001b[0m\n\u001b[0;32m     11\u001b[0m     \u001b[0mw\u001b[0m \u001b[1;33m=\u001b[0m \u001b[0mcsv\u001b[0m\u001b[1;33m.\u001b[0m\u001b[0mDictWriter\u001b[0m\u001b[1;33m(\u001b[0m\u001b[0mf\u001b[0m\u001b[1;33m,\u001b[0m \u001b[0mfieldnames\u001b[0m\u001b[1;33m=\u001b[0m\u001b[0mrows\u001b[0m\u001b[1;33m.\u001b[0m\u001b[0mkeys\u001b[0m\u001b[1;33m(\u001b[0m\u001b[1;33m)\u001b[0m\u001b[1;33m)\u001b[0m\u001b[1;33m\u001b[0m\u001b[1;33m\u001b[0m\u001b[0m\n\u001b[0;32m     12\u001b[0m     \u001b[0mw\u001b[0m\u001b[1;33m.\u001b[0m\u001b[0mwriteheader\u001b[0m\u001b[1;33m(\u001b[0m\u001b[1;33m)\u001b[0m\u001b[1;33m\u001b[0m\u001b[1;33m\u001b[0m\u001b[0m\n\u001b[1;32m---> 13\u001b[1;33m     \u001b[0mw\u001b[0m\u001b[1;33m.\u001b[0m\u001b[0mwriterows\u001b[0m\u001b[1;33m(\u001b[0m\u001b[0mrows\u001b[0m\u001b[1;33m)\u001b[0m\u001b[1;33m\u001b[0m\u001b[1;33m\u001b[0m\u001b[0m\n\u001b[0m",
      "\u001b[1;32mC:\\ProgramData\\Anaconda3\\lib\\csv.py\u001b[0m in \u001b[0;36mwriterows\u001b[1;34m(self, rowdicts)\u001b[0m\n\u001b[0;32m    155\u001b[0m \u001b[1;33m\u001b[0m\u001b[0m\n\u001b[0;32m    156\u001b[0m     \u001b[1;32mdef\u001b[0m \u001b[0mwriterows\u001b[0m\u001b[1;33m(\u001b[0m\u001b[0mself\u001b[0m\u001b[1;33m,\u001b[0m \u001b[0mrowdicts\u001b[0m\u001b[1;33m)\u001b[0m\u001b[1;33m:\u001b[0m\u001b[1;33m\u001b[0m\u001b[1;33m\u001b[0m\u001b[0m\n\u001b[1;32m--> 157\u001b[1;33m         \u001b[1;32mreturn\u001b[0m \u001b[0mself\u001b[0m\u001b[1;33m.\u001b[0m\u001b[0mwriter\u001b[0m\u001b[1;33m.\u001b[0m\u001b[0mwriterows\u001b[0m\u001b[1;33m(\u001b[0m\u001b[0mmap\u001b[0m\u001b[1;33m(\u001b[0m\u001b[0mself\u001b[0m\u001b[1;33m.\u001b[0m\u001b[0m_dict_to_list\u001b[0m\u001b[1;33m,\u001b[0m \u001b[0mrowdicts\u001b[0m\u001b[1;33m)\u001b[0m\u001b[1;33m)\u001b[0m\u001b[1;33m\u001b[0m\u001b[1;33m\u001b[0m\u001b[0m\n\u001b[0m\u001b[0;32m    158\u001b[0m \u001b[1;33m\u001b[0m\u001b[0m\n\u001b[0;32m    159\u001b[0m \u001b[1;31m# Guard Sniffer's type checking against builds that exclude complex()\u001b[0m\u001b[1;33m\u001b[0m\u001b[1;33m\u001b[0m\u001b[0m\n",
      "\u001b[1;32mC:\\ProgramData\\Anaconda3\\lib\\csv.py\u001b[0m in \u001b[0;36m_dict_to_list\u001b[1;34m(self, rowdict)\u001b[0m\n\u001b[0;32m    145\u001b[0m     \u001b[1;32mdef\u001b[0m \u001b[0m_dict_to_list\u001b[0m\u001b[1;33m(\u001b[0m\u001b[0mself\u001b[0m\u001b[1;33m,\u001b[0m \u001b[0mrowdict\u001b[0m\u001b[1;33m)\u001b[0m\u001b[1;33m:\u001b[0m\u001b[1;33m\u001b[0m\u001b[1;33m\u001b[0m\u001b[0m\n\u001b[0;32m    146\u001b[0m         \u001b[1;32mif\u001b[0m \u001b[0mself\u001b[0m\u001b[1;33m.\u001b[0m\u001b[0mextrasaction\u001b[0m \u001b[1;33m==\u001b[0m \u001b[1;34m\"raise\"\u001b[0m\u001b[1;33m:\u001b[0m\u001b[1;33m\u001b[0m\u001b[1;33m\u001b[0m\u001b[0m\n\u001b[1;32m--> 147\u001b[1;33m             \u001b[0mwrong_fields\u001b[0m \u001b[1;33m=\u001b[0m \u001b[0mrowdict\u001b[0m\u001b[1;33m.\u001b[0m\u001b[0mkeys\u001b[0m\u001b[1;33m(\u001b[0m\u001b[1;33m)\u001b[0m \u001b[1;33m-\u001b[0m \u001b[0mself\u001b[0m\u001b[1;33m.\u001b[0m\u001b[0mfieldnames\u001b[0m\u001b[1;33m\u001b[0m\u001b[1;33m\u001b[0m\u001b[0m\n\u001b[0m\u001b[0;32m    148\u001b[0m             \u001b[1;32mif\u001b[0m \u001b[0mwrong_fields\u001b[0m\u001b[1;33m:\u001b[0m\u001b[1;33m\u001b[0m\u001b[1;33m\u001b[0m\u001b[0m\n\u001b[0;32m    149\u001b[0m                 raise ValueError(\"dict contains fields not in fieldnames: \"\n",
      "\u001b[1;31mAttributeError\u001b[0m: 'str' object has no attribute 'keys'"
     ]
    }
   ],
   "source": [
    "rows = {\n",
    "    \"Name\": [\"Nikhil\", \"Sanchit\", \"Aditya\", \"Sagar\", \"Prateek\", \"Sahil\"],\n",
    "    \"Branch\": [\"COE\", \"COE\", \"IT\", \"SE\", \"MCE\", \"EP\"],\n",
    "    \"Year\": [\"2\", \"2\", \"2\", \"2\", \"2\", \"2\"],\n",
    "    \"CGPA\": [\"9.0\", \"9.2\", \"9.6\", \"9.5\", \"9.3\", \"9.2\"],\n",
    "}\n",
    "\n",
    "path = \"uni.csv\"\n",
    "\n",
    "with open(path, \"w\") as f:\n",
    "    w = csv.DictWriter(f, fieldnames=rows.keys())\n",
    "    w.writeheader()\n",
    "    w.writerows(rows)"
   ]
  },
  {
   "cell_type": "code",
   "execution_count": 67,
   "id": "88a7a392",
   "metadata": {},
   "outputs": [
    {
     "name": "stdout",
     "output_type": "stream",
     "text": [
      "['Name', 'Branch', 'Year', 'CGPA']\n",
      "[]\n",
      "['Nikhil', 'COE', '2', '9.0']\n",
      "[]\n",
      "['Sanchit', 'COE', '2', '9.1']\n",
      "[]\n",
      "['Aditya', 'IT', '2', '9.3']\n",
      "[]\n",
      "['Sagar', 'SE', '1', '9.5']\n",
      "[]\n",
      "['Prateek', 'MCE', '3', '7.8']\n",
      "[]\n",
      "['Sahil', 'EP', '2', '9.1']\n",
      "[]\n"
     ]
    }
   ],
   "source": [
    "with open(path, \"r\") as f:\n",
    "    reader = csv.reader(f)\n",
    "    for row in reader:\n",
    "        print(row)"
   ]
  },
  {
   "cell_type": "code",
   "execution_count": null,
   "id": "c0da7d3f",
   "metadata": {},
   "outputs": [],
   "source": []
  },
  {
   "cell_type": "code",
   "execution_count": null,
   "id": "c57c977c",
   "metadata": {},
   "outputs": [],
   "source": []
  }
 ],
 "metadata": {
  "kernelspec": {
   "display_name": "Python 3 (ipykernel)",
   "language": "python",
   "name": "python3"
  },
  "language_info": {
   "codemirror_mode": {
    "name": "ipython",
    "version": 3
   },
   "file_extension": ".py",
   "mimetype": "text/x-python",
   "name": "python",
   "nbconvert_exporter": "python",
   "pygments_lexer": "ipython3",
   "version": "3.9.13"
  }
 },
 "nbformat": 4,
 "nbformat_minor": 5
}
