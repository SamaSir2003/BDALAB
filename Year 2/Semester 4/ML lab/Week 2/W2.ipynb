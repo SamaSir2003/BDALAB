{
 "cells": [
  {
   "cell_type": "code",
   "execution_count": 1,
   "id": "262ce74f",
   "metadata": {},
   "outputs": [],
   "source": [
    "import numpy as np\n",
    "import pandas as pd\n",
    "import csv\n",
    "import random as r\n",
    "import statistics as s"
   ]
  },
  {
   "cell_type": "code",
   "execution_count": 2,
   "id": "27f54933",
   "metadata": {},
   "outputs": [
    {
     "name": "stdout",
     "output_type": "stream",
     "text": [
      "Hello\n"
     ]
    }
   ],
   "source": [
    "# Function definition\n",
    "def fn():\n",
    "    print(\"Hello\")\n",
    "    \n",
    "fn()"
   ]
  },
  {
   "cell_type": "code",
   "execution_count": 3,
   "id": "9b4ee04f",
   "metadata": {},
   "outputs": [
    {
     "name": "stdout",
     "output_type": "stream",
     "text": [
      "50\n",
      "HiHiHiHiHiHiHiHiHiHi\n"
     ]
    }
   ],
   "source": [
    "def param_fn(x):\n",
    "    print(x * 10)\n",
    "    \n",
    "x = 5\n",
    "param_fn(x)\n",
    "param_fn(\"Hi\")"
   ]
  },
  {
   "cell_type": "code",
   "execution_count": 4,
   "id": "f968fa21",
   "metadata": {},
   "outputs": [
    {
     "name": "stdout",
     "output_type": "stream",
     "text": [
      "5\n"
     ]
    }
   ],
   "source": [
    "# Fn to do arithmetic ops in a function based on user input\n",
    "def operation(a, b, op):\n",
    "    if op == \"+\":\n",
    "        print(a + b)\n",
    "    elif op == \"-\":\n",
    "        print(a - b)\n",
    "    elif op == \"*\":\n",
    "        print(a * b)\n",
    "    elif op == \"/\":\n",
    "        print(a / b)\n",
    "    elif op == \"^\":\n",
    "        print(a ** b)\n",
    "    else:\n",
    "        print(\"Invalid operation\")\n",
    "        \n",
    "a = int(input(\"Enter a number \"))\n",
    "b = int(input(\"Enter another number \"))\n",
    "op = input(\"Enter the operation \")\n",
    "operation(a, b, op)"
   ]
  },
  {
   "cell_type": "code",
   "execution_count": 5,
   "id": "2cdfb1c1",
   "metadata": {},
   "outputs": [
    {
     "name": "stdout",
     "output_type": "stream",
     "text": [
      "[30, 34, 37, 41, 43, 49, 51, 63, 74, 78]\n",
      "Min: 30\n",
      "Q1: 36.25\n",
      "Q2: 46.0\n",
      "Q3: 65.75\n",
      "Max: 78\n",
      "[50, 59, 67, 78, 84, 88, 90, 92, 98, 99]\n",
      "Min: 50\n",
      "Q1: 65.0\n",
      "Q2: 86.0\n",
      "Q3: 93.5\n",
      "Max: 99\n"
     ]
    },
    {
     "data": {
      "text/plain": [
       "[30,\n",
       " 34,\n",
       " 37,\n",
       " 41,\n",
       " 43,\n",
       " 49,\n",
       " 51,\n",
       " 63,\n",
       " 74,\n",
       " 78,\n",
       " 50,\n",
       " 59,\n",
       " 67,\n",
       " 78,\n",
       " 84,\n",
       " 88,\n",
       " 90,\n",
       " 92,\n",
       " 98,\n",
       " 99]"
      ]
     },
     "execution_count": 5,
     "metadata": {},
     "output_type": "execute_result"
    }
   ],
   "source": [
    "# Five num summary of l1, l2\n",
    "def five_num_sum(low, high, amount):\n",
    "    l = r.sample(range(low, high), amount)\n",
    "    l.sort()\n",
    "    print(l)\n",
    "    \n",
    "    print(f\"Min: {min(l)}\")\n",
    "    print(f\"Q1: {s.quantiles(l, n=4)[0]}\")\n",
    "    print(f\"Q2: {s.median(l)}\")\n",
    "    print(f\"Q3: {s.quantiles(l, n=4)[2]}\")\n",
    "    print(f\"Max: {max(l)}\")    \n",
    "    return l\n",
    "\n",
    "l1 = five_num_sum(20, 80, 10)\n",
    "l2 = five_num_sum(50, 100, 10)\n",
    "l1 + l2"
   ]
  },
  {
   "cell_type": "code",
   "execution_count": 8,
   "id": "ca1dfd44",
   "metadata": {},
   "outputs": [],
   "source": [
    "# CSV\n",
    "fields = [\"Name\", \"Branch\", \"Year\", \"CGPA\"]\n",
    "rows = [\n",
    "    [\"Nikhil\", \"COE\", \"2\",  \"9.0\"],\n",
    "    [\"Sanchit\", \"COE\", \"2\", \"9.1\"],\n",
    "    [\"Aditya\", \"IT\", \"2\", \"9.3\"],\n",
    "    [\"Sagar\", \"SE\", \"1\", \"9.5\"],\n",
    "    [\"Prateek\", \"MCE\", \"3\", \"7.8\"],\n",
    "    [\"Sahil\", \"EP\", \"2\", \"9.1\"]\n",
    "]\n",
    "\n",
    "path = \"uni.csv\"\n",
    "\n",
    "with open(path, \"w\") as f:\n",
    "    w = csv.writer(f)\n",
    "    w.writerow(fields)\n",
    "    w.writerows(rows)"
   ]
  },
  {
   "cell_type": "code",
   "execution_count": 11,
   "id": "700de0fe",
   "metadata": {},
   "outputs": [],
   "source": [
    "fields = [\"Name\",\"Branch\",\"Year\",\"CGPA\"]\n",
    "rows = [\n",
    "    {\"Branch\" : \"COE\" ,\"Name\" : \"Nikhil\" , \"Year\" : \"2\" , \"CGPA\" : \"9.0\"},\n",
    "    {\"Branch\" : \"COE\" ,\"Name\" : \"Sanchit\" , \"Year\" : \"2\" , \"CGPA\" : \"9.2\"},\n",
    "    {\"Branch\" : \"IT\" ,\"Name\" : \"Aditya\" , \"Year\" : \"2\" , \"CGPA\" : \"9.6\"},\n",
    "    {\"Branch\" : \"SE\" ,\"Name\" : \"Sagar\" , \"Year\" : \"2\" , \"CGPA\" : \"9.5\"},\n",
    "    {\"Branch\" : \"MCE\" ,\"Name\" : \"Prateek\" , \"Year\" : \"2\" , \"CGPA\" : \"9.3\"},\n",
    "]\n",
    "\n",
    "path = \"uni.csv\"\n",
    "\n",
    "with open(path, \"w\") as f:\n",
    "    w = csv.DictWriter(f, fieldnames=fields)\n",
    "    w.writeheader()\n",
    "    w.writerows(rows)"
   ]
  },
  {
   "cell_type": "code",
   "execution_count": 12,
   "id": "88a7a392",
   "metadata": {},
   "outputs": [
    {
     "name": "stdout",
     "output_type": "stream",
     "text": [
      "['Name', 'Branch', 'Year', 'CGPA']\n",
      "[]\n",
      "['Nikhil', 'COE', '2', '9.0']\n",
      "[]\n",
      "['Sanchit', 'COE', '2', '9.2']\n",
      "[]\n",
      "['Aditya', 'IT', '2', '9.6']\n",
      "[]\n",
      "['Sagar', 'SE', '2', '9.5']\n",
      "[]\n",
      "['Prateek', 'MCE', '2', '9.3']\n",
      "[]\n"
     ]
    }
   ],
   "source": [
    "with open(path, \"r\") as f:\n",
    "    reader = csv.reader(f)\n",
    "    for row in reader:\n",
    "        print(row)"
   ]
  }
 ],
 "metadata": {
  "kernelspec": {
   "display_name": "Python 3",
   "language": "python",
   "name": "python3"
  },
  "language_info": {
   "codemirror_mode": {
    "name": "ipython",
    "version": 3
   },
   "file_extension": ".py",
   "mimetype": "text/x-python",
   "name": "python",
   "nbconvert_exporter": "python",
   "pygments_lexer": "ipython3",
   "version": "3.10.7"
  },
  "vscode": {
   "interpreter": {
    "hash": "d2527d5af8432e6911072e1006b040f9b99e71a24961bbfb92c177b7d216caf2"
   }
  }
 },
 "nbformat": 4,
 "nbformat_minor": 5
}
