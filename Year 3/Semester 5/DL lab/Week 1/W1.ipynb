{
  "cells": [
    {
      "cell_type": "markdown",
      "metadata": {
        "id": "giG7C2IQtKGl"
      },
      "source": [
        "# Exercise 1"
      ]
    },
    {
      "cell_type": "code",
      "execution_count": null,
      "metadata": {
        "id": "Ixt6MGm5pf7V"
      },
      "outputs": [],
      "source": [
        "import pandas as pd\n",
        "import tensorflow as tf\n",
        "import numpy as np\n",
        "from tensorflow.keras.models import Sequential\n",
        "from tensorflow.keras.layers import Dense, Input\n",
        "from tensorflow.keras.utils import split_dataset\n",
        "from sklearn.model_selection import train_test_split"
      ]
    },
    {
      "cell_type": "code",
      "execution_count": null,
      "metadata": {
        "id": "HFtoyQ17tz9O"
      },
      "outputs": [],
      "source": [
        "df = pd.read_csv('./bodyfat.csv')\n",
        "df"
      ]
    },
    {
      "cell_type": "markdown",
      "metadata": {},
      "source": [
        "## Preprocessing"
      ]
    },
    {
      "cell_type": "code",
      "execution_count": null,
      "metadata": {
        "colab": {
          "base_uri": "https://localhost:8080/"
        },
        "id": "5MjNi37rt5fl",
        "outputId": "e72723fa-76e1-4ecb-e172-d170d4d239ce"
      },
      "outputs": [
        {
          "data": {
            "text/plain": [
              "Density    0\n",
              "BodyFat    0\n",
              "Age        0\n",
              "Weight     0\n",
              "Height     0\n",
              "Neck       0\n",
              "Chest      0\n",
              "Abdomen    0\n",
              "Hip        0\n",
              "Thigh      0\n",
              "Knee       0\n",
              "Ankle      0\n",
              "Biceps     0\n",
              "Forearm    0\n",
              "Wrist      0\n",
              "dtype: int64"
            ]
          },
          "execution_count": 41,
          "metadata": {},
          "output_type": "execute_result"
        }
      ],
      "source": [
        "df.isna().sum()"
      ]
    },
    {
      "cell_type": "code",
      "execution_count": null,
      "metadata": {
        "colab": {
          "base_uri": "https://localhost:8080/"
        },
        "id": "hI8XwsaGuGfe",
        "outputId": "379389b2-5c0a-4537-b3fa-0503c1b271db"
      },
      "outputs": [
        {
          "name": "stdout",
          "output_type": "stream",
          "text": [
            "<class 'pandas.core.frame.DataFrame'>\n",
            "RangeIndex: 252 entries, 0 to 251\n",
            "Data columns (total 15 columns):\n",
            " #   Column   Non-Null Count  Dtype  \n",
            "---  ------   --------------  -----  \n",
            " 0   Density  252 non-null    float64\n",
            " 1   BodyFat  252 non-null    float64\n",
            " 2   Age      252 non-null    int64  \n",
            " 3   Weight   252 non-null    float64\n",
            " 4   Height   252 non-null    float64\n",
            " 5   Neck     252 non-null    float64\n",
            " 6   Chest    252 non-null    float64\n",
            " 7   Abdomen  252 non-null    float64\n",
            " 8   Hip      252 non-null    float64\n",
            " 9   Thigh    252 non-null    float64\n",
            " 10  Knee     252 non-null    float64\n",
            " 11  Ankle    252 non-null    float64\n",
            " 12  Biceps   252 non-null    float64\n",
            " 13  Forearm  252 non-null    float64\n",
            " 14  Wrist    252 non-null    float64\n",
            "dtypes: float64(14), int64(1)\n",
            "memory usage: 29.7 KB\n"
          ]
        }
      ],
      "source": [
        "df.info()"
      ]
    },
    {
      "cell_type": "code",
      "execution_count": null,
      "metadata": {
        "colab": {
          "base_uri": "https://localhost:8080/"
        },
        "id": "S88_r9H2uSk-",
        "outputId": "ef90c942-7621-4f70-a46b-535bd6327daf"
      },
      "outputs": [
        {
          "data": {
            "text/plain": [
              "False"
            ]
          },
          "execution_count": 44,
          "metadata": {},
          "output_type": "execute_result"
        }
      ],
      "source": [
        "df.duplicated().any()"
      ]
    },
    {
      "cell_type": "code",
      "execution_count": null,
      "metadata": {
        "id": "N1qiuGTEuXmW"
      },
      "outputs": [],
      "source": [
        "X = df.drop(['BodyFat'], axis=1)\n",
        "y = df.BodyFat"
      ]
    },
    {
      "cell_type": "code",
      "execution_count": null,
      "metadata": {
        "id": "yb3xsLBwu0wm"
      },
      "outputs": [],
      "source": [
        "X_train, X_test, y_train, y_test = train_test_split(X, y, test_size=0.2, shuffle=True)"
      ]
    },
    {
      "cell_type": "code",
      "execution_count": null,
      "metadata": {
        "id": "SrlLFPygvZ9m"
      },
      "outputs": [],
      "source": [
        "xtensor = tf.convert_to_tensor(X_train)\n",
        "xtensor.shape"
      ]
    },
    {
      "cell_type": "code",
      "execution_count": null,
      "metadata": {
        "id": "J0RTdIHcwe4G"
      },
      "outputs": [],
      "source": [
        "model = Sequential([\n",
        "    Input(shape=(xtensor[1],)),\n",
        "    Dense(128,  activation='relu'),\n",
        "    Dense(64, activation='relu'),\n",
        "    Dense(32, activation='relu'),\n",
        "    Dense(1, activation='linear'),\n",
        "])"
      ]
    },
    {
      "cell_type": "code",
      "execution_count": null,
      "metadata": {
        "id": "m3kL7A7Sw8wG"
      },
      "outputs": [],
      "source": [
        "model.compile(optimizer=tf.keras.optimizers.Adam(learning_rate=0.1), loss='mse', metrics=['accuracy'])"
      ]
    },
    {
      "cell_type": "code",
      "execution_count": null,
      "metadata": {
        "colab": {
          "base_uri": "https://localhost:8080/"
        },
        "id": "u658Uq1vxpg-",
        "outputId": "cf3a5795-4843-429f-a5d5-7207bb4e3dbf"
      },
      "outputs": [
        {
          "name": "stdout",
          "output_type": "stream",
          "text": [
            "Epoch 1/100\n",
            "6/6 [==============================] - 2s 38ms/step - loss: 222580.6719 - accuracy: 0.0056 - val_loss: 420.6555 - val_accuracy: 0.0000e+00\n",
            "Epoch 2/100\n",
            "6/6 [==============================] - 0s 9ms/step - loss: 283.5896 - accuracy: 0.0000e+00 - val_loss: 65.0802 - val_accuracy: 0.0000e+00\n",
            "Epoch 3/100\n",
            "6/6 [==============================] - 0s 8ms/step - loss: 113.5502 - accuracy: 0.0000e+00 - val_loss: 54.4213 - val_accuracy: 0.0000e+00\n",
            "Epoch 4/100\n",
            "6/6 [==============================] - 0s 8ms/step - loss: 82.3084 - accuracy: 0.0000e+00 - val_loss: 97.6833 - val_accuracy: 0.0000e+00\n",
            "Epoch 5/100\n",
            "6/6 [==============================] - 0s 8ms/step - loss: 80.3464 - accuracy: 0.0000e+00 - val_loss: 54.0524 - val_accuracy: 0.0000e+00\n",
            "Epoch 6/100\n",
            "6/6 [==============================] - 0s 8ms/step - loss: 76.9651 - accuracy: 0.0000e+00 - val_loss: 54.1936 - val_accuracy: 0.0000e+00\n",
            "Epoch 7/100\n",
            "6/6 [==============================] - 0s 8ms/step - loss: 66.8172 - accuracy: 0.0000e+00 - val_loss: 68.2851 - val_accuracy: 0.0000e+00\n",
            "Epoch 8/100\n",
            "6/6 [==============================] - 0s 8ms/step - loss: 71.8972 - accuracy: 0.0000e+00 - val_loss: 55.1709 - val_accuracy: 0.0000e+00\n",
            "Epoch 9/100\n",
            "6/6 [==============================] - 0s 8ms/step - loss: 68.5788 - accuracy: 0.0000e+00 - val_loss: 55.2368 - val_accuracy: 0.0000e+00\n",
            "Epoch 10/100\n",
            "6/6 [==============================] - 0s 8ms/step - loss: 68.0841 - accuracy: 0.0000e+00 - val_loss: 57.1714 - val_accuracy: 0.0000e+00\n",
            "Epoch 11/100\n",
            "6/6 [==============================] - 0s 8ms/step - loss: 68.3176 - accuracy: 0.0000e+00 - val_loss: 57.4223 - val_accuracy: 0.0000e+00\n",
            "Epoch 12/100\n",
            "6/6 [==============================] - 0s 8ms/step - loss: 68.9069 - accuracy: 0.0000e+00 - val_loss: 54.9158 - val_accuracy: 0.0000e+00\n",
            "Epoch 13/100\n",
            "6/6 [==============================] - 0s 8ms/step - loss: 68.7546 - accuracy: 0.0000e+00 - val_loss: 58.3083 - val_accuracy: 0.0000e+00\n",
            "Epoch 14/100\n",
            "6/6 [==============================] - 0s 8ms/step - loss: 68.2564 - accuracy: 0.0000e+00 - val_loss: 55.0578 - val_accuracy: 0.0000e+00\n",
            "Epoch 15/100\n",
            "6/6 [==============================] - 0s 8ms/step - loss: 68.2869 - accuracy: 0.0000e+00 - val_loss: 55.4343 - val_accuracy: 0.0000e+00\n",
            "Epoch 16/100\n",
            "6/6 [==============================] - 0s 12ms/step - loss: 67.9439 - accuracy: 0.0000e+00 - val_loss: 56.2474 - val_accuracy: 0.0000e+00\n",
            "Epoch 17/100\n",
            "6/6 [==============================] - 0s 10ms/step - loss: 68.4656 - accuracy: 0.0000e+00 - val_loss: 56.7011 - val_accuracy: 0.0000e+00\n",
            "Epoch 18/100\n",
            "6/6 [==============================] - 0s 8ms/step - loss: 68.2320 - accuracy: 0.0000e+00 - val_loss: 57.1931 - val_accuracy: 0.0000e+00\n",
            "Epoch 19/100\n",
            "6/6 [==============================] - 0s 9ms/step - loss: 68.1201 - accuracy: 0.0000e+00 - val_loss: 55.7573 - val_accuracy: 0.0000e+00\n",
            "Epoch 20/100\n",
            "6/6 [==============================] - 0s 8ms/step - loss: 68.4881 - accuracy: 0.0000e+00 - val_loss: 55.4994 - val_accuracy: 0.0000e+00\n",
            "Epoch 21/100\n",
            "6/6 [==============================] - 0s 9ms/step - loss: 68.8568 - accuracy: 0.0000e+00 - val_loss: 56.7384 - val_accuracy: 0.0000e+00\n",
            "Epoch 22/100\n",
            "6/6 [==============================] - 0s 8ms/step - loss: 67.8097 - accuracy: 0.0000e+00 - val_loss: 54.3062 - val_accuracy: 0.0000e+00\n",
            "Epoch 23/100\n",
            "6/6 [==============================] - 0s 8ms/step - loss: 68.8583 - accuracy: 0.0000e+00 - val_loss: 57.1164 - val_accuracy: 0.0000e+00\n",
            "Epoch 24/100\n",
            "6/6 [==============================] - 0s 8ms/step - loss: 69.8466 - accuracy: 0.0000e+00 - val_loss: 58.7107 - val_accuracy: 0.0000e+00\n",
            "Epoch 25/100\n",
            "6/6 [==============================] - 0s 8ms/step - loss: 71.7181 - accuracy: 0.0000e+00 - val_loss: 55.5145 - val_accuracy: 0.0000e+00\n",
            "Epoch 26/100\n",
            "6/6 [==============================] - 0s 10ms/step - loss: 69.8878 - accuracy: 0.0000e+00 - val_loss: 61.8376 - val_accuracy: 0.0000e+00\n",
            "Epoch 27/100\n",
            "6/6 [==============================] - 0s 8ms/step - loss: 70.8301 - accuracy: 0.0000e+00 - val_loss: 53.9569 - val_accuracy: 0.0000e+00\n",
            "Epoch 28/100\n",
            "6/6 [==============================] - 0s 8ms/step - loss: 72.7559 - accuracy: 0.0000e+00 - val_loss: 63.0545 - val_accuracy: 0.0000e+00\n",
            "Epoch 29/100\n",
            "6/6 [==============================] - 0s 8ms/step - loss: 69.4642 - accuracy: 0.0000e+00 - val_loss: 53.9559 - val_accuracy: 0.0000e+00\n",
            "Epoch 30/100\n",
            "6/6 [==============================] - 0s 9ms/step - loss: 68.7656 - accuracy: 0.0000e+00 - val_loss: 62.1093 - val_accuracy: 0.0000e+00\n",
            "Epoch 31/100\n",
            "6/6 [==============================] - 0s 8ms/step - loss: 70.7800 - accuracy: 0.0000e+00 - val_loss: 54.2191 - val_accuracy: 0.0000e+00\n",
            "Epoch 32/100\n",
            "6/6 [==============================] - 0s 8ms/step - loss: 69.9681 - accuracy: 0.0000e+00 - val_loss: 62.7226 - val_accuracy: 0.0000e+00\n",
            "Epoch 33/100\n",
            "6/6 [==============================] - 0s 8ms/step - loss: 73.0925 - accuracy: 0.0000e+00 - val_loss: 55.8819 - val_accuracy: 0.0000e+00\n",
            "Epoch 34/100\n",
            "6/6 [==============================] - 0s 8ms/step - loss: 71.3549 - accuracy: 0.0000e+00 - val_loss: 55.0414 - val_accuracy: 0.0000e+00\n",
            "Epoch 35/100\n",
            "6/6 [==============================] - 0s 8ms/step - loss: 72.6057 - accuracy: 0.0000e+00 - val_loss: 57.8095 - val_accuracy: 0.0000e+00\n",
            "Epoch 36/100\n",
            "6/6 [==============================] - 0s 8ms/step - loss: 68.5018 - accuracy: 0.0000e+00 - val_loss: 54.1493 - val_accuracy: 0.0000e+00\n",
            "Epoch 37/100\n",
            "6/6 [==============================] - 0s 8ms/step - loss: 67.4137 - accuracy: 0.0000e+00 - val_loss: 62.1435 - val_accuracy: 0.0000e+00\n",
            "Epoch 38/100\n",
            "6/6 [==============================] - 0s 9ms/step - loss: 72.2319 - accuracy: 0.0000e+00 - val_loss: 55.6826 - val_accuracy: 0.0000e+00\n",
            "Epoch 39/100\n",
            "6/6 [==============================] - 0s 8ms/step - loss: 70.8015 - accuracy: 0.0000e+00 - val_loss: 55.0509 - val_accuracy: 0.0000e+00\n",
            "Epoch 40/100\n",
            "6/6 [==============================] - 0s 9ms/step - loss: 70.2434 - accuracy: 0.0000e+00 - val_loss: 60.3715 - val_accuracy: 0.0000e+00\n",
            "Epoch 41/100\n",
            "6/6 [==============================] - 0s 8ms/step - loss: 70.6740 - accuracy: 0.0000e+00 - val_loss: 54.8951 - val_accuracy: 0.0000e+00\n",
            "Epoch 42/100\n",
            "6/6 [==============================] - 0s 8ms/step - loss: 71.1515 - accuracy: 0.0000e+00 - val_loss: 58.1913 - val_accuracy: 0.0000e+00\n",
            "Epoch 43/100\n",
            "6/6 [==============================] - 0s 8ms/step - loss: 69.3560 - accuracy: 0.0000e+00 - val_loss: 54.1033 - val_accuracy: 0.0000e+00\n",
            "Epoch 44/100\n",
            "6/6 [==============================] - 0s 8ms/step - loss: 70.1762 - accuracy: 0.0000e+00 - val_loss: 62.0994 - val_accuracy: 0.0000e+00\n",
            "Epoch 45/100\n",
            "6/6 [==============================] - 0s 9ms/step - loss: 70.0306 - accuracy: 0.0000e+00 - val_loss: 54.1461 - val_accuracy: 0.0000e+00\n",
            "Epoch 46/100\n",
            "6/6 [==============================] - 0s 8ms/step - loss: 69.0911 - accuracy: 0.0000e+00 - val_loss: 58.3499 - val_accuracy: 0.0000e+00\n",
            "Epoch 47/100\n",
            "6/6 [==============================] - 0s 8ms/step - loss: 72.6931 - accuracy: 0.0000e+00 - val_loss: 57.3518 - val_accuracy: 0.0000e+00\n",
            "Epoch 48/100\n",
            "6/6 [==============================] - 0s 8ms/step - loss: 70.9334 - accuracy: 0.0000e+00 - val_loss: 54.0303 - val_accuracy: 0.0000e+00\n",
            "Epoch 49/100\n",
            "6/6 [==============================] - 0s 8ms/step - loss: 71.0286 - accuracy: 0.0000e+00 - val_loss: 65.5716 - val_accuracy: 0.0000e+00\n",
            "Epoch 50/100\n",
            "6/6 [==============================] - 0s 10ms/step - loss: 70.0184 - accuracy: 0.0000e+00 - val_loss: 54.0519 - val_accuracy: 0.0000e+00\n",
            "Epoch 51/100\n",
            "6/6 [==============================] - 0s 8ms/step - loss: 69.4871 - accuracy: 0.0000e+00 - val_loss: 58.0556 - val_accuracy: 0.0000e+00\n",
            "Epoch 52/100\n",
            "6/6 [==============================] - 0s 8ms/step - loss: 69.3529 - accuracy: 0.0000e+00 - val_loss: 55.7265 - val_accuracy: 0.0000e+00\n",
            "Epoch 53/100\n",
            "6/6 [==============================] - 0s 8ms/step - loss: 68.2399 - accuracy: 0.0000e+00 - val_loss: 55.6534 - val_accuracy: 0.0000e+00\n",
            "Epoch 54/100\n",
            "6/6 [==============================] - 0s 9ms/step - loss: 69.3475 - accuracy: 0.0000e+00 - val_loss: 56.9419 - val_accuracy: 0.0000e+00\n",
            "Epoch 55/100\n",
            "6/6 [==============================] - 0s 8ms/step - loss: 69.3913 - accuracy: 0.0000e+00 - val_loss: 54.2206 - val_accuracy: 0.0000e+00\n",
            "Epoch 56/100\n",
            "6/6 [==============================] - 0s 8ms/step - loss: 69.7566 - accuracy: 0.0000e+00 - val_loss: 62.3659 - val_accuracy: 0.0000e+00\n",
            "Epoch 57/100\n",
            "6/6 [==============================] - 0s 9ms/step - loss: 69.6378 - accuracy: 0.0000e+00 - val_loss: 54.1090 - val_accuracy: 0.0000e+00\n",
            "Epoch 58/100\n",
            "6/6 [==============================] - 0s 10ms/step - loss: 68.0238 - accuracy: 0.0000e+00 - val_loss: 58.9704 - val_accuracy: 0.0000e+00\n",
            "Epoch 59/100\n",
            "6/6 [==============================] - 0s 8ms/step - loss: 69.4902 - accuracy: 0.0000e+00 - val_loss: 57.0179 - val_accuracy: 0.0000e+00\n",
            "Epoch 60/100\n",
            "6/6 [==============================] - 0s 8ms/step - loss: 68.5622 - accuracy: 0.0000e+00 - val_loss: 54.1459 - val_accuracy: 0.0000e+00\n",
            "Epoch 61/100\n",
            "6/6 [==============================] - 0s 8ms/step - loss: 71.8591 - accuracy: 0.0000e+00 - val_loss: 61.8942 - val_accuracy: 0.0000e+00\n",
            "Epoch 62/100\n",
            "6/6 [==============================] - 0s 8ms/step - loss: 67.9829 - accuracy: 0.0000e+00 - val_loss: 54.1405 - val_accuracy: 0.0000e+00\n",
            "Epoch 63/100\n",
            "6/6 [==============================] - 0s 8ms/step - loss: 69.9622 - accuracy: 0.0000e+00 - val_loss: 57.9204 - val_accuracy: 0.0000e+00\n",
            "Epoch 64/100\n",
            "6/6 [==============================] - 0s 8ms/step - loss: 68.6052 - accuracy: 0.0000e+00 - val_loss: 56.1318 - val_accuracy: 0.0000e+00\n",
            "Epoch 65/100\n",
            "6/6 [==============================] - 0s 8ms/step - loss: 68.3276 - accuracy: 0.0000e+00 - val_loss: 54.9535 - val_accuracy: 0.0000e+00\n",
            "Epoch 66/100\n",
            "6/6 [==============================] - 0s 8ms/step - loss: 69.3896 - accuracy: 0.0000e+00 - val_loss: 61.1893 - val_accuracy: 0.0000e+00\n",
            "Epoch 67/100\n",
            "6/6 [==============================] - 0s 8ms/step - loss: 69.7405 - accuracy: 0.0000e+00 - val_loss: 54.2382 - val_accuracy: 0.0000e+00\n",
            "Epoch 68/100\n",
            "6/6 [==============================] - 0s 9ms/step - loss: 69.4238 - accuracy: 0.0000e+00 - val_loss: 57.5009 - val_accuracy: 0.0000e+00\n",
            "Epoch 69/100\n",
            "6/6 [==============================] - 0s 9ms/step - loss: 68.8600 - accuracy: 0.0000e+00 - val_loss: 55.6861 - val_accuracy: 0.0000e+00\n",
            "Epoch 70/100\n",
            "6/6 [==============================] - 0s 8ms/step - loss: 69.1320 - accuracy: 0.0000e+00 - val_loss: 56.1633 - val_accuracy: 0.0000e+00\n",
            "Epoch 71/100\n",
            "6/6 [==============================] - 0s 8ms/step - loss: 69.7039 - accuracy: 0.0000e+00 - val_loss: 55.2633 - val_accuracy: 0.0000e+00\n",
            "Epoch 72/100\n",
            "6/6 [==============================] - 0s 8ms/step - loss: 68.8690 - accuracy: 0.0000e+00 - val_loss: 58.6846 - val_accuracy: 0.0000e+00\n",
            "Epoch 73/100\n",
            "6/6 [==============================] - 0s 8ms/step - loss: 70.4872 - accuracy: 0.0000e+00 - val_loss: 55.8419 - val_accuracy: 0.0000e+00\n",
            "Epoch 74/100\n",
            "6/6 [==============================] - 0s 11ms/step - loss: 68.1708 - accuracy: 0.0000e+00 - val_loss: 59.0963 - val_accuracy: 0.0000e+00\n",
            "Epoch 75/100\n",
            "6/6 [==============================] - 0s 10ms/step - loss: 68.3810 - accuracy: 0.0000e+00 - val_loss: 55.1491 - val_accuracy: 0.0000e+00\n",
            "Epoch 76/100\n",
            "6/6 [==============================] - 0s 9ms/step - loss: 68.2503 - accuracy: 0.0000e+00 - val_loss: 55.7622 - val_accuracy: 0.0000e+00\n",
            "Epoch 77/100\n",
            "6/6 [==============================] - 0s 9ms/step - loss: 68.3853 - accuracy: 0.0000e+00 - val_loss: 56.0393 - val_accuracy: 0.0000e+00\n",
            "Epoch 78/100\n",
            "6/6 [==============================] - 0s 8ms/step - loss: 68.6134 - accuracy: 0.0000e+00 - val_loss: 55.7728 - val_accuracy: 0.0000e+00\n",
            "Epoch 79/100\n",
            "6/6 [==============================] - 0s 8ms/step - loss: 67.9513 - accuracy: 0.0000e+00 - val_loss: 56.9030 - val_accuracy: 0.0000e+00\n",
            "Epoch 80/100\n",
            "6/6 [==============================] - 0s 8ms/step - loss: 68.3433 - accuracy: 0.0000e+00 - val_loss: 55.9494 - val_accuracy: 0.0000e+00\n",
            "Epoch 81/100\n",
            "6/6 [==============================] - 0s 8ms/step - loss: 67.7291 - accuracy: 0.0000e+00 - val_loss: 58.3425 - val_accuracy: 0.0000e+00\n",
            "Epoch 82/100\n",
            "6/6 [==============================] - 0s 8ms/step - loss: 69.3022 - accuracy: 0.0000e+00 - val_loss: 55.5562 - val_accuracy: 0.0000e+00\n",
            "Epoch 83/100\n",
            "6/6 [==============================] - 0s 9ms/step - loss: 71.0824 - accuracy: 0.0000e+00 - val_loss: 55.7570 - val_accuracy: 0.0000e+00\n",
            "Epoch 84/100\n",
            "6/6 [==============================] - 0s 8ms/step - loss: 68.1259 - accuracy: 0.0000e+00 - val_loss: 62.5768 - val_accuracy: 0.0000e+00\n",
            "Epoch 85/100\n",
            "6/6 [==============================] - 0s 8ms/step - loss: 68.1459 - accuracy: 0.0000e+00 - val_loss: 54.1971 - val_accuracy: 0.0000e+00\n",
            "Epoch 86/100\n",
            "6/6 [==============================] - 0s 8ms/step - loss: 71.5879 - accuracy: 0.0000e+00 - val_loss: 58.3604 - val_accuracy: 0.0000e+00\n",
            "Epoch 87/100\n",
            "6/6 [==============================] - 0s 8ms/step - loss: 70.5559 - accuracy: 0.0000e+00 - val_loss: 58.9675 - val_accuracy: 0.0000e+00\n",
            "Epoch 88/100\n",
            "6/6 [==============================] - 0s 8ms/step - loss: 68.5843 - accuracy: 0.0000e+00 - val_loss: 54.4842 - val_accuracy: 0.0000e+00\n",
            "Epoch 89/100\n",
            "6/6 [==============================] - 0s 8ms/step - loss: 68.6798 - accuracy: 0.0000e+00 - val_loss: 59.2265 - val_accuracy: 0.0000e+00\n",
            "Epoch 90/100\n",
            "6/6 [==============================] - 0s 9ms/step - loss: 68.6708 - accuracy: 0.0000e+00 - val_loss: 55.6047 - val_accuracy: 0.0000e+00\n",
            "Epoch 91/100\n",
            "6/6 [==============================] - 0s 9ms/step - loss: 68.3357 - accuracy: 0.0000e+00 - val_loss: 55.4339 - val_accuracy: 0.0000e+00\n",
            "Epoch 92/100\n",
            "6/6 [==============================] - 0s 8ms/step - loss: 68.6528 - accuracy: 0.0000e+00 - val_loss: 56.1804 - val_accuracy: 0.0000e+00\n",
            "Epoch 93/100\n",
            "6/6 [==============================] - 0s 8ms/step - loss: 68.1706 - accuracy: 0.0000e+00 - val_loss: 56.9662 - val_accuracy: 0.0000e+00\n",
            "Epoch 94/100\n",
            "6/6 [==============================] - 0s 12ms/step - loss: 69.1249 - accuracy: 0.0000e+00 - val_loss: 57.4356 - val_accuracy: 0.0000e+00\n",
            "Epoch 95/100\n",
            "6/6 [==============================] - 0s 9ms/step - loss: 69.0293 - accuracy: 0.0000e+00 - val_loss: 54.8930 - val_accuracy: 0.0000e+00\n",
            "Epoch 96/100\n",
            "6/6 [==============================] - 0s 8ms/step - loss: 71.0863 - accuracy: 0.0000e+00 - val_loss: 58.5884 - val_accuracy: 0.0000e+00\n",
            "Epoch 97/100\n",
            "6/6 [==============================] - 0s 9ms/step - loss: 69.4709 - accuracy: 0.0000e+00 - val_loss: 54.2439 - val_accuracy: 0.0000e+00\n",
            "Epoch 98/100\n",
            "6/6 [==============================] - 0s 8ms/step - loss: 72.3076 - accuracy: 0.0000e+00 - val_loss: 63.3685 - val_accuracy: 0.0000e+00\n",
            "Epoch 99/100\n",
            "6/6 [==============================] - 0s 11ms/step - loss: 70.4586 - accuracy: 0.0000e+00 - val_loss: 54.2753 - val_accuracy: 0.0000e+00\n",
            "Epoch 100/100\n",
            "6/6 [==============================] - 0s 8ms/step - loss: 69.0712 - accuracy: 0.0000e+00 - val_loss: 61.1045 - val_accuracy: 0.0000e+00\n"
          ]
        },
        {
          "data": {
            "text/plain": [
              "<keras.callbacks.History at 0x7f5d781d1210>"
            ]
          },
          "execution_count": 78,
          "metadata": {},
          "output_type": "execute_result"
        }
      ],
      "source": [
        "epochs = 100\n",
        "batch_size = 32\n",
        "model.fit(tf.convert_to_tensor(X_train), tf.convert_to_tensor(y_train), epochs=epochs, batch_size=batch_size, validation_split=0.1)"
      ]
    },
    {
      "cell_type": "code",
      "execution_count": null,
      "metadata": {
        "id": "CM8WZIwayPjW"
      },
      "outputs": [],
      "source": [
        "loss, acc = model.evaluate(tf.convert_to_tensor(X_test), tf.convert_to_tensor(y_test))\n",
        "loss, acc"
      ]
    },
    {
      "cell_type": "code",
      "execution_count": null,
      "metadata": {},
      "outputs": [],
      "source": [
        "rmse = np.sqrt(obj.history['loss'])\n",
        "rmse"
      ]
    },
    {
      "cell_type": "markdown",
      "metadata": {},
      "source": [
        "## Performance tabulation"
      ]
    },
    {
      "cell_type": "code",
      "execution_count": null,
      "metadata": {},
      "outputs": [],
      "source": [
        "pd.DataFrame({\"epochs\": range(1, epochs + 1), \"rmse\": rmse})"
      ]
    },
    {
      "cell_type": "code",
      "execution_count": null,
      "metadata": {},
      "outputs": [],
      "source": [
        "# For all losses\n",
        "fig = plt.figure()\n",
        "plt.xlabel(\"Epochs\")\n",
        "plt.ylabel(\"RMSE\")\n",
        "plt.plot(range(1, epochs + 1), rmse)"
      ]
    },
    {
      "cell_type": "code",
      "execution_count": null,
      "metadata": {},
      "outputs": [],
      "source": [
        "# Removing 1st 15 losses for better representation of fluctuating loss\n",
        "fig = plt.figure()\n",
        "plt.xlabel(\"Epochs\")\n",
        "plt.ylabel(\"RMSE\")\n",
        "plt.plot(range(16, epochs + 1), rmse[15:])"
      ]
    }
  ],
  "metadata": {
    "accelerator": "GPU",
    "colab": {
      "gpuType": "T4",
      "provenance": []
    },
    "kernelspec": {
      "display_name": "Python 3",
      "name": "python3"
    },
    "language_info": {
      "name": "python"
    }
  },
  "nbformat": 4,
  "nbformat_minor": 0
}
