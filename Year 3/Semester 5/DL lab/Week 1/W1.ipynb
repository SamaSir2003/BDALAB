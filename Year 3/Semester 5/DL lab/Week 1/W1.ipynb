{
  "nbformat": 4,
  "nbformat_minor": 0,
  "metadata": {
    "colab": {
      "provenance": [],
      "gpuType": "T4"
    },
    "kernelspec": {
      "name": "python3",
      "display_name": "Python 3"
    },
    "language_info": {
      "name": "python"
    },
    "accelerator": "GPU"
  },
  "cells": [
    {
      "cell_type": "markdown",
      "source": [
        "- NN where all neurons are interconnected to next layer = Dense or FCNN (Fully connected)  \n",
        "- The dense NN forms a bipartite graph\n",
        "- We optimise weights and biases (the params) of a NN during training by reducing the loss\n",
        "- We initialise random weights and bias, do forward prop, get result, calc loss, do backward prop to recompute weights\n",
        "- We use softmax at the output layer for multiclass classification and sparse categorical cross entropy loss. RMSE loss for regression and ReLU or linear for act fn"
      ],
      "metadata": {
        "id": "P0eVgKsOdBMn"
      }
    },
    {
      "cell_type": "code",
      "execution_count": null,
      "metadata": {
        "id": "MmgPTGBiYMEJ"
      },
      "outputs": [],
      "source": [
        "import tensorflow as tf\n",
        "import numpy as np\n",
        "from tensorflow.keras.models import Sequential\n",
        "from tensorflow.keras.layers import Dense, Input"
      ]
    },
    {
      "cell_type": "code",
      "source": [
        "print(tf.__version__)"
      ],
      "metadata": {
        "colab": {
          "base_uri": "https://localhost:8080/"
        },
        "id": "N5wSiwJWYO0v",
        "outputId": "36b04500-05a8-4333-eeaf-019899691733"
      },
      "execution_count": null,
      "outputs": [
        {
          "output_type": "stream",
          "name": "stdout",
          "text": [
            "2.12.0\n"
          ]
        }
      ]
    },
    {
      "cell_type": "code",
      "source": [
        "x = tf.constant(2) # Rank 0, no shape\n",
        "print(x)"
      ],
      "metadata": {
        "colab": {
          "base_uri": "https://localhost:8080/"
        },
        "id": "EtRwZWXNaG73",
        "outputId": "fdc87671-708d-4ba2-f78d-3cfcc529479c"
      },
      "execution_count": null,
      "outputs": [
        {
          "output_type": "stream",
          "name": "stdout",
          "text": [
            "tf.Tensor(2, shape=(), dtype=int32)\n"
          ]
        }
      ]
    },
    {
      "cell_type": "code",
      "source": [
        "y = tf.constant([1, 2]) # Rank 1\n",
        "print(y)"
      ],
      "metadata": {
        "colab": {
          "base_uri": "https://localhost:8080/"
        },
        "id": "zM5LwCHVaNTG",
        "outputId": "4fb5130f-686e-4157-9e7d-c4b3187584f9"
      },
      "execution_count": null,
      "outputs": [
        {
          "output_type": "stream",
          "name": "stdout",
          "text": [
            "tf.Tensor([1 2], shape=(2,), dtype=int32)\n"
          ]
        }
      ]
    },
    {
      "cell_type": "code",
      "source": [
        "z = tf.constant([[1, 2], [3, 4]]) # Rank 2\n",
        "print(z)"
      ],
      "metadata": {
        "colab": {
          "base_uri": "https://localhost:8080/"
        },
        "id": "TL6z1en3aaPl",
        "outputId": "09dfe84f-a7fc-4819-fb44-9968f32d5460"
      },
      "execution_count": null,
      "outputs": [
        {
          "output_type": "stream",
          "name": "stdout",
          "text": [
            "tf.Tensor(\n",
            "[[1 2]\n",
            " [3 4]], shape=(2, 2), dtype=int32)\n"
          ]
        }
      ]
    },
    {
      "cell_type": "code",
      "source": [
        "samples = 1000\n",
        "features = 10\n",
        "classes = 2\n",
        "X = np.random.rand(samples, features)\n",
        "y = np.random.randint(0, classes, size=samples)"
      ],
      "metadata": {
        "id": "M0ij_ee6anZt"
      },
      "execution_count": null,
      "outputs": []
    },
    {
      "cell_type": "code",
      "source": [
        "split = int(samples * 0.8)\n",
        "X_train, X_test = X[:split], X[split:]\n",
        "y_train, y_test = y[:split], y[split:]"
      ],
      "metadata": {
        "id": "4FNXyW52j5G2"
      },
      "execution_count": null,
      "outputs": []
    },
    {
      "cell_type": "code",
      "source": [
        "model = Sequential([\n",
        "    Input(shape=(features,)),\n",
        "    Dense(6,  activation='relu'),\n",
        "    Dense(classes, activation='softmax'),\n",
        "])"
      ],
      "metadata": {
        "id": "Nh2Obf3BkRrG"
      },
      "execution_count": null,
      "outputs": []
    },
    {
      "cell_type": "code",
      "source": [
        "model.summary()"
      ],
      "metadata": {
        "colab": {
          "base_uri": "https://localhost:8080/"
        },
        "id": "cb9-YhEUlJAv",
        "outputId": "5dfdff43-ddea-422a-c09c-f02b94dfe1fc"
      },
      "execution_count": null,
      "outputs": [
        {
          "output_type": "stream",
          "name": "stdout",
          "text": [
            "Model: \"sequential\"\n",
            "_________________________________________________________________\n",
            " Layer (type)                Output Shape              Param #   \n",
            "=================================================================\n",
            " dense (Dense)               (None, 6)                 66        \n",
            "                                                                 \n",
            " dense_1 (Dense)             (None, 2)                 14        \n",
            "                                                                 \n",
            "=================================================================\n",
            "Total params: 80\n",
            "Trainable params: 80\n",
            "Non-trainable params: 0\n",
            "_________________________________________________________________\n"
          ]
        }
      ]
    },
    {
      "cell_type": "code",
      "source": [
        "model.compile(optimizer='adam', loss='sparse_categorical_crossentropy', metrics=['accuracy'])"
      ],
      "metadata": {
        "id": "hkVNUcVVmb2-"
      },
      "execution_count": null,
      "outputs": []
    },
    {
      "cell_type": "code",
      "source": [
        "epochs = 50\n",
        "batch_size = 32\n",
        "model.fit(X_train, y_train, epochs=epochs, batch_size=batch_size, validation_split=0.1)"
      ],
      "metadata": {
        "colab": {
          "base_uri": "https://localhost:8080/"
        },
        "id": "a60FH6xRn7Fm",
        "outputId": "f42b5327-35bc-4e4b-b918-a49da130337b"
      },
      "execution_count": null,
      "outputs": [
        {
          "output_type": "stream",
          "name": "stdout",
          "text": [
            "Epoch 1/50\n",
            "23/23 [==============================] - 1s 10ms/step - loss: 0.6871 - accuracy: 0.5236 - val_loss: 0.7061 - val_accuracy: 0.4500\n",
            "Epoch 2/50\n",
            "23/23 [==============================] - 0s 5ms/step - loss: 0.6861 - accuracy: 0.5167 - val_loss: 0.7096 - val_accuracy: 0.4375\n",
            "Epoch 3/50\n",
            "23/23 [==============================] - 0s 5ms/step - loss: 0.6860 - accuracy: 0.5125 - val_loss: 0.7102 - val_accuracy: 0.4375\n",
            "Epoch 4/50\n",
            "23/23 [==============================] - 0s 4ms/step - loss: 0.6853 - accuracy: 0.5139 - val_loss: 0.7091 - val_accuracy: 0.4500\n",
            "Epoch 5/50\n",
            "23/23 [==============================] - 0s 5ms/step - loss: 0.6851 - accuracy: 0.5194 - val_loss: 0.7055 - val_accuracy: 0.4625\n",
            "Epoch 6/50\n",
            "23/23 [==============================] - 0s 4ms/step - loss: 0.6845 - accuracy: 0.5278 - val_loss: 0.7061 - val_accuracy: 0.4500\n",
            "Epoch 7/50\n",
            "23/23 [==============================] - 0s 4ms/step - loss: 0.6845 - accuracy: 0.5250 - val_loss: 0.7079 - val_accuracy: 0.4625\n",
            "Epoch 8/50\n",
            "23/23 [==============================] - 0s 4ms/step - loss: 0.6840 - accuracy: 0.5389 - val_loss: 0.7114 - val_accuracy: 0.4875\n",
            "Epoch 9/50\n",
            "23/23 [==============================] - 0s 4ms/step - loss: 0.6837 - accuracy: 0.5264 - val_loss: 0.7096 - val_accuracy: 0.4375\n",
            "Epoch 10/50\n",
            "23/23 [==============================] - 0s 4ms/step - loss: 0.6833 - accuracy: 0.5319 - val_loss: 0.7074 - val_accuracy: 0.4750\n",
            "Epoch 11/50\n",
            "23/23 [==============================] - 0s 4ms/step - loss: 0.6832 - accuracy: 0.5375 - val_loss: 0.7079 - val_accuracy: 0.4625\n",
            "Epoch 12/50\n",
            "23/23 [==============================] - 0s 4ms/step - loss: 0.6828 - accuracy: 0.5347 - val_loss: 0.7069 - val_accuracy: 0.4500\n",
            "Epoch 13/50\n",
            "23/23 [==============================] - 0s 4ms/step - loss: 0.6822 - accuracy: 0.5389 - val_loss: 0.7106 - val_accuracy: 0.4500\n",
            "Epoch 14/50\n",
            "23/23 [==============================] - 0s 4ms/step - loss: 0.6818 - accuracy: 0.5389 - val_loss: 0.7092 - val_accuracy: 0.4625\n",
            "Epoch 15/50\n",
            "23/23 [==============================] - 0s 5ms/step - loss: 0.6820 - accuracy: 0.5389 - val_loss: 0.7065 - val_accuracy: 0.4375\n",
            "Epoch 16/50\n",
            "23/23 [==============================] - 0s 4ms/step - loss: 0.6814 - accuracy: 0.5361 - val_loss: 0.7093 - val_accuracy: 0.4500\n",
            "Epoch 17/50\n",
            "23/23 [==============================] - 0s 4ms/step - loss: 0.6813 - accuracy: 0.5417 - val_loss: 0.7076 - val_accuracy: 0.4375\n",
            "Epoch 18/50\n",
            "23/23 [==============================] - 0s 4ms/step - loss: 0.6806 - accuracy: 0.5417 - val_loss: 0.7109 - val_accuracy: 0.4500\n",
            "Epoch 19/50\n",
            "23/23 [==============================] - 0s 4ms/step - loss: 0.6806 - accuracy: 0.5403 - val_loss: 0.7091 - val_accuracy: 0.4625\n",
            "Epoch 20/50\n",
            "23/23 [==============================] - 0s 4ms/step - loss: 0.6805 - accuracy: 0.5486 - val_loss: 0.7113 - val_accuracy: 0.4500\n",
            "Epoch 21/50\n",
            "23/23 [==============================] - 0s 4ms/step - loss: 0.6801 - accuracy: 0.5486 - val_loss: 0.7091 - val_accuracy: 0.4375\n",
            "Epoch 22/50\n",
            "23/23 [==============================] - 0s 4ms/step - loss: 0.6799 - accuracy: 0.5389 - val_loss: 0.7099 - val_accuracy: 0.4375\n",
            "Epoch 23/50\n",
            "23/23 [==============================] - 0s 4ms/step - loss: 0.6798 - accuracy: 0.5500 - val_loss: 0.7093 - val_accuracy: 0.4500\n",
            "Epoch 24/50\n",
            "23/23 [==============================] - 0s 4ms/step - loss: 0.6794 - accuracy: 0.5542 - val_loss: 0.7078 - val_accuracy: 0.4750\n",
            "Epoch 25/50\n",
            "23/23 [==============================] - 0s 4ms/step - loss: 0.6799 - accuracy: 0.5444 - val_loss: 0.7121 - val_accuracy: 0.4625\n",
            "Epoch 26/50\n",
            "23/23 [==============================] - 0s 4ms/step - loss: 0.6800 - accuracy: 0.5472 - val_loss: 0.7067 - val_accuracy: 0.4375\n",
            "Epoch 27/50\n",
            "23/23 [==============================] - 0s 5ms/step - loss: 0.6792 - accuracy: 0.5486 - val_loss: 0.7121 - val_accuracy: 0.4625\n",
            "Epoch 28/50\n",
            "23/23 [==============================] - 0s 4ms/step - loss: 0.6786 - accuracy: 0.5569 - val_loss: 0.7095 - val_accuracy: 0.4500\n",
            "Epoch 29/50\n",
            "23/23 [==============================] - 0s 4ms/step - loss: 0.6785 - accuracy: 0.5569 - val_loss: 0.7093 - val_accuracy: 0.4500\n",
            "Epoch 30/50\n",
            "23/23 [==============================] - 0s 4ms/step - loss: 0.6782 - accuracy: 0.5569 - val_loss: 0.7113 - val_accuracy: 0.4625\n",
            "Epoch 31/50\n",
            "23/23 [==============================] - 0s 4ms/step - loss: 0.6781 - accuracy: 0.5583 - val_loss: 0.7091 - val_accuracy: 0.4500\n",
            "Epoch 32/50\n",
            "23/23 [==============================] - 0s 5ms/step - loss: 0.6781 - accuracy: 0.5597 - val_loss: 0.7103 - val_accuracy: 0.4500\n",
            "Epoch 33/50\n",
            "23/23 [==============================] - 0s 4ms/step - loss: 0.6777 - accuracy: 0.5597 - val_loss: 0.7093 - val_accuracy: 0.4500\n",
            "Epoch 34/50\n",
            "23/23 [==============================] - 0s 4ms/step - loss: 0.6775 - accuracy: 0.5569 - val_loss: 0.7077 - val_accuracy: 0.4375\n",
            "Epoch 35/50\n",
            "23/23 [==============================] - 0s 4ms/step - loss: 0.6775 - accuracy: 0.5528 - val_loss: 0.7093 - val_accuracy: 0.4500\n",
            "Epoch 36/50\n",
            "23/23 [==============================] - 0s 4ms/step - loss: 0.6771 - accuracy: 0.5625 - val_loss: 0.7104 - val_accuracy: 0.4500\n",
            "Epoch 37/50\n",
            "23/23 [==============================] - 0s 4ms/step - loss: 0.6772 - accuracy: 0.5611 - val_loss: 0.7113 - val_accuracy: 0.4500\n",
            "Epoch 38/50\n",
            "23/23 [==============================] - 0s 4ms/step - loss: 0.6771 - accuracy: 0.5597 - val_loss: 0.7100 - val_accuracy: 0.4375\n",
            "Epoch 39/50\n",
            "23/23 [==============================] - 0s 5ms/step - loss: 0.6769 - accuracy: 0.5653 - val_loss: 0.7092 - val_accuracy: 0.4375\n",
            "Epoch 40/50\n",
            "23/23 [==============================] - 0s 5ms/step - loss: 0.6766 - accuracy: 0.5653 - val_loss: 0.7103 - val_accuracy: 0.4250\n",
            "Epoch 41/50\n",
            "23/23 [==============================] - 0s 4ms/step - loss: 0.6768 - accuracy: 0.5625 - val_loss: 0.7114 - val_accuracy: 0.4375\n",
            "Epoch 42/50\n",
            "23/23 [==============================] - 0s 4ms/step - loss: 0.6766 - accuracy: 0.5681 - val_loss: 0.7108 - val_accuracy: 0.4375\n",
            "Epoch 43/50\n",
            "23/23 [==============================] - 0s 5ms/step - loss: 0.6765 - accuracy: 0.5639 - val_loss: 0.7100 - val_accuracy: 0.4250\n",
            "Epoch 44/50\n",
            "23/23 [==============================] - 0s 4ms/step - loss: 0.6764 - accuracy: 0.5597 - val_loss: 0.7051 - val_accuracy: 0.4750\n",
            "Epoch 45/50\n",
            "23/23 [==============================] - 0s 5ms/step - loss: 0.6765 - accuracy: 0.5681 - val_loss: 0.7110 - val_accuracy: 0.4375\n",
            "Epoch 46/50\n",
            "23/23 [==============================] - 0s 4ms/step - loss: 0.6757 - accuracy: 0.5722 - val_loss: 0.7096 - val_accuracy: 0.4500\n",
            "Epoch 47/50\n",
            "23/23 [==============================] - 0s 5ms/step - loss: 0.6763 - accuracy: 0.5681 - val_loss: 0.7102 - val_accuracy: 0.4375\n",
            "Epoch 48/50\n",
            "23/23 [==============================] - 0s 4ms/step - loss: 0.6757 - accuracy: 0.5653 - val_loss: 0.7076 - val_accuracy: 0.4500\n",
            "Epoch 49/50\n",
            "23/23 [==============================] - 0s 5ms/step - loss: 0.6755 - accuracy: 0.5583 - val_loss: 0.7056 - val_accuracy: 0.4500\n",
            "Epoch 50/50\n",
            "23/23 [==============================] - 0s 4ms/step - loss: 0.6755 - accuracy: 0.5653 - val_loss: 0.7103 - val_accuracy: 0.4375\n"
          ]
        },
        {
          "output_type": "execute_result",
          "data": {
            "text/plain": [
              "<keras.callbacks.History at 0x7f5dbc6a3340>"
            ]
          },
          "metadata": {},
          "execution_count": 29
        }
      ]
    },
    {
      "cell_type": "code",
      "source": [
        "loss, acc = model.evaluate(X_test, y_test, batch_size=batch_size)\n",
        "print(\"Loss: \", loss)\n",
        "print(\"Accuracy: \", acc)"
      ],
      "metadata": {
        "colab": {
          "base_uri": "https://localhost:8080/"
        },
        "id": "rYdeoQgMoEad",
        "outputId": "307874ea-4caf-4e08-dd1c-da21c9be1721"
      },
      "execution_count": null,
      "outputs": [
        {
          "output_type": "stream",
          "name": "stdout",
          "text": [
            "7/7 [==============================] - 0s 3ms/step - loss: 0.6903 - accuracy: 0.5500\n",
            "Loss:  0.6902530193328857\n",
            "Accuracy:  0.550000011920929\n"
          ]
        }
      ]
    },
    {
      "cell_type": "code",
      "source": [
        "model.fit(X_train, y_train, epochs=epochs, batch_size=100, validation_split=0.1)"
      ],
      "metadata": {
        "colab": {
          "base_uri": "https://localhost:8080/"
        },
        "id": "Tt5oGqiLpEwu",
        "outputId": "1812c37f-47ae-431b-b235-02af3d2cc67d"
      },
      "execution_count": null,
      "outputs": [
        {
          "output_type": "stream",
          "name": "stdout",
          "text": [
            "Epoch 1/50\n",
            "8/8 [==============================] - 0s 10ms/step - loss: 0.6750 - accuracy: 0.5722 - val_loss: 0.7094 - val_accuracy: 0.4500\n",
            "Epoch 2/50\n",
            "8/8 [==============================] - 0s 6ms/step - loss: 0.6749 - accuracy: 0.5736 - val_loss: 0.7099 - val_accuracy: 0.4500\n",
            "Epoch 3/50\n",
            "8/8 [==============================] - 0s 6ms/step - loss: 0.6748 - accuracy: 0.5750 - val_loss: 0.7117 - val_accuracy: 0.4250\n",
            "Epoch 4/50\n",
            "8/8 [==============================] - 0s 6ms/step - loss: 0.6749 - accuracy: 0.5806 - val_loss: 0.7132 - val_accuracy: 0.4000\n",
            "Epoch 5/50\n",
            "8/8 [==============================] - 0s 8ms/step - loss: 0.6748 - accuracy: 0.5778 - val_loss: 0.7117 - val_accuracy: 0.4375\n",
            "Epoch 6/50\n",
            "8/8 [==============================] - 0s 7ms/step - loss: 0.6748 - accuracy: 0.5750 - val_loss: 0.7117 - val_accuracy: 0.4375\n",
            "Epoch 7/50\n",
            "8/8 [==============================] - 0s 6ms/step - loss: 0.6747 - accuracy: 0.5736 - val_loss: 0.7121 - val_accuracy: 0.4250\n",
            "Epoch 8/50\n",
            "8/8 [==============================] - 0s 6ms/step - loss: 0.6746 - accuracy: 0.5764 - val_loss: 0.7131 - val_accuracy: 0.4000\n",
            "Epoch 9/50\n",
            "8/8 [==============================] - 0s 7ms/step - loss: 0.6747 - accuracy: 0.5806 - val_loss: 0.7136 - val_accuracy: 0.4000\n",
            "Epoch 10/50\n",
            "8/8 [==============================] - 0s 6ms/step - loss: 0.6745 - accuracy: 0.5819 - val_loss: 0.7122 - val_accuracy: 0.4375\n",
            "Epoch 11/50\n",
            "8/8 [==============================] - 0s 9ms/step - loss: 0.6745 - accuracy: 0.5764 - val_loss: 0.7118 - val_accuracy: 0.4375\n",
            "Epoch 12/50\n",
            "8/8 [==============================] - 0s 6ms/step - loss: 0.6744 - accuracy: 0.5750 - val_loss: 0.7099 - val_accuracy: 0.4500\n",
            "Epoch 13/50\n",
            "8/8 [==============================] - 0s 6ms/step - loss: 0.6745 - accuracy: 0.5639 - val_loss: 0.7081 - val_accuracy: 0.4500\n",
            "Epoch 14/50\n",
            "8/8 [==============================] - 0s 6ms/step - loss: 0.6743 - accuracy: 0.5639 - val_loss: 0.7075 - val_accuracy: 0.4500\n",
            "Epoch 15/50\n",
            "8/8 [==============================] - 0s 7ms/step - loss: 0.6743 - accuracy: 0.5667 - val_loss: 0.7087 - val_accuracy: 0.4500\n",
            "Epoch 16/50\n",
            "8/8 [==============================] - 0s 19ms/step - loss: 0.6742 - accuracy: 0.5653 - val_loss: 0.7096 - val_accuracy: 0.4375\n",
            "Epoch 17/50\n",
            "8/8 [==============================] - 0s 18ms/step - loss: 0.6742 - accuracy: 0.5681 - val_loss: 0.7088 - val_accuracy: 0.4500\n",
            "Epoch 18/50\n",
            "8/8 [==============================] - 0s 12ms/step - loss: 0.6744 - accuracy: 0.5639 - val_loss: 0.7068 - val_accuracy: 0.4500\n",
            "Epoch 19/50\n",
            "8/8 [==============================] - 0s 12ms/step - loss: 0.6742 - accuracy: 0.5667 - val_loss: 0.7074 - val_accuracy: 0.4500\n",
            "Epoch 20/50\n",
            "8/8 [==============================] - 0s 18ms/step - loss: 0.6742 - accuracy: 0.5667 - val_loss: 0.7086 - val_accuracy: 0.4500\n",
            "Epoch 21/50\n",
            "8/8 [==============================] - 0s 20ms/step - loss: 0.6741 - accuracy: 0.5681 - val_loss: 0.7084 - val_accuracy: 0.4500\n",
            "Epoch 22/50\n",
            "8/8 [==============================] - 0s 27ms/step - loss: 0.6740 - accuracy: 0.5681 - val_loss: 0.7091 - val_accuracy: 0.4500\n",
            "Epoch 23/50\n",
            "8/8 [==============================] - 0s 11ms/step - loss: 0.6742 - accuracy: 0.5722 - val_loss: 0.7103 - val_accuracy: 0.4375\n",
            "Epoch 24/50\n",
            "8/8 [==============================] - 0s 11ms/step - loss: 0.6740 - accuracy: 0.5694 - val_loss: 0.7088 - val_accuracy: 0.4500\n",
            "Epoch 25/50\n",
            "8/8 [==============================] - 0s 9ms/step - loss: 0.6739 - accuracy: 0.5681 - val_loss: 0.7089 - val_accuracy: 0.4500\n",
            "Epoch 26/50\n",
            "8/8 [==============================] - 0s 8ms/step - loss: 0.6738 - accuracy: 0.5681 - val_loss: 0.7083 - val_accuracy: 0.4500\n",
            "Epoch 27/50\n",
            "8/8 [==============================] - 0s 11ms/step - loss: 0.6738 - accuracy: 0.5667 - val_loss: 0.7082 - val_accuracy: 0.4500\n",
            "Epoch 28/50\n",
            "8/8 [==============================] - 0s 11ms/step - loss: 0.6738 - accuracy: 0.5681 - val_loss: 0.7084 - val_accuracy: 0.4500\n",
            "Epoch 29/50\n",
            "8/8 [==============================] - 0s 9ms/step - loss: 0.6737 - accuracy: 0.5681 - val_loss: 0.7082 - val_accuracy: 0.4500\n",
            "Epoch 30/50\n",
            "8/8 [==============================] - 0s 9ms/step - loss: 0.6737 - accuracy: 0.5694 - val_loss: 0.7084 - val_accuracy: 0.4500\n",
            "Epoch 31/50\n",
            "8/8 [==============================] - 0s 10ms/step - loss: 0.6735 - accuracy: 0.5681 - val_loss: 0.7102 - val_accuracy: 0.4500\n",
            "Epoch 32/50\n",
            "8/8 [==============================] - 0s 10ms/step - loss: 0.6736 - accuracy: 0.5736 - val_loss: 0.7120 - val_accuracy: 0.4500\n",
            "Epoch 33/50\n",
            "8/8 [==============================] - 0s 9ms/step - loss: 0.6735 - accuracy: 0.5750 - val_loss: 0.7111 - val_accuracy: 0.4500\n",
            "Epoch 34/50\n",
            "8/8 [==============================] - 0s 10ms/step - loss: 0.6735 - accuracy: 0.5708 - val_loss: 0.7108 - val_accuracy: 0.4500\n",
            "Epoch 35/50\n",
            "8/8 [==============================] - 0s 10ms/step - loss: 0.6735 - accuracy: 0.5708 - val_loss: 0.7112 - val_accuracy: 0.4500\n",
            "Epoch 36/50\n",
            "8/8 [==============================] - 0s 11ms/step - loss: 0.6734 - accuracy: 0.5736 - val_loss: 0.7113 - val_accuracy: 0.4500\n",
            "Epoch 37/50\n",
            "8/8 [==============================] - 0s 12ms/step - loss: 0.6733 - accuracy: 0.5778 - val_loss: 0.7124 - val_accuracy: 0.4250\n",
            "Epoch 38/50\n",
            "8/8 [==============================] - 0s 11ms/step - loss: 0.6733 - accuracy: 0.5778 - val_loss: 0.7131 - val_accuracy: 0.4125\n",
            "Epoch 39/50\n",
            "8/8 [==============================] - 0s 11ms/step - loss: 0.6734 - accuracy: 0.5792 - val_loss: 0.7148 - val_accuracy: 0.4000\n",
            "Epoch 40/50\n",
            "8/8 [==============================] - 0s 8ms/step - loss: 0.6733 - accuracy: 0.5819 - val_loss: 0.7160 - val_accuracy: 0.4000\n",
            "Epoch 41/50\n",
            "8/8 [==============================] - 0s 9ms/step - loss: 0.6733 - accuracy: 0.5819 - val_loss: 0.7135 - val_accuracy: 0.4250\n",
            "Epoch 42/50\n",
            "8/8 [==============================] - 0s 11ms/step - loss: 0.6731 - accuracy: 0.5792 - val_loss: 0.7143 - val_accuracy: 0.4125\n",
            "Epoch 43/50\n",
            "8/8 [==============================] - 0s 11ms/step - loss: 0.6731 - accuracy: 0.5792 - val_loss: 0.7144 - val_accuracy: 0.4125\n",
            "Epoch 44/50\n",
            "8/8 [==============================] - 0s 12ms/step - loss: 0.6730 - accuracy: 0.5792 - val_loss: 0.7137 - val_accuracy: 0.4250\n",
            "Epoch 45/50\n",
            "8/8 [==============================] - 0s 6ms/step - loss: 0.6730 - accuracy: 0.5708 - val_loss: 0.7095 - val_accuracy: 0.4625\n",
            "Epoch 46/50\n",
            "8/8 [==============================] - 0s 8ms/step - loss: 0.6731 - accuracy: 0.5694 - val_loss: 0.7071 - val_accuracy: 0.4625\n",
            "Epoch 47/50\n",
            "8/8 [==============================] - 0s 6ms/step - loss: 0.6730 - accuracy: 0.5722 - val_loss: 0.7080 - val_accuracy: 0.4625\n",
            "Epoch 48/50\n",
            "8/8 [==============================] - 0s 6ms/step - loss: 0.6728 - accuracy: 0.5694 - val_loss: 0.7092 - val_accuracy: 0.4625\n",
            "Epoch 49/50\n",
            "8/8 [==============================] - 0s 6ms/step - loss: 0.6728 - accuracy: 0.5694 - val_loss: 0.7099 - val_accuracy: 0.4500\n",
            "Epoch 50/50\n",
            "8/8 [==============================] - 0s 6ms/step - loss: 0.6726 - accuracy: 0.5722 - val_loss: 0.7102 - val_accuracy: 0.4500\n"
          ]
        },
        {
          "output_type": "execute_result",
          "data": {
            "text/plain": [
              "<keras.callbacks.History at 0x7f5dbc4376a0>"
            ]
          },
          "metadata": {},
          "execution_count": 31
        }
      ]
    },
    {
      "cell_type": "code",
      "source": [
        "loss, acc = model.evaluate(X_test, y_test, batch_size=100)\n",
        "print(\"Loss: \", loss)\n",
        "print(\"Accuracy: \", acc)"
      ],
      "metadata": {
        "colab": {
          "base_uri": "https://localhost:8080/"
        },
        "id": "KavBAdlKpcNH",
        "outputId": "ddb12360-c17c-436d-e69a-18a1db5caddd"
      },
      "execution_count": null,
      "outputs": [
        {
          "output_type": "stream",
          "name": "stdout",
          "text": [
            "2/2 [==============================] - 0s 7ms/step - loss: 0.6909 - accuracy: 0.5700\n",
            "Loss:  0.6908571124076843\n",
            "Accuracy:  0.5699999928474426\n"
          ]
        }
      ]
    },
    {
      "cell_type": "markdown",
      "source": [
        "# Exercise 1"
      ],
      "metadata": {
        "id": "giG7C2IQtKGl"
      }
    },
    {
      "cell_type": "code",
      "source": [
        "import pandas as pd\n",
        "from tensorflow.keras.utils import split_dataset\n",
        "from sklearn.model_selection import train_test_split"
      ],
      "metadata": {
        "id": "Ixt6MGm5pf7V"
      },
      "execution_count": null,
      "outputs": []
    },
    {
      "cell_type": "code",
      "source": [
        "df = pd.read_csv('./bodyfat.csv')"
      ],
      "metadata": {
        "id": "HFtoyQ17tz9O"
      },
      "execution_count": null,
      "outputs": []
    },
    {
      "cell_type": "code",
      "source": [
        "df.isna().sum()"
      ],
      "metadata": {
        "colab": {
          "base_uri": "https://localhost:8080/"
        },
        "id": "5MjNi37rt5fl",
        "outputId": "e72723fa-76e1-4ecb-e172-d170d4d239ce"
      },
      "execution_count": null,
      "outputs": [
        {
          "output_type": "execute_result",
          "data": {
            "text/plain": [
              "Density    0\n",
              "BodyFat    0\n",
              "Age        0\n",
              "Weight     0\n",
              "Height     0\n",
              "Neck       0\n",
              "Chest      0\n",
              "Abdomen    0\n",
              "Hip        0\n",
              "Thigh      0\n",
              "Knee       0\n",
              "Ankle      0\n",
              "Biceps     0\n",
              "Forearm    0\n",
              "Wrist      0\n",
              "dtype: int64"
            ]
          },
          "metadata": {},
          "execution_count": 41
        }
      ]
    },
    {
      "cell_type": "code",
      "source": [
        "df.info()"
      ],
      "metadata": {
        "colab": {
          "base_uri": "https://localhost:8080/"
        },
        "id": "hI8XwsaGuGfe",
        "outputId": "379389b2-5c0a-4537-b3fa-0503c1b271db"
      },
      "execution_count": null,
      "outputs": [
        {
          "output_type": "stream",
          "name": "stdout",
          "text": [
            "<class 'pandas.core.frame.DataFrame'>\n",
            "RangeIndex: 252 entries, 0 to 251\n",
            "Data columns (total 15 columns):\n",
            " #   Column   Non-Null Count  Dtype  \n",
            "---  ------   --------------  -----  \n",
            " 0   Density  252 non-null    float64\n",
            " 1   BodyFat  252 non-null    float64\n",
            " 2   Age      252 non-null    int64  \n",
            " 3   Weight   252 non-null    float64\n",
            " 4   Height   252 non-null    float64\n",
            " 5   Neck     252 non-null    float64\n",
            " 6   Chest    252 non-null    float64\n",
            " 7   Abdomen  252 non-null    float64\n",
            " 8   Hip      252 non-null    float64\n",
            " 9   Thigh    252 non-null    float64\n",
            " 10  Knee     252 non-null    float64\n",
            " 11  Ankle    252 non-null    float64\n",
            " 12  Biceps   252 non-null    float64\n",
            " 13  Forearm  252 non-null    float64\n",
            " 14  Wrist    252 non-null    float64\n",
            "dtypes: float64(14), int64(1)\n",
            "memory usage: 29.7 KB\n"
          ]
        }
      ]
    },
    {
      "cell_type": "code",
      "source": [
        "df.duplicated().any()"
      ],
      "metadata": {
        "colab": {
          "base_uri": "https://localhost:8080/"
        },
        "id": "S88_r9H2uSk-",
        "outputId": "ef90c942-7621-4f70-a46b-535bd6327daf"
      },
      "execution_count": null,
      "outputs": [
        {
          "output_type": "execute_result",
          "data": {
            "text/plain": [
              "False"
            ]
          },
          "metadata": {},
          "execution_count": 44
        }
      ]
    },
    {
      "cell_type": "code",
      "source": [
        "X = df.drop(['BodyFat'], axis=1)\n",
        "y = df.BodyFat"
      ],
      "metadata": {
        "id": "N1qiuGTEuXmW"
      },
      "execution_count": null,
      "outputs": []
    },
    {
      "cell_type": "code",
      "source": [
        "X_train, X_test, y_train, y_test = train_test_split(X, y, test_size=0.2, shuffle=True)"
      ],
      "metadata": {
        "id": "yb3xsLBwu0wm"
      },
      "execution_count": null,
      "outputs": []
    },
    {
      "cell_type": "code",
      "source": [
        "dataset = tf.convert_to_tensor(X_train)"
      ],
      "metadata": {
        "id": "SrlLFPygvZ9m"
      },
      "execution_count": null,
      "outputs": []
    },
    {
      "cell_type": "code",
      "source": [
        "dataset.shape"
      ],
      "metadata": {
        "colab": {
          "base_uri": "https://localhost:8080/"
        },
        "id": "JNxFPSoWwdU9",
        "outputId": "5af0069f-d702-4501-f614-0282b3d7b7d6"
      },
      "execution_count": null,
      "outputs": [
        {
          "output_type": "execute_result",
          "data": {
            "text/plain": [
              "TensorShape([201, 14])"
            ]
          },
          "metadata": {},
          "execution_count": 75
        }
      ]
    },
    {
      "cell_type": "code",
      "source": [
        "model = Sequential([\n",
        "    Input(shape=(14,)),\n",
        "    Dense(128,  activation='relu'),\n",
        "    Dense(64, activation='relu'),\n",
        "    Dense(32, activation='relu'),\n",
        "    Dense(1, activation='linear'),\n",
        "])"
      ],
      "metadata": {
        "id": "J0RTdIHcwe4G"
      },
      "execution_count": null,
      "outputs": []
    },
    {
      "cell_type": "code",
      "source": [
        "model.compile(optimizer=tf.keras.optimizers.Adam(learning_rate=0.1), loss='mse', metrics=['accuracy'])"
      ],
      "metadata": {
        "id": "m3kL7A7Sw8wG"
      },
      "execution_count": null,
      "outputs": []
    },
    {
      "cell_type": "code",
      "source": [
        "epochs = 100\n",
        "batch_size = 32\n",
        "model.fit(tf.convert_to_tensor(X_train), tf.convert_to_tensor(y_train), epochs=epochs, batch_size=batch_size, validation_split=0.1)"
      ],
      "metadata": {
        "colab": {
          "base_uri": "https://localhost:8080/"
        },
        "id": "u658Uq1vxpg-",
        "outputId": "cf3a5795-4843-429f-a5d5-7207bb4e3dbf"
      },
      "execution_count": null,
      "outputs": [
        {
          "output_type": "stream",
          "name": "stdout",
          "text": [
            "Epoch 1/100\n",
            "6/6 [==============================] - 2s 38ms/step - loss: 222580.6719 - accuracy: 0.0056 - val_loss: 420.6555 - val_accuracy: 0.0000e+00\n",
            "Epoch 2/100\n",
            "6/6 [==============================] - 0s 9ms/step - loss: 283.5896 - accuracy: 0.0000e+00 - val_loss: 65.0802 - val_accuracy: 0.0000e+00\n",
            "Epoch 3/100\n",
            "6/6 [==============================] - 0s 8ms/step - loss: 113.5502 - accuracy: 0.0000e+00 - val_loss: 54.4213 - val_accuracy: 0.0000e+00\n",
            "Epoch 4/100\n",
            "6/6 [==============================] - 0s 8ms/step - loss: 82.3084 - accuracy: 0.0000e+00 - val_loss: 97.6833 - val_accuracy: 0.0000e+00\n",
            "Epoch 5/100\n",
            "6/6 [==============================] - 0s 8ms/step - loss: 80.3464 - accuracy: 0.0000e+00 - val_loss: 54.0524 - val_accuracy: 0.0000e+00\n",
            "Epoch 6/100\n",
            "6/6 [==============================] - 0s 8ms/step - loss: 76.9651 - accuracy: 0.0000e+00 - val_loss: 54.1936 - val_accuracy: 0.0000e+00\n",
            "Epoch 7/100\n",
            "6/6 [==============================] - 0s 8ms/step - loss: 66.8172 - accuracy: 0.0000e+00 - val_loss: 68.2851 - val_accuracy: 0.0000e+00\n",
            "Epoch 8/100\n",
            "6/6 [==============================] - 0s 8ms/step - loss: 71.8972 - accuracy: 0.0000e+00 - val_loss: 55.1709 - val_accuracy: 0.0000e+00\n",
            "Epoch 9/100\n",
            "6/6 [==============================] - 0s 8ms/step - loss: 68.5788 - accuracy: 0.0000e+00 - val_loss: 55.2368 - val_accuracy: 0.0000e+00\n",
            "Epoch 10/100\n",
            "6/6 [==============================] - 0s 8ms/step - loss: 68.0841 - accuracy: 0.0000e+00 - val_loss: 57.1714 - val_accuracy: 0.0000e+00\n",
            "Epoch 11/100\n",
            "6/6 [==============================] - 0s 8ms/step - loss: 68.3176 - accuracy: 0.0000e+00 - val_loss: 57.4223 - val_accuracy: 0.0000e+00\n",
            "Epoch 12/100\n",
            "6/6 [==============================] - 0s 8ms/step - loss: 68.9069 - accuracy: 0.0000e+00 - val_loss: 54.9158 - val_accuracy: 0.0000e+00\n",
            "Epoch 13/100\n",
            "6/6 [==============================] - 0s 8ms/step - loss: 68.7546 - accuracy: 0.0000e+00 - val_loss: 58.3083 - val_accuracy: 0.0000e+00\n",
            "Epoch 14/100\n",
            "6/6 [==============================] - 0s 8ms/step - loss: 68.2564 - accuracy: 0.0000e+00 - val_loss: 55.0578 - val_accuracy: 0.0000e+00\n",
            "Epoch 15/100\n",
            "6/6 [==============================] - 0s 8ms/step - loss: 68.2869 - accuracy: 0.0000e+00 - val_loss: 55.4343 - val_accuracy: 0.0000e+00\n",
            "Epoch 16/100\n",
            "6/6 [==============================] - 0s 12ms/step - loss: 67.9439 - accuracy: 0.0000e+00 - val_loss: 56.2474 - val_accuracy: 0.0000e+00\n",
            "Epoch 17/100\n",
            "6/6 [==============================] - 0s 10ms/step - loss: 68.4656 - accuracy: 0.0000e+00 - val_loss: 56.7011 - val_accuracy: 0.0000e+00\n",
            "Epoch 18/100\n",
            "6/6 [==============================] - 0s 8ms/step - loss: 68.2320 - accuracy: 0.0000e+00 - val_loss: 57.1931 - val_accuracy: 0.0000e+00\n",
            "Epoch 19/100\n",
            "6/6 [==============================] - 0s 9ms/step - loss: 68.1201 - accuracy: 0.0000e+00 - val_loss: 55.7573 - val_accuracy: 0.0000e+00\n",
            "Epoch 20/100\n",
            "6/6 [==============================] - 0s 8ms/step - loss: 68.4881 - accuracy: 0.0000e+00 - val_loss: 55.4994 - val_accuracy: 0.0000e+00\n",
            "Epoch 21/100\n",
            "6/6 [==============================] - 0s 9ms/step - loss: 68.8568 - accuracy: 0.0000e+00 - val_loss: 56.7384 - val_accuracy: 0.0000e+00\n",
            "Epoch 22/100\n",
            "6/6 [==============================] - 0s 8ms/step - loss: 67.8097 - accuracy: 0.0000e+00 - val_loss: 54.3062 - val_accuracy: 0.0000e+00\n",
            "Epoch 23/100\n",
            "6/6 [==============================] - 0s 8ms/step - loss: 68.8583 - accuracy: 0.0000e+00 - val_loss: 57.1164 - val_accuracy: 0.0000e+00\n",
            "Epoch 24/100\n",
            "6/6 [==============================] - 0s 8ms/step - loss: 69.8466 - accuracy: 0.0000e+00 - val_loss: 58.7107 - val_accuracy: 0.0000e+00\n",
            "Epoch 25/100\n",
            "6/6 [==============================] - 0s 8ms/step - loss: 71.7181 - accuracy: 0.0000e+00 - val_loss: 55.5145 - val_accuracy: 0.0000e+00\n",
            "Epoch 26/100\n",
            "6/6 [==============================] - 0s 10ms/step - loss: 69.8878 - accuracy: 0.0000e+00 - val_loss: 61.8376 - val_accuracy: 0.0000e+00\n",
            "Epoch 27/100\n",
            "6/6 [==============================] - 0s 8ms/step - loss: 70.8301 - accuracy: 0.0000e+00 - val_loss: 53.9569 - val_accuracy: 0.0000e+00\n",
            "Epoch 28/100\n",
            "6/6 [==============================] - 0s 8ms/step - loss: 72.7559 - accuracy: 0.0000e+00 - val_loss: 63.0545 - val_accuracy: 0.0000e+00\n",
            "Epoch 29/100\n",
            "6/6 [==============================] - 0s 8ms/step - loss: 69.4642 - accuracy: 0.0000e+00 - val_loss: 53.9559 - val_accuracy: 0.0000e+00\n",
            "Epoch 30/100\n",
            "6/6 [==============================] - 0s 9ms/step - loss: 68.7656 - accuracy: 0.0000e+00 - val_loss: 62.1093 - val_accuracy: 0.0000e+00\n",
            "Epoch 31/100\n",
            "6/6 [==============================] - 0s 8ms/step - loss: 70.7800 - accuracy: 0.0000e+00 - val_loss: 54.2191 - val_accuracy: 0.0000e+00\n",
            "Epoch 32/100\n",
            "6/6 [==============================] - 0s 8ms/step - loss: 69.9681 - accuracy: 0.0000e+00 - val_loss: 62.7226 - val_accuracy: 0.0000e+00\n",
            "Epoch 33/100\n",
            "6/6 [==============================] - 0s 8ms/step - loss: 73.0925 - accuracy: 0.0000e+00 - val_loss: 55.8819 - val_accuracy: 0.0000e+00\n",
            "Epoch 34/100\n",
            "6/6 [==============================] - 0s 8ms/step - loss: 71.3549 - accuracy: 0.0000e+00 - val_loss: 55.0414 - val_accuracy: 0.0000e+00\n",
            "Epoch 35/100\n",
            "6/6 [==============================] - 0s 8ms/step - loss: 72.6057 - accuracy: 0.0000e+00 - val_loss: 57.8095 - val_accuracy: 0.0000e+00\n",
            "Epoch 36/100\n",
            "6/6 [==============================] - 0s 8ms/step - loss: 68.5018 - accuracy: 0.0000e+00 - val_loss: 54.1493 - val_accuracy: 0.0000e+00\n",
            "Epoch 37/100\n",
            "6/6 [==============================] - 0s 8ms/step - loss: 67.4137 - accuracy: 0.0000e+00 - val_loss: 62.1435 - val_accuracy: 0.0000e+00\n",
            "Epoch 38/100\n",
            "6/6 [==============================] - 0s 9ms/step - loss: 72.2319 - accuracy: 0.0000e+00 - val_loss: 55.6826 - val_accuracy: 0.0000e+00\n",
            "Epoch 39/100\n",
            "6/6 [==============================] - 0s 8ms/step - loss: 70.8015 - accuracy: 0.0000e+00 - val_loss: 55.0509 - val_accuracy: 0.0000e+00\n",
            "Epoch 40/100\n",
            "6/6 [==============================] - 0s 9ms/step - loss: 70.2434 - accuracy: 0.0000e+00 - val_loss: 60.3715 - val_accuracy: 0.0000e+00\n",
            "Epoch 41/100\n",
            "6/6 [==============================] - 0s 8ms/step - loss: 70.6740 - accuracy: 0.0000e+00 - val_loss: 54.8951 - val_accuracy: 0.0000e+00\n",
            "Epoch 42/100\n",
            "6/6 [==============================] - 0s 8ms/step - loss: 71.1515 - accuracy: 0.0000e+00 - val_loss: 58.1913 - val_accuracy: 0.0000e+00\n",
            "Epoch 43/100\n",
            "6/6 [==============================] - 0s 8ms/step - loss: 69.3560 - accuracy: 0.0000e+00 - val_loss: 54.1033 - val_accuracy: 0.0000e+00\n",
            "Epoch 44/100\n",
            "6/6 [==============================] - 0s 8ms/step - loss: 70.1762 - accuracy: 0.0000e+00 - val_loss: 62.0994 - val_accuracy: 0.0000e+00\n",
            "Epoch 45/100\n",
            "6/6 [==============================] - 0s 9ms/step - loss: 70.0306 - accuracy: 0.0000e+00 - val_loss: 54.1461 - val_accuracy: 0.0000e+00\n",
            "Epoch 46/100\n",
            "6/6 [==============================] - 0s 8ms/step - loss: 69.0911 - accuracy: 0.0000e+00 - val_loss: 58.3499 - val_accuracy: 0.0000e+00\n",
            "Epoch 47/100\n",
            "6/6 [==============================] - 0s 8ms/step - loss: 72.6931 - accuracy: 0.0000e+00 - val_loss: 57.3518 - val_accuracy: 0.0000e+00\n",
            "Epoch 48/100\n",
            "6/6 [==============================] - 0s 8ms/step - loss: 70.9334 - accuracy: 0.0000e+00 - val_loss: 54.0303 - val_accuracy: 0.0000e+00\n",
            "Epoch 49/100\n",
            "6/6 [==============================] - 0s 8ms/step - loss: 71.0286 - accuracy: 0.0000e+00 - val_loss: 65.5716 - val_accuracy: 0.0000e+00\n",
            "Epoch 50/100\n",
            "6/6 [==============================] - 0s 10ms/step - loss: 70.0184 - accuracy: 0.0000e+00 - val_loss: 54.0519 - val_accuracy: 0.0000e+00\n",
            "Epoch 51/100\n",
            "6/6 [==============================] - 0s 8ms/step - loss: 69.4871 - accuracy: 0.0000e+00 - val_loss: 58.0556 - val_accuracy: 0.0000e+00\n",
            "Epoch 52/100\n",
            "6/6 [==============================] - 0s 8ms/step - loss: 69.3529 - accuracy: 0.0000e+00 - val_loss: 55.7265 - val_accuracy: 0.0000e+00\n",
            "Epoch 53/100\n",
            "6/6 [==============================] - 0s 8ms/step - loss: 68.2399 - accuracy: 0.0000e+00 - val_loss: 55.6534 - val_accuracy: 0.0000e+00\n",
            "Epoch 54/100\n",
            "6/6 [==============================] - 0s 9ms/step - loss: 69.3475 - accuracy: 0.0000e+00 - val_loss: 56.9419 - val_accuracy: 0.0000e+00\n",
            "Epoch 55/100\n",
            "6/6 [==============================] - 0s 8ms/step - loss: 69.3913 - accuracy: 0.0000e+00 - val_loss: 54.2206 - val_accuracy: 0.0000e+00\n",
            "Epoch 56/100\n",
            "6/6 [==============================] - 0s 8ms/step - loss: 69.7566 - accuracy: 0.0000e+00 - val_loss: 62.3659 - val_accuracy: 0.0000e+00\n",
            "Epoch 57/100\n",
            "6/6 [==============================] - 0s 9ms/step - loss: 69.6378 - accuracy: 0.0000e+00 - val_loss: 54.1090 - val_accuracy: 0.0000e+00\n",
            "Epoch 58/100\n",
            "6/6 [==============================] - 0s 10ms/step - loss: 68.0238 - accuracy: 0.0000e+00 - val_loss: 58.9704 - val_accuracy: 0.0000e+00\n",
            "Epoch 59/100\n",
            "6/6 [==============================] - 0s 8ms/step - loss: 69.4902 - accuracy: 0.0000e+00 - val_loss: 57.0179 - val_accuracy: 0.0000e+00\n",
            "Epoch 60/100\n",
            "6/6 [==============================] - 0s 8ms/step - loss: 68.5622 - accuracy: 0.0000e+00 - val_loss: 54.1459 - val_accuracy: 0.0000e+00\n",
            "Epoch 61/100\n",
            "6/6 [==============================] - 0s 8ms/step - loss: 71.8591 - accuracy: 0.0000e+00 - val_loss: 61.8942 - val_accuracy: 0.0000e+00\n",
            "Epoch 62/100\n",
            "6/6 [==============================] - 0s 8ms/step - loss: 67.9829 - accuracy: 0.0000e+00 - val_loss: 54.1405 - val_accuracy: 0.0000e+00\n",
            "Epoch 63/100\n",
            "6/6 [==============================] - 0s 8ms/step - loss: 69.9622 - accuracy: 0.0000e+00 - val_loss: 57.9204 - val_accuracy: 0.0000e+00\n",
            "Epoch 64/100\n",
            "6/6 [==============================] - 0s 8ms/step - loss: 68.6052 - accuracy: 0.0000e+00 - val_loss: 56.1318 - val_accuracy: 0.0000e+00\n",
            "Epoch 65/100\n",
            "6/6 [==============================] - 0s 8ms/step - loss: 68.3276 - accuracy: 0.0000e+00 - val_loss: 54.9535 - val_accuracy: 0.0000e+00\n",
            "Epoch 66/100\n",
            "6/6 [==============================] - 0s 8ms/step - loss: 69.3896 - accuracy: 0.0000e+00 - val_loss: 61.1893 - val_accuracy: 0.0000e+00\n",
            "Epoch 67/100\n",
            "6/6 [==============================] - 0s 8ms/step - loss: 69.7405 - accuracy: 0.0000e+00 - val_loss: 54.2382 - val_accuracy: 0.0000e+00\n",
            "Epoch 68/100\n",
            "6/6 [==============================] - 0s 9ms/step - loss: 69.4238 - accuracy: 0.0000e+00 - val_loss: 57.5009 - val_accuracy: 0.0000e+00\n",
            "Epoch 69/100\n",
            "6/6 [==============================] - 0s 9ms/step - loss: 68.8600 - accuracy: 0.0000e+00 - val_loss: 55.6861 - val_accuracy: 0.0000e+00\n",
            "Epoch 70/100\n",
            "6/6 [==============================] - 0s 8ms/step - loss: 69.1320 - accuracy: 0.0000e+00 - val_loss: 56.1633 - val_accuracy: 0.0000e+00\n",
            "Epoch 71/100\n",
            "6/6 [==============================] - 0s 8ms/step - loss: 69.7039 - accuracy: 0.0000e+00 - val_loss: 55.2633 - val_accuracy: 0.0000e+00\n",
            "Epoch 72/100\n",
            "6/6 [==============================] - 0s 8ms/step - loss: 68.8690 - accuracy: 0.0000e+00 - val_loss: 58.6846 - val_accuracy: 0.0000e+00\n",
            "Epoch 73/100\n",
            "6/6 [==============================] - 0s 8ms/step - loss: 70.4872 - accuracy: 0.0000e+00 - val_loss: 55.8419 - val_accuracy: 0.0000e+00\n",
            "Epoch 74/100\n",
            "6/6 [==============================] - 0s 11ms/step - loss: 68.1708 - accuracy: 0.0000e+00 - val_loss: 59.0963 - val_accuracy: 0.0000e+00\n",
            "Epoch 75/100\n",
            "6/6 [==============================] - 0s 10ms/step - loss: 68.3810 - accuracy: 0.0000e+00 - val_loss: 55.1491 - val_accuracy: 0.0000e+00\n",
            "Epoch 76/100\n",
            "6/6 [==============================] - 0s 9ms/step - loss: 68.2503 - accuracy: 0.0000e+00 - val_loss: 55.7622 - val_accuracy: 0.0000e+00\n",
            "Epoch 77/100\n",
            "6/6 [==============================] - 0s 9ms/step - loss: 68.3853 - accuracy: 0.0000e+00 - val_loss: 56.0393 - val_accuracy: 0.0000e+00\n",
            "Epoch 78/100\n",
            "6/6 [==============================] - 0s 8ms/step - loss: 68.6134 - accuracy: 0.0000e+00 - val_loss: 55.7728 - val_accuracy: 0.0000e+00\n",
            "Epoch 79/100\n",
            "6/6 [==============================] - 0s 8ms/step - loss: 67.9513 - accuracy: 0.0000e+00 - val_loss: 56.9030 - val_accuracy: 0.0000e+00\n",
            "Epoch 80/100\n",
            "6/6 [==============================] - 0s 8ms/step - loss: 68.3433 - accuracy: 0.0000e+00 - val_loss: 55.9494 - val_accuracy: 0.0000e+00\n",
            "Epoch 81/100\n",
            "6/6 [==============================] - 0s 8ms/step - loss: 67.7291 - accuracy: 0.0000e+00 - val_loss: 58.3425 - val_accuracy: 0.0000e+00\n",
            "Epoch 82/100\n",
            "6/6 [==============================] - 0s 8ms/step - loss: 69.3022 - accuracy: 0.0000e+00 - val_loss: 55.5562 - val_accuracy: 0.0000e+00\n",
            "Epoch 83/100\n",
            "6/6 [==============================] - 0s 9ms/step - loss: 71.0824 - accuracy: 0.0000e+00 - val_loss: 55.7570 - val_accuracy: 0.0000e+00\n",
            "Epoch 84/100\n",
            "6/6 [==============================] - 0s 8ms/step - loss: 68.1259 - accuracy: 0.0000e+00 - val_loss: 62.5768 - val_accuracy: 0.0000e+00\n",
            "Epoch 85/100\n",
            "6/6 [==============================] - 0s 8ms/step - loss: 68.1459 - accuracy: 0.0000e+00 - val_loss: 54.1971 - val_accuracy: 0.0000e+00\n",
            "Epoch 86/100\n",
            "6/6 [==============================] - 0s 8ms/step - loss: 71.5879 - accuracy: 0.0000e+00 - val_loss: 58.3604 - val_accuracy: 0.0000e+00\n",
            "Epoch 87/100\n",
            "6/6 [==============================] - 0s 8ms/step - loss: 70.5559 - accuracy: 0.0000e+00 - val_loss: 58.9675 - val_accuracy: 0.0000e+00\n",
            "Epoch 88/100\n",
            "6/6 [==============================] - 0s 8ms/step - loss: 68.5843 - accuracy: 0.0000e+00 - val_loss: 54.4842 - val_accuracy: 0.0000e+00\n",
            "Epoch 89/100\n",
            "6/6 [==============================] - 0s 8ms/step - loss: 68.6798 - accuracy: 0.0000e+00 - val_loss: 59.2265 - val_accuracy: 0.0000e+00\n",
            "Epoch 90/100\n",
            "6/6 [==============================] - 0s 9ms/step - loss: 68.6708 - accuracy: 0.0000e+00 - val_loss: 55.6047 - val_accuracy: 0.0000e+00\n",
            "Epoch 91/100\n",
            "6/6 [==============================] - 0s 9ms/step - loss: 68.3357 - accuracy: 0.0000e+00 - val_loss: 55.4339 - val_accuracy: 0.0000e+00\n",
            "Epoch 92/100\n",
            "6/6 [==============================] - 0s 8ms/step - loss: 68.6528 - accuracy: 0.0000e+00 - val_loss: 56.1804 - val_accuracy: 0.0000e+00\n",
            "Epoch 93/100\n",
            "6/6 [==============================] - 0s 8ms/step - loss: 68.1706 - accuracy: 0.0000e+00 - val_loss: 56.9662 - val_accuracy: 0.0000e+00\n",
            "Epoch 94/100\n",
            "6/6 [==============================] - 0s 12ms/step - loss: 69.1249 - accuracy: 0.0000e+00 - val_loss: 57.4356 - val_accuracy: 0.0000e+00\n",
            "Epoch 95/100\n",
            "6/6 [==============================] - 0s 9ms/step - loss: 69.0293 - accuracy: 0.0000e+00 - val_loss: 54.8930 - val_accuracy: 0.0000e+00\n",
            "Epoch 96/100\n",
            "6/6 [==============================] - 0s 8ms/step - loss: 71.0863 - accuracy: 0.0000e+00 - val_loss: 58.5884 - val_accuracy: 0.0000e+00\n",
            "Epoch 97/100\n",
            "6/6 [==============================] - 0s 9ms/step - loss: 69.4709 - accuracy: 0.0000e+00 - val_loss: 54.2439 - val_accuracy: 0.0000e+00\n",
            "Epoch 98/100\n",
            "6/6 [==============================] - 0s 8ms/step - loss: 72.3076 - accuracy: 0.0000e+00 - val_loss: 63.3685 - val_accuracy: 0.0000e+00\n",
            "Epoch 99/100\n",
            "6/6 [==============================] - 0s 11ms/step - loss: 70.4586 - accuracy: 0.0000e+00 - val_loss: 54.2753 - val_accuracy: 0.0000e+00\n",
            "Epoch 100/100\n",
            "6/6 [==============================] - 0s 8ms/step - loss: 69.0712 - accuracy: 0.0000e+00 - val_loss: 61.1045 - val_accuracy: 0.0000e+00\n"
          ]
        },
        {
          "output_type": "execute_result",
          "data": {
            "text/plain": [
              "<keras.callbacks.History at 0x7f5d781d1210>"
            ]
          },
          "metadata": {},
          "execution_count": 78
        }
      ]
    },
    {
      "cell_type": "code",
      "source": [],
      "metadata": {
        "id": "CM8WZIwayPjW"
      },
      "execution_count": null,
      "outputs": []
    }
  ]
}