{
 "cells": [
  {
   "cell_type": "code",
   "execution_count": 12,
   "id": "291dfda1-b6a2-460a-b41b-593b8bb1d40d",
   "metadata": {},
   "outputs": [],
   "source": [
    "import numpy as np\n",
    "import pandas as pd\n",
    "from sklearn.model_selection import train_test_split\n",
    "from sklearn.utils import shuffle\n",
    "import string\n",
    "from string import digits\n",
    "import re\n",
    "import tensorflow as tf\n",
    "keras = tf.keras\n",
    "from keras import Sequential\n",
    "from keras.layers import Dense, LSTM, GRU, Embedding, Dropout, BatchNormalization, Concatenate, TimeDistributed\n",
    "from keras.models import Model\n",
    "from tensorflow.keras.preprocessing.sequence import pad_sequences\n",
    "from keras.preprocessing.text import Tokenizer\n",
    "import random"
   ]
  },
  {
   "cell_type": "code",
   "execution_count": 10,
   "id": "1d70dc8e-be63-4506-ae36-415a10d29d4f",
   "metadata": {},
   "outputs": [
    {
     "name": "stdout",
     "output_type": "stream",
     "text": [
      "[('wow!', 'वाह!'), ('duck!', 'झुको!'), ('duck!', 'बतख़!'), ('help!', 'बचाओ!'), ('jump.', 'उछलो.')]\n"
     ]
    }
   ],
   "source": [
    "pairs = []\n",
    "\n",
    "with open(\"hin.txt\") as f:\n",
    "    for i in f.readlines():\n",
    "        words = i.split('\\t')\n",
    "        pairs.append((words[0].lower(), words[1]))\n",
    "\n",
    "print(pairs[0:5])"
   ]
  },
  {
   "cell_type": "code",
   "execution_count": 13,
   "id": "e8ca1019-21fc-41df-8bff-224f4a0c04a6",
   "metadata": {},
   "outputs": [
    {
     "name": "stdout",
     "output_type": "stream",
     "text": [
      "Total 2979\n",
      "Train 2087\n"
     ]
    }
   ],
   "source": [
    "random.shuffle(pairs)\n",
    "val_samples = int(0.15 * len(pairs))\n",
    "train_samples = len(pairs) - 2 * val_samples\n",
    "\n",
    "train_pairs = pairs[:train_samples]\n",
    "val_pairs = pairs[train_samples:train_samples + val_samples]\n",
    "test_pairs = pairs[train_samples + val_samples:]\n",
    "\n",
    "print(f\"Total {len(pairs)}\")\n",
    "print(f\"Train {len(train_pairs)}\")"
   ]
  },
  {
   "cell_type": "code",
   "execution_count": null,
   "id": "c0b6cb9d-f099-4d46-87b3-edeb4edc30fc",
   "metadata": {},
   "outputs": [],
   "source": [
    "english_text_ = [x.lower() for x in english_text]\n",
    "hindi_text_ = [x.lower() fo r x in hindi_text]\n",
    "\n",
    "english_text_ = [re.sub(\"'\",'',x) for x in english_text_]\n",
    "hindi_text_ = [re.sub(\"'\",'',x) for x in hindi_text_]\n",
    "\n",
    "def remove_punc(text_list):\n",
    "  table = str.maketrans('', '', string.punctuation)\n",
    "  removed_punc_text = []\n",
    "  for sent in text_list:\n",
    "    sentance = [w.translate(table) for w in sent.split(' ')]\n",
    "    removed_punc_text.append(' '.join(sentance))\n",
    "  return removed_punc_text\n",
    "\n",
    "english_text_ = remove_punc(english_text_)\n",
    "hindi_text_ = remove_punc(hindi_text_)\n",
    "\n",
    "remove_digits = str.maketrans('', '', digits)\n",
    "removed_digits_text = []\n",
    "for sent in english_text_:\n",
    "  sentance = [w.translate(remove_digits) for w in sent.split(' ')]\n",
    "  removed_digits_text.append(' '.join(sentance))\n",
    "\n",
    "english_text_ = removed_digits_text\n",
    "hindi_text_ = [re.sub(\"[२३०८१५७९४६]\",\"\",x) for x in hindi_text_]\n",
    "hindi_text_ = [re.sub(\"[\\u200d]\",\"\",x) for x in hindi_text_]\n",
    "\n",
    "english_text_ = [x.strip() for x in english_text_]\n",
    "hindi_text_ = [x.strip() for x in hindi_text_]"
   ]
  }
 ],
 "metadata": {
  "kernelspec": {
   "display_name": "Python 3 (ipykernel)",
   "language": "python",
   "name": "python3"
  },
  "language_info": {
   "codemirror_mode": {
    "name": "ipython",
    "version": 3
   },
   "file_extension": ".py",
   "mimetype": "text/x-python",
   "name": "python",
   "nbconvert_exporter": "python",
   "pygments_lexer": "ipython3",
   "version": "3.11.4"
  }
 },
 "nbformat": 4,
 "nbformat_minor": 5
}
