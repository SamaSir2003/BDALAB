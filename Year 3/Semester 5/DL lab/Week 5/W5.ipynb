{
 "cells": [
  {
   "cell_type": "code",
   "execution_count": 1,
   "id": "4342f60c-f7ef-4de5-a92c-6259ce115cf7",
   "metadata": {},
   "outputs": [
    {
     "name": "stderr",
     "output_type": "stream",
     "text": [
      "2023-08-31 20:52:49.373568: I tensorflow/core/platform/cpu_feature_guard.cc:182] This TensorFlow binary is optimized to use available CPU instructions in performance-critical operations.\n",
      "To enable the following instructions: AVX2 FMA, in other operations, rebuild TensorFlow with the appropriate compiler flags.\n",
      "2023-08-31 20:52:52.857021: W tensorflow/compiler/tf2tensorrt/utils/py_utils.cc:38] TF-TRT Warning: Could not find TensorRT\n"
     ]
    }
   ],
   "source": [
    "import tensorflow as tf\n",
    "keras = tf.keras\n",
    "from keras.layers import SimpleRNN, Dense, Flatten\n",
    "from keras import Sequential, Input\n",
    "import numpy as np\n",
    "import pandas as pd\n",
    "import matplotlib.pyplot as plt\n",
    "import seaborn as sns"
   ]
  },
  {
   "cell_type": "code",
   "execution_count": 2,
   "id": "f1c7e8dc-bbd6-40e9-892a-ab35faa41b8b",
   "metadata": {},
   "outputs": [],
   "source": [
    "def gen_time_series(sample_size: int, n_steps: int):\n",
    "    freq1, freq2, offsets1, offsets2 = np.random.rand(4, sample_size, 1)\n",
    "    time = np.linspace(0, 1, n_steps)\n",
    "    series = 0.5 * np.sin((time - offsets1) * (freq1 * 10 + 10))\n",
    "    series += 0.2 * np.sin((time - offsets2) * (freq2 * 20 + 20))\n",
    "    series += 0.1 * (np.random.rand(sample_size, n_steps) - 0.5)\n",
    "\n",
    "    return series[..., np.newaxis].astype(np.float32)"
   ]
  },
  {
   "cell_type": "code",
   "execution_count": 3,
   "id": "3dc104a4-7e56-4cb0-8f6b-c68ef50e5cb0",
   "metadata": {},
   "outputs": [],
   "source": [
    "data = gen_time_series(10000, 51)"
   ]
  },
  {
   "cell_type": "code",
   "execution_count": 4,
   "id": "d305ab69-54e4-4fb2-9f86-11be4de531dd",
   "metadata": {},
   "outputs": [
    {
     "data": {
      "text/plain": [
       "array([[-0.19207342],\n",
       "       [-0.17525306],\n",
       "       [-0.1815216 ],\n",
       "       [-0.22039606],\n",
       "       [-0.12343376],\n",
       "       [-0.08581077],\n",
       "       [ 0.17670955],\n",
       "       [ 0.4084893 ],\n",
       "       [ 0.5380089 ],\n",
       "       [ 0.659116  ],\n",
       "       [ 0.7142563 ],\n",
       "       [ 0.58313876],\n",
       "       [ 0.39349225],\n",
       "       [ 0.16831467],\n",
       "       [ 0.06830373],\n",
       "       [-0.08398375],\n",
       "       [-0.0411288 ],\n",
       "       [-0.10121907],\n",
       "       [-0.12894028],\n",
       "       [-0.17277212],\n",
       "       [-0.3488574 ],\n",
       "       [-0.42891318],\n",
       "       [-0.5649305 ],\n",
       "       [-0.6568419 ],\n",
       "       [-0.62875456],\n",
       "       [-0.41220278],\n",
       "       [-0.18285133],\n",
       "       [ 0.00484179],\n",
       "       [ 0.19324917],\n",
       "       [ 0.3237057 ],\n",
       "       [ 0.36699268],\n",
       "       [ 0.2913023 ],\n",
       "       [ 0.30983433],\n",
       "       [ 0.332467  ],\n",
       "       [ 0.3181533 ],\n",
       "       [ 0.47357017],\n",
       "       [ 0.53559434],\n",
       "       [ 0.55582786],\n",
       "       [ 0.462842  ],\n",
       "       [ 0.22962232],\n",
       "       [ 0.00897526],\n",
       "       [-0.23376514],\n",
       "       [-0.42377013],\n",
       "       [-0.49744326],\n",
       "       [-0.51802593],\n",
       "       [-0.4640834 ],\n",
       "       [-0.28673092],\n",
       "       [-0.27118856],\n",
       "       [-0.24353215],\n",
       "       [-0.33677945],\n",
       "       [-0.29666665]], dtype=float32)"
      ]
     },
     "execution_count": 4,
     "metadata": {},
     "output_type": "execute_result"
    }
   ],
   "source": [
    "data[0]"
   ]
  },
  {
   "cell_type": "code",
   "execution_count": 5,
   "id": "a1a5f3fb-804a-4208-bbc1-59111956600b",
   "metadata": {},
   "outputs": [
    {
     "data": {
      "text/plain": [
       "array([[[-0.19207342],\n",
       "        [-0.17525306],\n",
       "        [-0.1815216 ],\n",
       "        ...,\n",
       "        [-0.27118856],\n",
       "        [-0.24353215],\n",
       "        [-0.33677945]],\n",
       "\n",
       "       [[ 0.48854834],\n",
       "        [ 0.23283596],\n",
       "        [-0.00730349],\n",
       "        ...,\n",
       "        [-0.4530908 ],\n",
       "        [-0.5089068 ],\n",
       "        [-0.5753812 ]],\n",
       "\n",
       "       [[-0.5506837 ],\n",
       "        [-0.55035186],\n",
       "        [-0.49812248],\n",
       "        ...,\n",
       "        [ 0.3811657 ],\n",
       "        [ 0.24647099],\n",
       "        [ 0.15311971]],\n",
       "\n",
       "       ...,\n",
       "\n",
       "       [[-0.59032387],\n",
       "        [-0.6461003 ],\n",
       "        [-0.6593416 ],\n",
       "        ...,\n",
       "        [ 0.6260169 ],\n",
       "        [ 0.5046025 ],\n",
       "        [ 0.41829357]],\n",
       "\n",
       "       [[ 0.20745422],\n",
       "        [ 0.16865458],\n",
       "        [ 0.14276183],\n",
       "        ...,\n",
       "        [ 0.24837051],\n",
       "        [ 0.2648372 ],\n",
       "        [ 0.24920222]],\n",
       "\n",
       "       [[-0.56470513],\n",
       "        [-0.29233664],\n",
       "        [ 0.00693571],\n",
       "        ...,\n",
       "        [-0.26561105],\n",
       "        [-0.24966209],\n",
       "        [-0.10444074]]], dtype=float32)"
      ]
     },
     "execution_count": 5,
     "metadata": {},
     "output_type": "execute_result"
    }
   ],
   "source": [
    "X = data[:, 0:50]\n",
    "X"
   ]
  },
  {
   "cell_type": "code",
   "execution_count": 6,
   "id": "0751fa51-03a9-4ac7-8c09-a31a3f7313a2",
   "metadata": {},
   "outputs": [
    {
     "data": {
      "text/plain": [
       "array([[-0.29666665],\n",
       "       [-0.5548032 ],\n",
       "       [-0.02663113],\n",
       "       ...,\n",
       "       [ 0.13580354],\n",
       "       [ 0.21837582],\n",
       "       [-0.02939698]], dtype=float32)"
      ]
     },
     "execution_count": 6,
     "metadata": {},
     "output_type": "execute_result"
    }
   ],
   "source": [
    "y = data[:, -1]\n",
    "y"
   ]
  },
  {
   "cell_type": "code",
   "execution_count": 7,
   "id": "dde414a8-d95a-4c36-a5f3-3863f60a4ea2",
   "metadata": {},
   "outputs": [
    {
     "data": {
      "text/plain": [
       "(2000, 50, 1)"
      ]
     },
     "execution_count": 7,
     "metadata": {},
     "output_type": "execute_result"
    }
   ],
   "source": [
    "X_train, X_val, X_test = X[0:7000, :], X[7000:9000, :], X[9000:10000, :]\n",
    "X_val.shape"
   ]
  },
  {
   "cell_type": "code",
   "execution_count": 8,
   "id": "573b1537-1b13-4332-9d2d-268b575f1dc2",
   "metadata": {},
   "outputs": [],
   "source": [
    "y_train, y_val, y_test = y[0:7000, :], y[7000:9000, :], y[9000:10000, :]"
   ]
  },
  {
   "cell_type": "code",
   "execution_count": 9,
   "id": "032162cb-c876-4dac-bf52-67643ca2f998",
   "metadata": {},
   "outputs": [
    {
     "data": {
      "text/plain": [
       "(7000, 1)"
      ]
     },
     "execution_count": 9,
     "metadata": {},
     "output_type": "execute_result"
    }
   ],
   "source": [
    "y_train.shape"
   ]
  },
  {
   "cell_type": "code",
   "execution_count": 10,
   "id": "70677089-75d6-41c6-b61f-4bd43e26f3fa",
   "metadata": {},
   "outputs": [
    {
     "name": "stderr",
     "output_type": "stream",
     "text": [
      "2023-08-31 20:53:00.871657: I tensorflow/compiler/xla/stream_executor/cuda/cuda_gpu_executor.cc:981] could not open file to read NUMA node: /sys/bus/pci/devices/0000:22:00.0/numa_node\n",
      "Your kernel may have been built without NUMA support.\n",
      "2023-08-31 20:53:02.095202: I tensorflow/compiler/xla/stream_executor/cuda/cuda_gpu_executor.cc:981] could not open file to read NUMA node: /sys/bus/pci/devices/0000:22:00.0/numa_node\n",
      "Your kernel may have been built without NUMA support.\n",
      "2023-08-31 20:53:02.095289: I tensorflow/compiler/xla/stream_executor/cuda/cuda_gpu_executor.cc:981] could not open file to read NUMA node: /sys/bus/pci/devices/0000:22:00.0/numa_node\n",
      "Your kernel may have been built without NUMA support.\n",
      "2023-08-31 20:53:02.132795: I tensorflow/compiler/xla/stream_executor/cuda/cuda_gpu_executor.cc:981] could not open file to read NUMA node: /sys/bus/pci/devices/0000:22:00.0/numa_node\n",
      "Your kernel may have been built without NUMA support.\n",
      "2023-08-31 20:53:02.132893: I tensorflow/compiler/xla/stream_executor/cuda/cuda_gpu_executor.cc:981] could not open file to read NUMA node: /sys/bus/pci/devices/0000:22:00.0/numa_node\n",
      "Your kernel may have been built without NUMA support.\n",
      "2023-08-31 20:53:02.132950: I tensorflow/compiler/xla/stream_executor/cuda/cuda_gpu_executor.cc:981] could not open file to read NUMA node: /sys/bus/pci/devices/0000:22:00.0/numa_node\n",
      "Your kernel may have been built without NUMA support.\n",
      "2023-08-31 20:53:02.540201: I tensorflow/compiler/xla/stream_executor/cuda/cuda_gpu_executor.cc:981] could not open file to read NUMA node: /sys/bus/pci/devices/0000:22:00.0/numa_node\n",
      "Your kernel may have been built without NUMA support.\n",
      "2023-08-31 20:53:02.540298: I tensorflow/compiler/xla/stream_executor/cuda/cuda_gpu_executor.cc:981] could not open file to read NUMA node: /sys/bus/pci/devices/0000:22:00.0/numa_node\n",
      "Your kernel may have been built without NUMA support.\n",
      "2023-08-31 20:53:02.540309: I tensorflow/core/common_runtime/gpu/gpu_device.cc:1726] Could not identify NUMA node of platform GPU id 0, defaulting to 0.  Your kernel may not have been built with NUMA support.\n",
      "2023-08-31 20:53:02.540369: I tensorflow/compiler/xla/stream_executor/cuda/cuda_gpu_executor.cc:981] could not open file to read NUMA node: /sys/bus/pci/devices/0000:22:00.0/numa_node\n",
      "Your kernel may have been built without NUMA support.\n",
      "2023-08-31 20:53:02.540428: I tensorflow/core/common_runtime/gpu/gpu_device.cc:1639] Created device /job:localhost/replica:0/task:0/device:GPU:0 with 4714 MB memory:  -> device: 0, name: NVIDIA GeForce GTX 1060 6GB, pci bus id: 0000:22:00.0, compute capability: 6.1\n"
     ]
    },
    {
     "name": "stdout",
     "output_type": "stream",
     "text": [
      "Model: \"sequential\"\n",
      "_________________________________________________________________\n",
      " Layer (type)                Output Shape              Param #   \n",
      "=================================================================\n",
      " flatten (Flatten)           (None, 50)                0         \n",
      "                                                                 \n",
      " dense (Dense)               (None, 1)                 51        \n",
      "                                                                 \n",
      "=================================================================\n",
      "Total params: 51 (204.00 Byte)\n",
      "Trainable params: 51 (204.00 Byte)\n",
      "Non-trainable params: 0 (0.00 Byte)\n",
      "_________________________________________________________________\n"
     ]
    }
   ],
   "source": [
    "fcnn_model = Sequential([\n",
    "    Flatten(input_shape=[50, 1]),\n",
    "    Dense(1)\n",
    "])\n",
    "fcnn_model.summary()"
   ]
  },
  {
   "cell_type": "code",
   "execution_count": 11,
   "id": "0e8c688b-1f9a-4b92-890a-11e0221035c7",
   "metadata": {},
   "outputs": [],
   "source": [
    "fcnn_model.compile(loss=\"mse\", optimizer=\"adam\")"
   ]
  },
  {
   "cell_type": "code",
   "execution_count": 12,
   "id": "9f388b17-c91d-4842-8ccc-b0341b70e1cc",
   "metadata": {},
   "outputs": [
    {
     "name": "stdout",
     "output_type": "stream",
     "text": [
      "Epoch 1/20\n"
     ]
    },
    {
     "name": "stderr",
     "output_type": "stream",
     "text": [
      "2023-08-31 20:53:05.674506: I tensorflow/compiler/xla/service/service.cc:168] XLA service 0x7f3ff40d1330 initialized for platform CUDA (this does not guarantee that XLA will be used). Devices:\n",
      "2023-08-31 20:53:05.674584: I tensorflow/compiler/xla/service/service.cc:176]   StreamExecutor device (0): NVIDIA GeForce GTX 1060 6GB, Compute Capability 6.1\n",
      "2023-08-31 20:53:06.238538: I tensorflow/compiler/mlir/tensorflow/utils/dump_mlir_util.cc:255] disabling MLIR crash reproducer, set env var `MLIR_CRASH_REPRODUCER_DIRECTORY` to enable.\n",
      "2023-08-31 20:53:06.528970: I tensorflow/compiler/xla/stream_executor/cuda/cuda_dnn.cc:432] Loaded cuDNN version 8600\n",
      "2023-08-31 20:53:07.436029: I tensorflow/tsl/platform/default/subprocess.cc:304] Start cannot spawn child process: No such file or directory\n"
     ]
    },
    {
     "name": "stdout",
     "output_type": "stream",
     "text": [
      "  1/219 [..............................] - ETA: 13:09 - loss: 0.6989"
     ]
    },
    {
     "name": "stderr",
     "output_type": "stream",
     "text": [
      "2023-08-31 20:53:07.908476: I ./tensorflow/compiler/jit/device_compiler.h:186] Compiled cluster using XLA!  This line is logged at most once for the lifetime of the process.\n"
     ]
    },
    {
     "name": "stdout",
     "output_type": "stream",
     "text": [
      "219/219 [==============================] - 5s 8ms/step - loss: 0.1789 - val_loss: 0.0656\n",
      "Epoch 2/20\n",
      "219/219 [==============================] - 2s 10ms/step - loss: 0.0459 - val_loss: 0.0349\n",
      "Epoch 3/20\n",
      "219/219 [==============================] - 2s 9ms/step - loss: 0.0285 - val_loss: 0.0251\n",
      "Epoch 4/20\n",
      "219/219 [==============================] - 1s 6ms/step - loss: 0.0216 - val_loss: 0.0201\n",
      "Epoch 5/20\n",
      "219/219 [==============================] - 1s 6ms/step - loss: 0.0177 - val_loss: 0.0169\n",
      "Epoch 6/20\n",
      "219/219 [==============================] - 1s 6ms/step - loss: 0.0150 - val_loss: 0.0145\n",
      "Epoch 7/20\n",
      "219/219 [==============================] - 1s 6ms/step - loss: 0.0130 - val_loss: 0.0126\n",
      "Epoch 8/20\n",
      "219/219 [==============================] - 1s 6ms/step - loss: 0.0113 - val_loss: 0.0110\n",
      "Epoch 9/20\n",
      "219/219 [==============================] - 1s 6ms/step - loss: 0.0099 - val_loss: 0.0096\n",
      "Epoch 10/20\n",
      "219/219 [==============================] - 1s 7ms/step - loss: 0.0086 - val_loss: 0.0084\n",
      "Epoch 11/20\n",
      "219/219 [==============================] - 1s 6ms/step - loss: 0.0076 - val_loss: 0.0074\n",
      "Epoch 12/20\n",
      "219/219 [==============================] - 1s 6ms/step - loss: 0.0067 - val_loss: 0.0066\n",
      "Epoch 13/20\n",
      "219/219 [==============================] - 1s 6ms/step - loss: 0.0060 - val_loss: 0.0060\n",
      "Epoch 14/20\n",
      "219/219 [==============================] - 1s 6ms/step - loss: 0.0055 - val_loss: 0.0055\n",
      "Epoch 15/20\n",
      "219/219 [==============================] - 1s 6ms/step - loss: 0.0050 - val_loss: 0.0051\n",
      "Epoch 16/20\n",
      "219/219 [==============================] - 1s 5ms/step - loss: 0.0047 - val_loss: 0.0048\n",
      "Epoch 17/20\n",
      "219/219 [==============================] - 1s 6ms/step - loss: 0.0045 - val_loss: 0.0046\n",
      "Epoch 18/20\n",
      "219/219 [==============================] - 1s 6ms/step - loss: 0.0043 - val_loss: 0.0044\n",
      "Epoch 19/20\n",
      "219/219 [==============================] - 1s 5ms/step - loss: 0.0041 - val_loss: 0.0042\n",
      "Epoch 20/20\n",
      "219/219 [==============================] - 1s 6ms/step - loss: 0.0040 - val_loss: 0.0041\n"
     ]
    }
   ],
   "source": [
    "fcnn_hist = fcnn_model.fit(X_train, y_train, epochs=20, validation_data=(X_val, y_val))"
   ]
  },
  {
   "cell_type": "code",
   "execution_count": 13,
   "id": "2691c74c",
   "metadata": {},
   "outputs": [
    {
     "name": "stdout",
     "output_type": "stream",
     "text": [
      "32/32 [==============================] - 0s 3ms/step - loss: 0.0038\n"
     ]
    },
    {
     "data": {
      "text/plain": [
       "0.0037785314489156008"
      ]
     },
     "execution_count": 13,
     "metadata": {},
     "output_type": "execute_result"
    }
   ],
   "source": [
    "fcnn_model.evaluate(X_test, y_test)"
   ]
  },
  {
   "cell_type": "code",
   "execution_count": 14,
   "id": "bc2f5aff-e7f6-4a75-8c76-886149d61286",
   "metadata": {},
   "outputs": [
    {
     "name": "stdout",
     "output_type": "stream",
     "text": [
      "Model: \"sequential_1\"\n",
      "_________________________________________________________________\n",
      " Layer (type)                Output Shape              Param #   \n",
      "=================================================================\n",
      " simple_rnn (SimpleRNN)      (None, 1)                 3         \n",
      "                                                                 \n",
      "=================================================================\n",
      "Total params: 3 (12.00 Byte)\n",
      "Trainable params: 3 (12.00 Byte)\n",
      "Non-trainable params: 0 (0.00 Byte)\n",
      "_________________________________________________________________\n"
     ]
    }
   ],
   "source": [
    "rnn1_model = Sequential([\n",
    "    Input((50, 1)),\n",
    "    SimpleRNN(1)\n",
    "])\n",
    "rnn1_model.summary()"
   ]
  },
  {
   "cell_type": "code",
   "execution_count": 15,
   "id": "59962ec9-e296-4c4c-b6ec-f9273ea9aa04",
   "metadata": {},
   "outputs": [],
   "source": [
    "rnn1_model.compile(loss=\"mse\", optimizer=\"adam\", metrics=['accuracy'])"
   ]
  },
  {
   "cell_type": "code",
   "execution_count": 16,
   "id": "14a55428",
   "metadata": {},
   "outputs": [
    {
     "name": "stdout",
     "output_type": "stream",
     "text": [
      "Epoch 1/20\n",
      "219/219 [==============================] - 24s 103ms/step - loss: 0.0181 - accuracy: 0.0000e+00 - val_loss: 0.0143 - val_accuracy: 0.0000e+00\n",
      "Epoch 2/20\n",
      "219/219 [==============================] - 22s 102ms/step - loss: 0.0125 - accuracy: 0.0000e+00 - val_loss: 0.0120 - val_accuracy: 0.0000e+00\n",
      "Epoch 3/20\n",
      "219/219 [==============================] - 22s 100ms/step - loss: 0.0115 - accuracy: 0.0000e+00 - val_loss: 0.0117 - val_accuracy: 0.0000e+00\n",
      "Epoch 4/20\n",
      "219/219 [==============================] - 22s 101ms/step - loss: 0.0113 - accuracy: 0.0000e+00 - val_loss: 0.0116 - val_accuracy: 0.0000e+00\n",
      "Epoch 5/20\n",
      "219/219 [==============================] - 22s 102ms/step - loss: 0.0113 - accuracy: 0.0000e+00 - val_loss: 0.0116 - val_accuracy: 0.0000e+00\n",
      "Epoch 6/20\n",
      "219/219 [==============================] - 22s 102ms/step - loss: 0.0113 - accuracy: 0.0000e+00 - val_loss: 0.0116 - val_accuracy: 0.0000e+00\n",
      "Epoch 7/20\n",
      "219/219 [==============================] - 23s 106ms/step - loss: 0.0112 - accuracy: 0.0000e+00 - val_loss: 0.0116 - val_accuracy: 0.0000e+00\n",
      "Epoch 8/20\n",
      "219/219 [==============================] - 22s 103ms/step - loss: 0.0112 - accuracy: 0.0000e+00 - val_loss: 0.0115 - val_accuracy: 0.0000e+00\n",
      "Epoch 9/20\n",
      "219/219 [==============================] - 22s 101ms/step - loss: 0.0112 - accuracy: 0.0000e+00 - val_loss: 0.0115 - val_accuracy: 0.0000e+00\n",
      "Epoch 10/20\n",
      "219/219 [==============================] - 23s 106ms/step - loss: 0.0112 - accuracy: 0.0000e+00 - val_loss: 0.0115 - val_accuracy: 0.0000e+00\n",
      "Epoch 11/20\n",
      "219/219 [==============================] - 22s 101ms/step - loss: 0.0112 - accuracy: 0.0000e+00 - val_loss: 0.0115 - val_accuracy: 0.0000e+00\n",
      "Epoch 12/20\n",
      "219/219 [==============================] - 23s 104ms/step - loss: 0.0112 - accuracy: 0.0000e+00 - val_loss: 0.0115 - val_accuracy: 0.0000e+00\n",
      "Epoch 13/20\n",
      "219/219 [==============================] - 23s 104ms/step - loss: 0.0112 - accuracy: 0.0000e+00 - val_loss: 0.0115 - val_accuracy: 0.0000e+00\n",
      "Epoch 14/20\n",
      "219/219 [==============================] - 23s 103ms/step - loss: 0.0112 - accuracy: 0.0000e+00 - val_loss: 0.0115 - val_accuracy: 0.0000e+00\n",
      "Epoch 15/20\n",
      "219/219 [==============================] - 23s 106ms/step - loss: 0.0112 - accuracy: 0.0000e+00 - val_loss: 0.0115 - val_accuracy: 0.0000e+00\n",
      "Epoch 16/20\n",
      "219/219 [==============================] - 23s 104ms/step - loss: 0.0112 - accuracy: 0.0000e+00 - val_loss: 0.0115 - val_accuracy: 0.0000e+00\n",
      "Epoch 17/20\n",
      "219/219 [==============================] - 22s 102ms/step - loss: 0.0112 - accuracy: 0.0000e+00 - val_loss: 0.0115 - val_accuracy: 0.0000e+00\n",
      "Epoch 18/20\n",
      "219/219 [==============================] - 23s 105ms/step - loss: 0.0112 - accuracy: 0.0000e+00 - val_loss: 0.0115 - val_accuracy: 0.0000e+00\n",
      "Epoch 19/20\n",
      "219/219 [==============================] - 24s 109ms/step - loss: 0.0112 - accuracy: 0.0000e+00 - val_loss: 0.0115 - val_accuracy: 0.0000e+00\n",
      "Epoch 20/20\n",
      "219/219 [==============================] - 22s 101ms/step - loss: 0.0112 - accuracy: 0.0000e+00 - val_loss: 0.0116 - val_accuracy: 0.0000e+00\n"
     ]
    }
   ],
   "source": [
    "rnn1_hist = rnn1_model.fit(X_train, y_train, epochs=20, validation_data=(X_val, y_val))"
   ]
  },
  {
   "cell_type": "code",
   "execution_count": 17,
   "id": "b6d08d07",
   "metadata": {},
   "outputs": [
    {
     "name": "stdout",
     "output_type": "stream",
     "text": [
      "32/32 [==============================] - 0s 15ms/step - loss: 0.0111 - accuracy: 0.0000e+00\n"
     ]
    },
    {
     "data": {
      "text/plain": [
       "[0.011060044169425964, 0.0]"
      ]
     },
     "execution_count": 17,
     "metadata": {},
     "output_type": "execute_result"
    }
   ],
   "source": [
    "rnn1_model.evaluate(X_test, y_test)"
   ]
  },
  {
   "cell_type": "code",
   "execution_count": 18,
   "id": "5b3760f0",
   "metadata": {},
   "outputs": [
    {
     "name": "stdout",
     "output_type": "stream",
     "text": [
      "Model: \"sequential_2\"\n",
      "_________________________________________________________________\n",
      " Layer (type)                Output Shape              Param #   \n",
      "=================================================================\n",
      " simple_rnn_1 (SimpleRNN)    (None, 50, 1)             3         \n",
      "                                                                 \n",
      " simple_rnn_2 (SimpleRNN)    (None, 1)                 3         \n",
      "                                                                 \n",
      "=================================================================\n",
      "Total params: 6 (24.00 Byte)\n",
      "Trainable params: 6 (24.00 Byte)\n",
      "Non-trainable params: 0 (0.00 Byte)\n",
      "_________________________________________________________________\n"
     ]
    }
   ],
   "source": [
    "rnn2_model = Sequential([\n",
    "    Input((50, 1)),\n",
    "    SimpleRNN(1, return_sequences=True),\n",
    "    SimpleRNN(1)\n",
    "])\n",
    "rnn2_model.summary()"
   ]
  },
  {
   "cell_type": "code",
   "execution_count": 19,
   "id": "3773e30a",
   "metadata": {},
   "outputs": [],
   "source": [
    "rnn2_model.compile(loss=\"mse\", optimizer=\"adam\")"
   ]
  },
  {
   "cell_type": "code",
   "execution_count": 20,
   "id": "e7bd1310",
   "metadata": {},
   "outputs": [
    {
     "name": "stdout",
     "output_type": "stream",
     "text": [
      "Epoch 1/20\n",
      "219/219 [==============================] - 55s 241ms/step - loss: 0.1444 - val_loss: 0.1438\n",
      "Epoch 2/20\n",
      "219/219 [==============================] - 53s 243ms/step - loss: 0.1414 - val_loss: 0.1451\n",
      "Epoch 3/20\n",
      "219/219 [==============================] - 52s 238ms/step - loss: 0.1403 - val_loss: 0.1442\n",
      "Epoch 4/20\n",
      "219/219 [==============================] - 52s 239ms/step - loss: 0.1403 - val_loss: 0.1424\n",
      "Epoch 5/20\n",
      "219/219 [==============================] - 52s 236ms/step - loss: 0.1405 - val_loss: 0.1427\n",
      "Epoch 6/20\n",
      "219/219 [==============================] - 52s 237ms/step - loss: 0.1406 - val_loss: 0.1439\n",
      "Epoch 7/20\n",
      "219/219 [==============================] - 51s 233ms/step - loss: 0.1403 - val_loss: 0.1425\n",
      "Epoch 8/20\n",
      "219/219 [==============================] - 50s 229ms/step - loss: 0.1403 - val_loss: 0.1423\n",
      "Epoch 9/20\n",
      "219/219 [==============================] - 52s 235ms/step - loss: 0.1407 - val_loss: 0.1422\n",
      "Epoch 10/20\n",
      "219/219 [==============================] - 51s 231ms/step - loss: 0.1396 - val_loss: 0.1428\n",
      "Epoch 11/20\n",
      "219/219 [==============================] - 49s 222ms/step - loss: 0.1398 - val_loss: 0.1453\n",
      "Epoch 12/20\n",
      "219/219 [==============================] - 52s 237ms/step - loss: 0.1397 - val_loss: 0.1422\n",
      "Epoch 13/20\n",
      "189/219 [========================>.....] - ETA: 6s - loss: 0.1407"
     ]
    }
   ],
   "source": [
    "rnn2_hist = rnn2_model.fit(X_train, y_train, epochs=20, validation_data=(X_val, y_val))"
   ]
  },
  {
   "cell_type": "code",
   "execution_count": null,
   "id": "e968b43a",
   "metadata": {},
   "outputs": [
    {
     "name": "stdout",
     "output_type": "stream",
     "text": [
      "32/32 [==============================] - 1s 23ms/step - loss: 0.0095\n"
     ]
    },
    {
     "data": {
      "text/plain": [
       "0.009496123529970646"
      ]
     },
     "execution_count": 26,
     "metadata": {},
     "output_type": "execute_result"
    }
   ],
   "source": [
    "rnn2_model.evaluate(X_test, y_test)"
   ]
  },
  {
   "cell_type": "code",
   "execution_count": null,
   "id": "9a8105f0",
   "metadata": {},
   "outputs": [],
   "source": [
    "rnn3_model = Sequential([\n",
    "    Input((50, 1)),\n",
    "    SimpleRNN(1, return_sequences=True),\n",
    "    SimpleRNN(1, return_sequences=True),\n",
    "    SimpleRNN(1)\n",
    "])\n",
    "rnn3_model.summary()"
   ]
  },
  {
   "cell_type": "code",
   "execution_count": null,
   "id": "09564e54",
   "metadata": {},
   "outputs": [],
   "source": [
    "rnn3_model.compile(loss=\"mse\", optimizer=\"adam\")"
   ]
  },
  {
   "cell_type": "code",
   "execution_count": null,
   "id": "e1f20b6b",
   "metadata": {},
   "outputs": [],
   "source": [
    "rnn3_hist = rnn3_model.fit(X_train, y_train, epochs=20, validation_data=(X_val, y_val))"
   ]
  }
 ],
 "metadata": {
  "kernelspec": {
   "display_name": "Python 3 (ipykernel)",
   "language": "python",
   "name": "python3"
  },
  "language_info": {
   "codemirror_mode": {
    "name": "ipython",
    "version": 3
   },
   "file_extension": ".py",
   "mimetype": "text/x-python",
   "name": "python",
   "nbconvert_exporter": "python",
   "pygments_lexer": "ipython3",
   "version": "3.11.4"
  }
 },
 "nbformat": 4,
 "nbformat_minor": 5
}
