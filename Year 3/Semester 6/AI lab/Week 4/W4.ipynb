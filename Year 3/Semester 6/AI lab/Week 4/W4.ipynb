{
 "cells": [
  {
   "cell_type": "code",
   "execution_count": 4,
   "id": "f61135cc-f84c-4197-82e5-49ed35d52feb",
   "metadata": {},
   "outputs": [],
   "source": [
    "import os\n",
    "import numpy as np\n",
    "import re\n",
    "import pandas as pd\n",
    "import scipy as sp\n",
    "import random\n",
    "import math"
   ]
  },
  {
   "cell_type": "markdown",
   "id": "848ec1e2-deb0-43b2-8345-d986cecb5474",
   "metadata": {},
   "source": [
    "## Read and parse TSP data  "
   ]
  },
  {
   "cell_type": "code",
   "execution_count": 5,
   "id": "4a325512-87db-494a-a4b5-477149cf1127",
   "metadata": {},
   "outputs": [],
   "source": [
    "data = {}\n",
    "for file in os.listdir('data'):\n",
    "    with open(f'data/{file}') as f:\n",
    "        name = f.readline().strip().split(' : ')[1]\n",
    "        dim = f.readline().strip().split(' : ')[1]\n",
    "\n",
    "        raw = f.readlines()\n",
    "        raw = [list(map(float, re.split(r\"\\s+\", line.strip()))) for line in raw]\n",
    "\n",
    "        data[name] = raw"
   ]
  },
  {
   "cell_type": "code",
   "execution_count": 6,
   "id": "14490988-ec16-4731-9c4b-e1c533e1fc53",
   "metadata": {},
   "outputs": [],
   "source": [
    "keys = data.keys()"
   ]
  },
  {
   "cell_type": "markdown",
   "id": "bfdf4db8-2260-417a-8771-d2fb97963192",
   "metadata": {},
   "source": [
    "## a) Create distance matrix"
   ]
  },
  {
   "cell_type": "code",
   "execution_count": 7,
   "id": "10719657-966b-4e8e-adea-c3ce78ba844d",
   "metadata": {},
   "outputs": [],
   "source": [
    "matrices = dict.fromkeys(keys, [])\n",
    "\n",
    "for key in keys:\n",
    "    dist = sp.spatial.distance_matrix(data[key], data[key])\n",
    "    matrices[key] = dist"
   ]
  },
  {
   "cell_type": "markdown",
   "id": "078eeb42-f70e-45a7-b1c5-998e5771b313",
   "metadata": {},
   "source": [
    "## Define Simple and Stochastic Hill Climbing algorithms"
   ]
  },
  {
   "cell_type": "code",
   "execution_count": 8,
   "id": "131a9890-3104-4038-a21d-f956419aa9b3",
   "metadata": {},
   "outputs": [],
   "source": [
    "def generate_initial_tour(num_cities):\n",
    "    tour = list(range(num_cities))\n",
    "    random.shuffle(tour)\n",
    "    return tour\n",
    "\n",
    "def calculate_tour_length(tour, distances):\n",
    "    length = 0\n",
    "    for i in range(len(tour) - 1):\n",
    "        length += distances[tour[i]][tour[i + 1]]\n",
    "    length += distances[tour[-1]][tour[0]]\n",
    "    return length\n",
    "\n",
    "def get_neighbor(tour):\n",
    "    i, j = random.sample(range(len(tour)), 2)\n",
    "    tour[i], tour[j] = tour[j], tour[i]\n",
    "    return tour\n",
    "\n",
    "def simple_hill_climb(distances):\n",
    "    num_cities = len(distances)\n",
    "    current_tour = generate_initial_tour(num_cities)\n",
    "    current_length = calculate_tour_length(current_tour, distances)\n",
    "\n",
    "    for _ in range(10000):\n",
    "        neighbor = get_neighbor(current_tour.copy())\n",
    "        neighbor_length = calculate_tour_length(neighbor, distances)\n",
    "\n",
    "        if neighbor_length < current_length:\n",
    "            current_tour = neighbor\n",
    "            current_length = neighbor_length\n",
    "\n",
    "    return current_tour, current_length\n",
    "\n",
    "def stochastic_hill_climb(distances):\n",
    "    num_cities = len(distances)\n",
    "    current_tour = generate_initial_tour(num_cities)\n",
    "    current_length = calculate_tour_length(current_tour, distances)\n",
    "    temperature = 1.0\n",
    "\n",
    "    for _ in range(10000):\n",
    "        neighbor = get_neighbor(current_tour.copy())\n",
    "        neighbor_length = calculate_tour_length(neighbor, distances)\n",
    "\n",
    "        delta_length = neighbor_length - current_length\n",
    "        if delta_length < 0 or random.random() < pow(math.e, -(delta_length / temperature)):\n",
    "            current_tour = neighbor\n",
    "            current_length = neighbor_length\n",
    "\n",
    "        temperature *= 0.95\n",
    "\n",
    "    return current_tour, current_length"
   ]
  },
  {
   "cell_type": "markdown",
   "id": "7a096ff5-5c3d-4da2-9aba-7d4fd0cccfd2",
   "metadata": {},
   "source": [
    "## b) Run the algorithms on generated matrices"
   ]
  },
  {
   "cell_type": "code",
   "execution_count": 9,
   "id": "1c222006-619f-4187-8001-8a6219b6d885",
   "metadata": {},
   "outputs": [
    {
     "name": "stdout",
     "output_type": "stream",
     "text": [
      "a280\n",
      "\n",
      "Simple Hill Climb\n",
      "Tour: [68, 14, 20, 2, 5, 93, 30, 44, 43, 33, 6, 41, 23, 24, 42, 39, 83, 87, 97, 46, 56, 51, 95, 38, 54, 35, 48, 74, 3, 31, 77, 19, 32, 63, 60, 4, 80, 21, 50, 13, 11, 73, 72, 37, 25, 8, 59, 0, 17, 61, 86, 84, 81, 96, 85, 62, 66, 12, 9, 26, 55, 49, 45, 36, 18, 75, 65, 22, 34, 28, 99, 7, 70, 67, 82, 79, 64, 47, 29, 40, 10, 91, 16, 71, 69, 53, 27, 76, 92, 58, 94, 78, 98, 15, 1, 88, 57, 52, 90, 89]\n",
      "Length: 17504.848196283514\n",
      "\n",
      "Stochastic Hill Climb\n",
      "Tour: [73, 37, 72, 53, 69, 71, 16, 19, 78, 5, 65, 83, 87, 94, 92, 36, 27, 76, 58, 75, 44, 51, 10, 33, 6, 41, 4, 80, 89, 17, 61, 86, 13, 11, 3, 2, 32, 9, 63, 90, 82, 67, 70, 59, 20, 74, 81, 84, 85, 96, 62, 48, 97, 15, 99, 23, 24, 42, 39, 43, 34, 28, 38, 95, 54, 60, 12, 14, 0, 7, 64, 21, 40, 35, 56, 46, 49, 45, 55, 26, 79, 29, 47, 50, 68, 66, 98, 52, 93, 30, 22, 1, 88, 57, 18, 91, 25, 8, 31, 77]\n",
      "Length: 16226.53116448578\n",
      "\n",
      "\n",
      "\n",
      "ch150\n",
      "\n",
      "Simple Hill Climb\n",
      "Tour: [97, 44, 43, 34, 28, 95, 99, 46, 98, 11, 13, 74, 20, 81, 84, 14, 67, 29, 23, 24, 42, 41, 40, 21, 33, 38, 54, 39, 6, 60, 31, 8, 55, 92, 57, 87, 75, 76, 27, 18, 53, 37, 71, 69, 16, 9, 52, 78, 5, 65, 83, 30, 15, 12, 85, 96, 90, 79, 47, 64, 82, 70, 59, 61, 17, 0, 7, 86, 32, 26, 72, 77, 3, 48, 63, 51, 22, 1, 88, 36, 45, 49, 91, 73, 25, 19, 2, 10, 4, 80, 50, 89, 68, 62, 66, 35, 56, 93, 58, 94]\n",
      "Length: 16800.678144115678\n",
      "\n",
      "Stochastic Hill Climb\n",
      "Tour: [40, 6, 39, 54, 28, 34, 1, 22, 43, 99, 44, 15, 5, 26, 91, 32, 9, 94, 92, 57, 88, 87, 83, 30, 75, 65, 10, 60, 38, 95, 51, 97, 93, 56, 46, 35, 42, 24, 23, 89, 12, 20, 31, 8, 25, 19, 73, 77, 2, 3, 81, 74, 85, 86, 61, 17, 0, 7, 68, 66, 96, 62, 14, 59, 70, 67, 50, 82, 64, 79, 80, 78, 36, 18, 53, 69, 71, 16, 11, 13, 84, 48, 63, 98, 52, 58, 76, 27, 55, 49, 72, 37, 45, 90, 4, 33, 41, 29, 47, 21]\n",
      "Length: 15406.016653614866\n",
      "\n",
      "\n",
      "\n",
      "d198\n",
      "\n",
      "Simple Hill Climb\n",
      "Tour: [98, 46, 52, 5, 18, 53, 69, 71, 89, 50, 47, 29, 21, 4, 12, 3, 25, 19, 64, 79, 80, 90, 2, 77, 73, 75, 87, 83, 57, 58, 27, 92, 94, 76, 30, 88, 99, 60, 10, 51, 44, 15, 56, 61, 86, 13, 11, 84, 74, 48, 63, 35, 40, 23, 24, 42, 54, 1, 22, 34, 28, 95, 38, 33, 82, 67, 68, 59, 14, 81, 91, 55, 36, 65, 43, 39, 41, 6, 97, 93, 9, 32, 26, 49, 45, 31, 20, 66, 96, 85, 62, 0, 7, 70, 17, 8, 16, 37, 72, 78]\n",
      "Length: 18849.448741141783\n",
      "\n",
      "Stochastic Hill Climb\n",
      "Tour: [85, 66, 94, 92, 76, 90, 47, 67, 70, 61, 86, 17, 0, 59, 11, 25, 73, 19, 77, 33, 42, 24, 23, 41, 39, 54, 38, 95, 48, 20, 74, 98, 52, 46, 60, 80, 79, 29, 21, 6, 99, 43, 30, 97, 2, 12, 14, 62, 84, 81, 26, 55, 45, 49, 72, 91, 16, 8, 13, 3, 31, 32, 9, 78, 93, 56, 10, 4, 40, 35, 51, 44, 15, 34, 28, 22, 1, 88, 36, 18, 53, 69, 71, 37, 27, 58, 65, 83, 87, 57, 75, 5, 63, 64, 82, 89, 50, 7, 68, 96]\n",
      "Length: 17218.42955924084\n",
      "\n",
      "\n",
      "\n",
      "eil101\n",
      "\n",
      "Simple Hill Climb\n",
      "Tour: [28, 99, 33, 47, 89, 82, 50, 64, 4, 10, 60, 21, 40, 29, 80, 90, 66, 96, 85, 62, 12, 6, 39, 54, 34, 22, 1, 43, 56, 74, 20, 11, 13, 48, 35, 51, 44, 15, 93, 97, 36, 26, 91, 25, 8, 77, 31, 3, 2, 98, 78, 52, 5, 55, 32, 9, 19, 73, 71, 69, 37, 16, 49, 45, 72, 53, 18, 27, 94, 65, 87, 57, 75, 92, 76, 58, 88, 83, 30, 46, 63, 68, 0, 7, 14, 81, 84, 86, 61, 17, 59, 67, 70, 79, 41, 23, 42, 24, 38, 95]\n",
      "Length: 15428.667967583619\n",
      "\n",
      "Stochastic Hill Climb\n",
      "Tour: [87, 57, 58, 94, 27, 36, 18, 53, 26, 33, 39, 41, 42, 24, 23, 6, 40, 21, 82, 50, 81, 84, 11, 13, 3, 8, 25, 32, 56, 51, 10, 43, 34, 22, 1, 88, 92, 76, 91, 19, 73, 77, 89, 64, 79, 60, 54, 95, 38, 28, 99, 44, 37, 69, 71, 16, 46, 80, 29, 47, 68, 66, 62, 14, 86, 17, 61, 0, 59, 7, 70, 67, 2, 9, 72, 45, 49, 55, 78, 52, 98, 97, 65, 75, 93, 12, 63, 90, 4, 35, 48, 20, 96, 85, 74, 31, 5, 15, 30, 83]\n",
      "Length: 17026.693737014568\n",
      "\n",
      "\n",
      "\n",
      "rd100\n",
      "\n",
      "Simple Hill Climb\n",
      "Tour: [66, 98, 52, 46, 35, 51, 99, 43, 22, 30, 93, 78, 60, 40, 41, 39, 54, 44, 65, 58, 27, 36, 3, 74, 20, 0, 17, 61, 86, 85, 96, 62, 64, 82, 50, 89, 68, 5, 56, 15, 1, 88, 57, 18, 73, 25, 31, 84, 81, 63, 33, 6, 95, 34, 28, 38, 10, 4, 21, 80, 90, 79, 29, 7, 13, 11, 8, 71, 69, 16, 19, 77, 42, 24, 23, 47, 67, 70, 59, 14, 12, 97, 83, 87, 75, 92, 76, 94, 32, 9, 26, 55, 45, 49, 72, 53, 37, 91, 2, 48]\n",
      "Length: 18128.531927523287\n",
      "\n",
      "Stochastic Hill Climb\n",
      "Tour: [97, 93, 78, 26, 91, 72, 49, 45, 55, 18, 92, 76, 52, 60, 21, 29, 90, 63, 46, 32, 19, 77, 62, 14, 61, 17, 86, 68, 70, 67, 82, 50, 47, 23, 24, 42, 41, 40, 80, 79, 64, 35, 56, 51, 33, 4, 89, 7, 0, 59, 66, 85, 20, 48, 15, 44, 43, 83, 30, 5, 53, 37, 71, 69, 16, 73, 84, 74, 9, 36, 27, 58, 22, 1, 88, 57, 75, 94, 98, 12, 96, 81, 13, 11, 8, 25, 31, 3, 2, 10, 99, 95, 54, 39, 6, 38, 28, 34, 87, 65]\n",
      "Length: 16205.218311375702\n",
      "\n",
      "\n",
      "\n"
     ]
    }
   ],
   "source": [
    "final = {\"Dataset\": [], \"Nodes explored\": [] ,\"Simple Hill Climb cost\": [], \"Stochastic Hill Climb cost\": []}\n",
    "for key, val in data.items():\n",
    "    print(key)\n",
    "    print()\n",
    "    print(\"Simple Hill Climb\")\n",
    "    tour, shc_length = simple_hill_climb(matrices['rd100'])\n",
    "    print(f\"Tour: {tour}\\nLength: {shc_length}\")\n",
    "    print()\n",
    "    print(\"Stochastic Hill Climb\")\n",
    "    tour, sthc_length = stochastic_hill_climb(matrices['rd100'])\n",
    "    print(f\"Tour: {tour}\\nLength: {sthc_length}\")\n",
    "    print(\"\\n\\n\")\n",
    "\n",
    "    final[\"Dataset\"].append(key)\n",
    "    final[\"Nodes explored\"].append(len(tour))\n",
    "    final[\"Simple Hill Climb cost\"].append(shc_length)\n",
    "    final[\"Stochastic Hill Climb cost\"].append(sthc_length)"
   ]
  },
  {
   "cell_type": "markdown",
   "id": "1ffcbee7-7194-4e35-bc99-a7b97c1e6538",
   "metadata": {},
   "source": [
    "## c) Tabulate resultant tour length and cost data"
   ]
  },
  {
   "cell_type": "code",
   "execution_count": 10,
   "id": "dbfedf03-1516-4ba9-899e-e2b025e81c44",
   "metadata": {},
   "outputs": [],
   "source": [
    "df = pd.DataFrame(final)"
   ]
  },
  {
   "cell_type": "code",
   "execution_count": 11,
   "id": "b4d389f9-9fee-41d7-a3c3-1d51b1b31b87",
   "metadata": {},
   "outputs": [
    {
     "data": {
      "text/html": [
       "<div>\n",
       "<style scoped>\n",
       "    .dataframe tbody tr th:only-of-type {\n",
       "        vertical-align: middle;\n",
       "    }\n",
       "\n",
       "    .dataframe tbody tr th {\n",
       "        vertical-align: top;\n",
       "    }\n",
       "\n",
       "    .dataframe thead th {\n",
       "        text-align: right;\n",
       "    }\n",
       "</style>\n",
       "<table border=\"1\" class=\"dataframe\">\n",
       "  <thead>\n",
       "    <tr style=\"text-align: right;\">\n",
       "      <th></th>\n",
       "      <th>Dataset</th>\n",
       "      <th>Nodes explored</th>\n",
       "      <th>Simple Hill Climb cost</th>\n",
       "      <th>Stochastic Hill Climb cost</th>\n",
       "    </tr>\n",
       "  </thead>\n",
       "  <tbody>\n",
       "    <tr>\n",
       "      <th>0</th>\n",
       "      <td>a280</td>\n",
       "      <td>100</td>\n",
       "      <td>17504.848196</td>\n",
       "      <td>16226.531164</td>\n",
       "    </tr>\n",
       "    <tr>\n",
       "      <th>1</th>\n",
       "      <td>ch150</td>\n",
       "      <td>100</td>\n",
       "      <td>16800.678144</td>\n",
       "      <td>15406.016654</td>\n",
       "    </tr>\n",
       "    <tr>\n",
       "      <th>2</th>\n",
       "      <td>d198</td>\n",
       "      <td>100</td>\n",
       "      <td>18849.448741</td>\n",
       "      <td>17218.429559</td>\n",
       "    </tr>\n",
       "    <tr>\n",
       "      <th>3</th>\n",
       "      <td>eil101</td>\n",
       "      <td>100</td>\n",
       "      <td>15428.667968</td>\n",
       "      <td>17026.693737</td>\n",
       "    </tr>\n",
       "    <tr>\n",
       "      <th>4</th>\n",
       "      <td>rd100</td>\n",
       "      <td>100</td>\n",
       "      <td>18128.531928</td>\n",
       "      <td>16205.218311</td>\n",
       "    </tr>\n",
       "  </tbody>\n",
       "</table>\n",
       "</div>"
      ],
      "text/plain": [
       "  Dataset  Nodes explored  Simple Hill Climb cost  Stochastic Hill Climb cost\n",
       "0    a280             100            17504.848196                16226.531164\n",
       "1   ch150             100            16800.678144                15406.016654\n",
       "2    d198             100            18849.448741                17218.429559\n",
       "3  eil101             100            15428.667968                17026.693737\n",
       "4   rd100             100            18128.531928                16205.218311"
      ]
     },
     "execution_count": 11,
     "metadata": {},
     "output_type": "execute_result"
    }
   ],
   "source": [
    "df"
   ]
  }
 ],
 "metadata": {
  "kernelspec": {
   "display_name": "Python 3 (ipykernel)",
   "language": "python",
   "name": "python3"
  },
  "language_info": {
   "codemirror_mode": {
    "name": "ipython",
    "version": 3
   },
   "file_extension": ".py",
   "mimetype": "text/x-python",
   "name": "python",
   "nbconvert_exporter": "python",
   "pygments_lexer": "ipython3",
   "version": "3.12.1"
  }
 },
 "nbformat": 4,
 "nbformat_minor": 5
}
